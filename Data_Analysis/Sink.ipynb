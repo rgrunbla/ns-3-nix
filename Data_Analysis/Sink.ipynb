{
 "cells": [
  {
   "cell_type": "code",
   "execution_count": 38,
   "metadata": {},
   "outputs": [],
   "source": [
    "import pandas as pd\n",
    "import numpy as np\n",
    "import matplotlib.pyplot as plt\n",
    "import glob \n",
    "import os\n",
    "import plotly.graph_objects as go\n",
    "import plotly.express as px\n",
    "import plotly\n",
    "plotly.io.orca.config.executable = str(pathlib.Path().absolute()) + '/bins/orca'\n",
    "print(plotly.io.orca.config.executable)"
   ]
  },
  {
   "cell_type": "code",
   "execution_count": 39,
   "metadata": {},
   "outputs": [
    {
     "name": "stdout",
     "output_type": "stream",
     "text": [
      "720\n"
     ]
    }
   ],
   "source": [
    "filenames = list(glob.iglob(\"../OUTPUT/Sink/*.csv\"))\n",
    "print(len(filenames))"
   ]
  },
  {
   "cell_type": "code",
   "execution_count": 25,
   "metadata": {},
   "outputs": [],
   "source": [
    "pd_dataframes = {'continuous': [], 'phi': [], 'summary': [], 'positions': [], 'initialpositions': [], 'finished': [], 'lost': []}\n",
    "for filename in filenames:\n",
    "    full_path = os.path.abspath(filename)\n",
    "    path = os.path.dirname(full_path)\n",
    "    basename = os.path.basename(filename)\n",
    "    finished_filename = path + \"/\" + \"finished_\" + \"_\".join(basename.split(\"_\")[1:])\n",
    "    #if not os.path.isfile(finished_filename):\n",
    "    #    print(\"%s does not exist ! \" % os.path.basename(finished_filename))\n",
    "    #    print(\"%s does exist\" % basename)\n",
    "    #    continue\n",
    "    try:\n",
    "        data_file_delimiter = ','\n",
    "        header = []\n",
    "        with open(full_path, 'r') as temp_f:\n",
    "            header = temp_f.readline().rstrip('\\n').split(data_file_delimiter) + ['empty']\n",
    "        df = pd.read_csv(full_path, names=header, skiprows=1)\n",
    "        basename = os.path.basename(filename)\n",
    "        name = basename.split(\"_\")[0]\n",
    "        arguments = basename.rstrip(\".csv\").split(\"_\")[3:]\n",
    "        it = iter(arguments)\n",
    "        for val in it:\n",
    "            parameter = val.split(\"=\")[0]\n",
    "            value = val.split(\"=\")[1]\n",
    "            df[parameter] = value\n",
    "        pd_dataframes[name].append(df)\n",
    "    except Exception as e:\n",
    "        print(e)\n",
    "        #print(full_path)\n",
    "        print(\"Error: \"+ full_path)"
   ]
  },
  {
   "cell_type": "code",
   "execution_count": 26,
   "metadata": {},
   "outputs": [],
   "source": [
    "dfo = {}\n",
    "for name in pd_dataframes:\n",
    "    if(pd_dataframes[name]):\n",
    "        dfo[name] = pd.concat(pd_dataframes[name])\n",
    "df = dfo.copy()"
   ]
  },
  {
   "cell_type": "code",
   "execution_count": 27,
   "metadata": {},
   "outputs": [],
   "source": [
    "def sourceAddressToAgentId(sa):\n",
    "    try:\n",
    "        return int(sa.split(\".\")[-1])-1\n",
    "    except AttributeError:\n",
    "        print(sa)\n",
    "        return -1\n",
    "\n",
    "df['continuous']['agent_id'] = df['continuous']['Source Address'].apply(sourceAddressToAgentId)\n",
    "df['summary']['agent_id'] = df['summary']['Source Address'].apply(sourceAddressToAgentId)\n",
    "df['continuous']['Throughput'] = (df['continuous']['Rx Bytes']*8)"
   ]
  },
  {
   "cell_type": "code",
   "execution_count": 28,
   "metadata": {},
   "outputs": [],
   "source": [
    "common_columns = ['N', 'distance', 'wifiManager', 'simulationTime', 'agentType', 'dataRate', 'udp', 'RngRun', 'scenarioType', 'agent_id']\n",
    "df['continuous'] = df['continuous'].set_index(common_columns)\n",
    "df['positions'] = df['positions'].set_index(common_columns)\n",
    "df['summary'] = df['summary'].set_index(common_columns)"
   ]
  },
  {
   "cell_type": "code",
   "execution_count": 29,
   "metadata": {},
   "outputs": [
    {
     "data": {
      "text/html": [
       "<div>\n",
       "<style scoped>\n",
       "    .dataframe tbody tr th:only-of-type {\n",
       "        vertical-align: middle;\n",
       "    }\n",
       "\n",
       "    .dataframe tbody tr th {\n",
       "        vertical-align: top;\n",
       "    }\n",
       "\n",
       "    .dataframe thead th {\n",
       "        text-align: right;\n",
       "    }\n",
       "</style>\n",
       "<table border=\"1\" class=\"dataframe\">\n",
       "  <thead>\n",
       "    <tr style=\"text-align: right;\">\n",
       "      <th></th>\n",
       "      <th></th>\n",
       "      <th></th>\n",
       "      <th></th>\n",
       "      <th></th>\n",
       "      <th></th>\n",
       "      <th></th>\n",
       "      <th></th>\n",
       "      <th></th>\n",
       "      <th></th>\n",
       "      <th>Time</th>\n",
       "      <th>Flow</th>\n",
       "      <th>Source Address</th>\n",
       "      <th>Destination Address</th>\n",
       "      <th>Tx Packets</th>\n",
       "      <th>Tx Bytes</th>\n",
       "      <th>Rx Packets</th>\n",
       "      <th>Rx Bytes</th>\n",
       "      <th>empty</th>\n",
       "      <th>Throughput</th>\n",
       "    </tr>\n",
       "    <tr>\n",
       "      <th>N</th>\n",
       "      <th>distance</th>\n",
       "      <th>wifiManager</th>\n",
       "      <th>simulationTime</th>\n",
       "      <th>agentType</th>\n",
       "      <th>dataRate</th>\n",
       "      <th>udp</th>\n",
       "      <th>RngRun</th>\n",
       "      <th>scenarioType</th>\n",
       "      <th>agent_id</th>\n",
       "      <th></th>\n",
       "      <th></th>\n",
       "      <th></th>\n",
       "      <th></th>\n",
       "      <th></th>\n",
       "      <th></th>\n",
       "      <th></th>\n",
       "      <th></th>\n",
       "      <th></th>\n",
       "      <th></th>\n",
       "    </tr>\n",
       "  </thead>\n",
       "  <tbody>\n",
       "    <tr>\n",
       "      <th rowspan=\"5\" valign=\"top\">5</th>\n",
       "      <th rowspan=\"5\" valign=\"top\">100</th>\n",
       "      <th rowspan=\"5\" valign=\"top\">ns3::IntelWifiManager</th>\n",
       "      <th rowspan=\"5\" valign=\"top\">100</th>\n",
       "      <th rowspan=\"5\" valign=\"top\">Client</th>\n",
       "      <th rowspan=\"5\" valign=\"top\">50Mbps</th>\n",
       "      <th rowspan=\"5\" valign=\"top\">true</th>\n",
       "      <th rowspan=\"5\" valign=\"top\">14</th>\n",
       "      <th rowspan=\"5\" valign=\"top\">1</th>\n",
       "      <th>1</th>\n",
       "      <td>3</td>\n",
       "      <td>5</td>\n",
       "      <td>192.168.1.2</td>\n",
       "      <td>192.168.1.1</td>\n",
       "      <td>6104</td>\n",
       "      <td>6421410.00</td>\n",
       "      <td>1543</td>\n",
       "      <td>1623240.00</td>\n",
       "      <td>NaN</td>\n",
       "      <td>12985920.00</td>\n",
       "    </tr>\n",
       "    <tr>\n",
       "      <th>2</th>\n",
       "      <td>3</td>\n",
       "      <td>6</td>\n",
       "      <td>192.168.1.3</td>\n",
       "      <td>192.168.1.1</td>\n",
       "      <td>6104</td>\n",
       "      <td>6421410.00</td>\n",
       "      <td>6551</td>\n",
       "      <td>6891650.00</td>\n",
       "      <td>NaN</td>\n",
       "      <td>55133200.00</td>\n",
       "    </tr>\n",
       "    <tr>\n",
       "      <th>3</th>\n",
       "      <td>3</td>\n",
       "      <td>7</td>\n",
       "      <td>192.168.1.4</td>\n",
       "      <td>192.168.1.1</td>\n",
       "      <td>6104</td>\n",
       "      <td>6421410.00</td>\n",
       "      <td>5367</td>\n",
       "      <td>5646080.00</td>\n",
       "      <td>NaN</td>\n",
       "      <td>45168640.00</td>\n",
       "    </tr>\n",
       "    <tr>\n",
       "      <th>4</th>\n",
       "      <td>3</td>\n",
       "      <td>8</td>\n",
       "      <td>192.168.1.5</td>\n",
       "      <td>192.168.1.1</td>\n",
       "      <td>6104</td>\n",
       "      <td>6421410.00</td>\n",
       "      <td>232</td>\n",
       "      <td>244064.00</td>\n",
       "      <td>NaN</td>\n",
       "      <td>1952512.00</td>\n",
       "    </tr>\n",
       "    <tr>\n",
       "      <th>1</th>\n",
       "      <td>4</td>\n",
       "      <td>5</td>\n",
       "      <td>192.168.1.2</td>\n",
       "      <td>192.168.1.1</td>\n",
       "      <td>6103</td>\n",
       "      <td>6420360.00</td>\n",
       "      <td>3333</td>\n",
       "      <td>3506320.00</td>\n",
       "      <td>NaN</td>\n",
       "      <td>28050560.00</td>\n",
       "    </tr>\n",
       "  </tbody>\n",
       "</table>\n",
       "</div>"
      ],
      "text/plain": [
       "                                                                                                      Time  \\\n",
       "N distance wifiManager           simulationTime agentType dataRate udp  RngRun scenarioType agent_id         \n",
       "5 100      ns3::IntelWifiManager 100            Client    50Mbps   true 14     1            1            3   \n",
       "                                                                                            2            3   \n",
       "                                                                                            3            3   \n",
       "                                                                                            4            3   \n",
       "                                                                                            1            4   \n",
       "\n",
       "                                                                                                      Flow  \\\n",
       "N distance wifiManager           simulationTime agentType dataRate udp  RngRun scenarioType agent_id         \n",
       "5 100      ns3::IntelWifiManager 100            Client    50Mbps   true 14     1            1            5   \n",
       "                                                                                            2            6   \n",
       "                                                                                            3            7   \n",
       "                                                                                            4            8   \n",
       "                                                                                            1            5   \n",
       "\n",
       "                                                                                                     Source Address  \\\n",
       "N distance wifiManager           simulationTime agentType dataRate udp  RngRun scenarioType agent_id                  \n",
       "5 100      ns3::IntelWifiManager 100            Client    50Mbps   true 14     1            1           192.168.1.2   \n",
       "                                                                                            2           192.168.1.3   \n",
       "                                                                                            3           192.168.1.4   \n",
       "                                                                                            4           192.168.1.5   \n",
       "                                                                                            1           192.168.1.2   \n",
       "\n",
       "                                                                                                     Destination Address  \\\n",
       "N distance wifiManager           simulationTime agentType dataRate udp  RngRun scenarioType agent_id                       \n",
       "5 100      ns3::IntelWifiManager 100            Client    50Mbps   true 14     1            1                192.168.1.1   \n",
       "                                                                                            2                192.168.1.1   \n",
       "                                                                                            3                192.168.1.1   \n",
       "                                                                                            4                192.168.1.1   \n",
       "                                                                                            1                192.168.1.1   \n",
       "\n",
       "                                                                                                      Tx Packets  \\\n",
       "N distance wifiManager           simulationTime agentType dataRate udp  RngRun scenarioType agent_id               \n",
       "5 100      ns3::IntelWifiManager 100            Client    50Mbps   true 14     1            1               6104   \n",
       "                                                                                            2               6104   \n",
       "                                                                                            3               6104   \n",
       "                                                                                            4               6104   \n",
       "                                                                                            1               6103   \n",
       "\n",
       "                                                                                                       Tx Bytes  \\\n",
       "N distance wifiManager           simulationTime agentType dataRate udp  RngRun scenarioType agent_id              \n",
       "5 100      ns3::IntelWifiManager 100            Client    50Mbps   true 14     1            1        6421410.00   \n",
       "                                                                                            2        6421410.00   \n",
       "                                                                                            3        6421410.00   \n",
       "                                                                                            4        6421410.00   \n",
       "                                                                                            1        6420360.00   \n",
       "\n",
       "                                                                                                      Rx Packets  \\\n",
       "N distance wifiManager           simulationTime agentType dataRate udp  RngRun scenarioType agent_id               \n",
       "5 100      ns3::IntelWifiManager 100            Client    50Mbps   true 14     1            1               1543   \n",
       "                                                                                            2               6551   \n",
       "                                                                                            3               5367   \n",
       "                                                                                            4                232   \n",
       "                                                                                            1               3333   \n",
       "\n",
       "                                                                                                       Rx Bytes  \\\n",
       "N distance wifiManager           simulationTime agentType dataRate udp  RngRun scenarioType agent_id              \n",
       "5 100      ns3::IntelWifiManager 100            Client    50Mbps   true 14     1            1        1623240.00   \n",
       "                                                                                            2        6891650.00   \n",
       "                                                                                            3        5646080.00   \n",
       "                                                                                            4         244064.00   \n",
       "                                                                                            1        3506320.00   \n",
       "\n",
       "                                                                                                      empty  \\\n",
       "N distance wifiManager           simulationTime agentType dataRate udp  RngRun scenarioType agent_id          \n",
       "5 100      ns3::IntelWifiManager 100            Client    50Mbps   true 14     1            1           NaN   \n",
       "                                                                                            2           NaN   \n",
       "                                                                                            3           NaN   \n",
       "                                                                                            4           NaN   \n",
       "                                                                                            1           NaN   \n",
       "\n",
       "                                                                                                      Throughput  \n",
       "N distance wifiManager           simulationTime agentType dataRate udp  RngRun scenarioType agent_id              \n",
       "5 100      ns3::IntelWifiManager 100            Client    50Mbps   true 14     1            1        12985920.00  \n",
       "                                                                                            2        55133200.00  \n",
       "                                                                                            3        45168640.00  \n",
       "                                                                                            4         1952512.00  \n",
       "                                                                                            1        28050560.00  "
      ]
     },
     "execution_count": 29,
     "metadata": {},
     "output_type": "execute_result"
    }
   ],
   "source": [
    "df['continuous'].head()"
   ]
  },
  {
   "cell_type": "code",
   "execution_count": 30,
   "metadata": {},
   "outputs": [
    {
     "data": {
      "text/html": [
       "<div>\n",
       "<style scoped>\n",
       "    .dataframe tbody tr th:only-of-type {\n",
       "        vertical-align: middle;\n",
       "    }\n",
       "\n",
       "    .dataframe tbody tr th {\n",
       "        vertical-align: top;\n",
       "    }\n",
       "\n",
       "    .dataframe thead th {\n",
       "        text-align: right;\n",
       "    }\n",
       "</style>\n",
       "<table border=\"1\" class=\"dataframe\">\n",
       "  <thead>\n",
       "    <tr style=\"text-align: right;\">\n",
       "      <th></th>\n",
       "      <th></th>\n",
       "      <th></th>\n",
       "      <th></th>\n",
       "      <th></th>\n",
       "      <th></th>\n",
       "      <th></th>\n",
       "      <th></th>\n",
       "      <th></th>\n",
       "      <th></th>\n",
       "      <th>position_x</th>\n",
       "      <th>position_y</th>\n",
       "      <th>position_z</th>\n",
       "      <th>orientation_x</th>\n",
       "      <th>orientation_y</th>\n",
       "      <th>orientation_z</th>\n",
       "      <th>orientation_w</th>\n",
       "      <th>angle</th>\n",
       "      <th>last_change</th>\n",
       "      <th>empty</th>\n",
       "    </tr>\n",
       "    <tr>\n",
       "      <th>N</th>\n",
       "      <th>distance</th>\n",
       "      <th>wifiManager</th>\n",
       "      <th>simulationTime</th>\n",
       "      <th>agentType</th>\n",
       "      <th>dataRate</th>\n",
       "      <th>udp</th>\n",
       "      <th>RngRun</th>\n",
       "      <th>scenarioType</th>\n",
       "      <th>agent_id</th>\n",
       "      <th></th>\n",
       "      <th></th>\n",
       "      <th></th>\n",
       "      <th></th>\n",
       "      <th></th>\n",
       "      <th></th>\n",
       "      <th></th>\n",
       "      <th></th>\n",
       "      <th></th>\n",
       "      <th></th>\n",
       "    </tr>\n",
       "  </thead>\n",
       "  <tbody>\n",
       "    <tr>\n",
       "      <th rowspan=\"5\" valign=\"top\">5</th>\n",
       "      <th rowspan=\"5\" valign=\"top\">100</th>\n",
       "      <th rowspan=\"5\" valign=\"top\">ns3::IdealWifiManager</th>\n",
       "      <th rowspan=\"5\" valign=\"top\">100</th>\n",
       "      <th rowspan=\"5\" valign=\"top\">Client</th>\n",
       "      <th rowspan=\"5\" valign=\"top\">50Mbps</th>\n",
       "      <th rowspan=\"5\" valign=\"top\">true</th>\n",
       "      <th rowspan=\"5\" valign=\"top\">18</th>\n",
       "      <th rowspan=\"5\" valign=\"top\">1</th>\n",
       "      <th>0</th>\n",
       "      <td>0.00</td>\n",
       "      <td>0.00</td>\n",
       "      <td>0</td>\n",
       "      <td>0</td>\n",
       "      <td>0</td>\n",
       "      <td>0.99</td>\n",
       "      <td>-0.11</td>\n",
       "      <td>193</td>\n",
       "      <td>55.14</td>\n",
       "      <td>NaN</td>\n",
       "    </tr>\n",
       "    <tr>\n",
       "      <th>1</th>\n",
       "      <td>-15.69</td>\n",
       "      <td>-98.76</td>\n",
       "      <td>0</td>\n",
       "      <td>0</td>\n",
       "      <td>0</td>\n",
       "      <td>1.00</td>\n",
       "      <td>0.04</td>\n",
       "      <td>175</td>\n",
       "      <td>31.04</td>\n",
       "      <td>NaN</td>\n",
       "    </tr>\n",
       "    <tr>\n",
       "      <th>2</th>\n",
       "      <td>-24.21</td>\n",
       "      <td>97.03</td>\n",
       "      <td>0</td>\n",
       "      <td>0</td>\n",
       "      <td>0</td>\n",
       "      <td>0.92</td>\n",
       "      <td>-0.39</td>\n",
       "      <td>226</td>\n",
       "      <td>32.29</td>\n",
       "      <td>NaN</td>\n",
       "    </tr>\n",
       "    <tr>\n",
       "      <th>3</th>\n",
       "      <td>-96.76</td>\n",
       "      <td>-25.25</td>\n",
       "      <td>0</td>\n",
       "      <td>0</td>\n",
       "      <td>0</td>\n",
       "      <td>0.92</td>\n",
       "      <td>0.38</td>\n",
       "      <td>135</td>\n",
       "      <td>30.73</td>\n",
       "      <td>NaN</td>\n",
       "    </tr>\n",
       "    <tr>\n",
       "      <th>4</th>\n",
       "      <td>68.08</td>\n",
       "      <td>-73.24</td>\n",
       "      <td>0</td>\n",
       "      <td>0</td>\n",
       "      <td>0</td>\n",
       "      <td>0.08</td>\n",
       "      <td>1.00</td>\n",
       "      <td>9</td>\n",
       "      <td>30.96</td>\n",
       "      <td>NaN</td>\n",
       "    </tr>\n",
       "  </tbody>\n",
       "</table>\n",
       "</div>"
      ],
      "text/plain": [
       "                                                                                                      position_x  \\\n",
       "N distance wifiManager           simulationTime agentType dataRate udp  RngRun scenarioType agent_id               \n",
       "5 100      ns3::IdealWifiManager 100            Client    50Mbps   true 18     1            0               0.00   \n",
       "                                                                                            1             -15.69   \n",
       "                                                                                            2             -24.21   \n",
       "                                                                                            3             -96.76   \n",
       "                                                                                            4              68.08   \n",
       "\n",
       "                                                                                                      position_y  \\\n",
       "N distance wifiManager           simulationTime agentType dataRate udp  RngRun scenarioType agent_id               \n",
       "5 100      ns3::IdealWifiManager 100            Client    50Mbps   true 18     1            0               0.00   \n",
       "                                                                                            1             -98.76   \n",
       "                                                                                            2              97.03   \n",
       "                                                                                            3             -25.25   \n",
       "                                                                                            4             -73.24   \n",
       "\n",
       "                                                                                                      position_z  \\\n",
       "N distance wifiManager           simulationTime agentType dataRate udp  RngRun scenarioType agent_id               \n",
       "5 100      ns3::IdealWifiManager 100            Client    50Mbps   true 18     1            0                  0   \n",
       "                                                                                            1                  0   \n",
       "                                                                                            2                  0   \n",
       "                                                                                            3                  0   \n",
       "                                                                                            4                  0   \n",
       "\n",
       "                                                                                                      orientation_x  \\\n",
       "N distance wifiManager           simulationTime agentType dataRate udp  RngRun scenarioType agent_id                  \n",
       "5 100      ns3::IdealWifiManager 100            Client    50Mbps   true 18     1            0                     0   \n",
       "                                                                                            1                     0   \n",
       "                                                                                            2                     0   \n",
       "                                                                                            3                     0   \n",
       "                                                                                            4                     0   \n",
       "\n",
       "                                                                                                      orientation_y  \\\n",
       "N distance wifiManager           simulationTime agentType dataRate udp  RngRun scenarioType agent_id                  \n",
       "5 100      ns3::IdealWifiManager 100            Client    50Mbps   true 18     1            0                     0   \n",
       "                                                                                            1                     0   \n",
       "                                                                                            2                     0   \n",
       "                                                                                            3                     0   \n",
       "                                                                                            4                     0   \n",
       "\n",
       "                                                                                                      orientation_z  \\\n",
       "N distance wifiManager           simulationTime agentType dataRate udp  RngRun scenarioType agent_id                  \n",
       "5 100      ns3::IdealWifiManager 100            Client    50Mbps   true 18     1            0                  0.99   \n",
       "                                                                                            1                  1.00   \n",
       "                                                                                            2                  0.92   \n",
       "                                                                                            3                  0.92   \n",
       "                                                                                            4                  0.08   \n",
       "\n",
       "                                                                                                      orientation_w  \\\n",
       "N distance wifiManager           simulationTime agentType dataRate udp  RngRun scenarioType agent_id                  \n",
       "5 100      ns3::IdealWifiManager 100            Client    50Mbps   true 18     1            0                 -0.11   \n",
       "                                                                                            1                  0.04   \n",
       "                                                                                            2                 -0.39   \n",
       "                                                                                            3                  0.38   \n",
       "                                                                                            4                  1.00   \n",
       "\n",
       "                                                                                                      angle  \\\n",
       "N distance wifiManager           simulationTime agentType dataRate udp  RngRun scenarioType agent_id          \n",
       "5 100      ns3::IdealWifiManager 100            Client    50Mbps   true 18     1            0           193   \n",
       "                                                                                            1           175   \n",
       "                                                                                            2           226   \n",
       "                                                                                            3           135   \n",
       "                                                                                            4             9   \n",
       "\n",
       "                                                                                                      last_change  \\\n",
       "N distance wifiManager           simulationTime agentType dataRate udp  RngRun scenarioType agent_id                \n",
       "5 100      ns3::IdealWifiManager 100            Client    50Mbps   true 18     1            0               55.14   \n",
       "                                                                                            1               31.04   \n",
       "                                                                                            2               32.29   \n",
       "                                                                                            3               30.73   \n",
       "                                                                                            4               30.96   \n",
       "\n",
       "                                                                                                      empty  \n",
       "N distance wifiManager           simulationTime agentType dataRate udp  RngRun scenarioType agent_id         \n",
       "5 100      ns3::IdealWifiManager 100            Client    50Mbps   true 18     1            0           NaN  \n",
       "                                                                                            1           NaN  \n",
       "                                                                                            2           NaN  \n",
       "                                                                                            3           NaN  \n",
       "                                                                                            4           NaN  "
      ]
     },
     "execution_count": 30,
     "metadata": {},
     "output_type": "execute_result"
    }
   ],
   "source": [
    "df['positions'].head()"
   ]
  },
  {
   "cell_type": "code",
   "execution_count": 31,
   "metadata": {},
   "outputs": [
    {
     "data": {
      "text/html": [
       "<div>\n",
       "<style scoped>\n",
       "    .dataframe tbody tr th:only-of-type {\n",
       "        vertical-align: middle;\n",
       "    }\n",
       "\n",
       "    .dataframe tbody tr th {\n",
       "        vertical-align: top;\n",
       "    }\n",
       "\n",
       "    .dataframe thead th {\n",
       "        text-align: right;\n",
       "    }\n",
       "</style>\n",
       "<table border=\"1\" class=\"dataframe\">\n",
       "  <thead>\n",
       "    <tr style=\"text-align: right;\">\n",
       "      <th></th>\n",
       "      <th></th>\n",
       "      <th></th>\n",
       "      <th></th>\n",
       "      <th></th>\n",
       "      <th></th>\n",
       "      <th></th>\n",
       "      <th></th>\n",
       "      <th></th>\n",
       "      <th></th>\n",
       "      <th>Flow</th>\n",
       "      <th>Source Address</th>\n",
       "      <th>Destination Address</th>\n",
       "      <th>Tx Packets</th>\n",
       "      <th>Tx Bytes</th>\n",
       "      <th>Rx Packets</th>\n",
       "      <th>Rx Bytes</th>\n",
       "      <th>empty</th>\n",
       "    </tr>\n",
       "    <tr>\n",
       "      <th>N</th>\n",
       "      <th>distance</th>\n",
       "      <th>wifiManager</th>\n",
       "      <th>simulationTime</th>\n",
       "      <th>agentType</th>\n",
       "      <th>dataRate</th>\n",
       "      <th>udp</th>\n",
       "      <th>RngRun</th>\n",
       "      <th>scenarioType</th>\n",
       "      <th>agent_id</th>\n",
       "      <th></th>\n",
       "      <th></th>\n",
       "      <th></th>\n",
       "      <th></th>\n",
       "      <th></th>\n",
       "      <th></th>\n",
       "      <th></th>\n",
       "      <th></th>\n",
       "    </tr>\n",
       "  </thead>\n",
       "  <tbody>\n",
       "    <tr>\n",
       "      <th rowspan=\"5\" valign=\"top\">5</th>\n",
       "      <th rowspan=\"5\" valign=\"top\">100</th>\n",
       "      <th rowspan=\"4\" valign=\"top\">ns3::IntelWifiManager</th>\n",
       "      <th rowspan=\"4\" valign=\"top\">100</th>\n",
       "      <th rowspan=\"4\" valign=\"top\">Drone</th>\n",
       "      <th rowspan=\"4\" valign=\"top\">50Mbps</th>\n",
       "      <th rowspan=\"4\" valign=\"top\">true</th>\n",
       "      <th rowspan=\"4\" valign=\"top\">6</th>\n",
       "      <th rowspan=\"4\" valign=\"top\">1</th>\n",
       "      <th>1</th>\n",
       "      <td>5</td>\n",
       "      <td>192.168.1.2</td>\n",
       "      <td>192.168.1.1</td>\n",
       "      <td>610351</td>\n",
       "      <td>642089252</td>\n",
       "      <td>303016</td>\n",
       "      <td>318772832</td>\n",
       "      <td>NaN</td>\n",
       "    </tr>\n",
       "    <tr>\n",
       "      <th>2</th>\n",
       "      <td>6</td>\n",
       "      <td>192.168.1.3</td>\n",
       "      <td>192.168.1.1</td>\n",
       "      <td>610351</td>\n",
       "      <td>642089252</td>\n",
       "      <td>389241</td>\n",
       "      <td>409481532</td>\n",
       "      <td>NaN</td>\n",
       "    </tr>\n",
       "    <tr>\n",
       "      <th>3</th>\n",
       "      <td>7</td>\n",
       "      <td>192.168.1.4</td>\n",
       "      <td>192.168.1.1</td>\n",
       "      <td>610351</td>\n",
       "      <td>642089252</td>\n",
       "      <td>328446</td>\n",
       "      <td>345525192</td>\n",
       "      <td>NaN</td>\n",
       "    </tr>\n",
       "    <tr>\n",
       "      <th>4</th>\n",
       "      <td>8</td>\n",
       "      <td>192.168.1.5</td>\n",
       "      <td>192.168.1.1</td>\n",
       "      <td>610351</td>\n",
       "      <td>642089252</td>\n",
       "      <td>427347</td>\n",
       "      <td>449569044</td>\n",
       "      <td>NaN</td>\n",
       "    </tr>\n",
       "    <tr>\n",
       "      <th>ns3::MinstrelHtWifiManager</th>\n",
       "      <th>100</th>\n",
       "      <th>Drone</th>\n",
       "      <th>50Mbps</th>\n",
       "      <th>true</th>\n",
       "      <th>17</th>\n",
       "      <th>1</th>\n",
       "      <th>1</th>\n",
       "      <td>5</td>\n",
       "      <td>192.168.1.2</td>\n",
       "      <td>192.168.1.1</td>\n",
       "      <td>610351</td>\n",
       "      <td>642089252</td>\n",
       "      <td>233395</td>\n",
       "      <td>245531540</td>\n",
       "      <td>NaN</td>\n",
       "    </tr>\n",
       "  </tbody>\n",
       "</table>\n",
       "</div>"
      ],
      "text/plain": [
       "                                                                                                           Flow  \\\n",
       "N distance wifiManager                simulationTime agentType dataRate udp  RngRun scenarioType agent_id         \n",
       "5 100      ns3::IntelWifiManager      100            Drone     50Mbps   true 6      1            1            5   \n",
       "                                                                                                 2            6   \n",
       "                                                                                                 3            7   \n",
       "                                                                                                 4            8   \n",
       "           ns3::MinstrelHtWifiManager 100            Drone     50Mbps   true 17     1            1            5   \n",
       "\n",
       "                                                                                                          Source Address  \\\n",
       "N distance wifiManager                simulationTime agentType dataRate udp  RngRun scenarioType agent_id                  \n",
       "5 100      ns3::IntelWifiManager      100            Drone     50Mbps   true 6      1            1           192.168.1.2   \n",
       "                                                                                                 2           192.168.1.3   \n",
       "                                                                                                 3           192.168.1.4   \n",
       "                                                                                                 4           192.168.1.5   \n",
       "           ns3::MinstrelHtWifiManager 100            Drone     50Mbps   true 17     1            1           192.168.1.2   \n",
       "\n",
       "                                                                                                          Destination Address  \\\n",
       "N distance wifiManager                simulationTime agentType dataRate udp  RngRun scenarioType agent_id                       \n",
       "5 100      ns3::IntelWifiManager      100            Drone     50Mbps   true 6      1            1                192.168.1.1   \n",
       "                                                                                                 2                192.168.1.1   \n",
       "                                                                                                 3                192.168.1.1   \n",
       "                                                                                                 4                192.168.1.1   \n",
       "           ns3::MinstrelHtWifiManager 100            Drone     50Mbps   true 17     1            1                192.168.1.1   \n",
       "\n",
       "                                                                                                           Tx Packets  \\\n",
       "N distance wifiManager                simulationTime agentType dataRate udp  RngRun scenarioType agent_id               \n",
       "5 100      ns3::IntelWifiManager      100            Drone     50Mbps   true 6      1            1             610351   \n",
       "                                                                                                 2             610351   \n",
       "                                                                                                 3             610351   \n",
       "                                                                                                 4             610351   \n",
       "           ns3::MinstrelHtWifiManager 100            Drone     50Mbps   true 17     1            1             610351   \n",
       "\n",
       "                                                                                                            Tx Bytes  \\\n",
       "N distance wifiManager                simulationTime agentType dataRate udp  RngRun scenarioType agent_id              \n",
       "5 100      ns3::IntelWifiManager      100            Drone     50Mbps   true 6      1            1         642089252   \n",
       "                                                                                                 2         642089252   \n",
       "                                                                                                 3         642089252   \n",
       "                                                                                                 4         642089252   \n",
       "           ns3::MinstrelHtWifiManager 100            Drone     50Mbps   true 17     1            1         642089252   \n",
       "\n",
       "                                                                                                           Rx Packets  \\\n",
       "N distance wifiManager                simulationTime agentType dataRate udp  RngRun scenarioType agent_id               \n",
       "5 100      ns3::IntelWifiManager      100            Drone     50Mbps   true 6      1            1             303016   \n",
       "                                                                                                 2             389241   \n",
       "                                                                                                 3             328446   \n",
       "                                                                                                 4             427347   \n",
       "           ns3::MinstrelHtWifiManager 100            Drone     50Mbps   true 17     1            1             233395   \n",
       "\n",
       "                                                                                                            Rx Bytes  \\\n",
       "N distance wifiManager                simulationTime agentType dataRate udp  RngRun scenarioType agent_id              \n",
       "5 100      ns3::IntelWifiManager      100            Drone     50Mbps   true 6      1            1         318772832   \n",
       "                                                                                                 2         409481532   \n",
       "                                                                                                 3         345525192   \n",
       "                                                                                                 4         449569044   \n",
       "           ns3::MinstrelHtWifiManager 100            Drone     50Mbps   true 17     1            1         245531540   \n",
       "\n",
       "                                                                                                           empty  \n",
       "N distance wifiManager                simulationTime agentType dataRate udp  RngRun scenarioType agent_id         \n",
       "5 100      ns3::IntelWifiManager      100            Drone     50Mbps   true 6      1            1           NaN  \n",
       "                                                                                                 2           NaN  \n",
       "                                                                                                 3           NaN  \n",
       "                                                                                                 4           NaN  \n",
       "           ns3::MinstrelHtWifiManager 100            Drone     50Mbps   true 17     1            1           NaN  "
      ]
     },
     "execution_count": 31,
     "metadata": {},
     "output_type": "execute_result"
    }
   ],
   "source": [
    "df['summary'].head()"
   ]
  },
  {
   "cell_type": "code",
   "execution_count": 32,
   "metadata": {},
   "outputs": [],
   "source": [
    "new_df = df['continuous'].join(df['positions'], how='left', on=common_columns, lsuffix='_left', rsuffix='_right')\n",
    "common_columns += ['Source Address', 'Destination Address']\n",
    "new_df = new_df.reset_index().set_index(common_columns)\n",
    "df['summary'] = df['summary'].reset_index().set_index(common_columns)\n",
    "new_df = new_df.join(df['summary'], how='left', on=common_columns, rsuffix='_total')\n",
    "new_df = new_df.reset_index()"
   ]
  },
  {
   "cell_type": "code",
   "execution_count": 33,
   "metadata": {},
   "outputs": [
    {
     "data": {
      "text/html": [
       "<div>\n",
       "<style scoped>\n",
       "    .dataframe tbody tr th:only-of-type {\n",
       "        vertical-align: middle;\n",
       "    }\n",
       "\n",
       "    .dataframe tbody tr th {\n",
       "        vertical-align: top;\n",
       "    }\n",
       "\n",
       "    .dataframe thead th {\n",
       "        text-align: right;\n",
       "    }\n",
       "</style>\n",
       "<table border=\"1\" class=\"dataframe\">\n",
       "  <thead>\n",
       "    <tr style=\"text-align: right;\">\n",
       "      <th></th>\n",
       "      <th>N</th>\n",
       "      <th>distance</th>\n",
       "      <th>wifiManager</th>\n",
       "      <th>simulationTime</th>\n",
       "      <th>agentType</th>\n",
       "      <th>dataRate</th>\n",
       "      <th>udp</th>\n",
       "      <th>RngRun</th>\n",
       "      <th>scenarioType</th>\n",
       "      <th>agent_id</th>\n",
       "      <th>...</th>\n",
       "      <th>orientation_w</th>\n",
       "      <th>angle</th>\n",
       "      <th>last_change</th>\n",
       "      <th>empty_right</th>\n",
       "      <th>Flow_total</th>\n",
       "      <th>Tx Packets_total</th>\n",
       "      <th>Tx Bytes_total</th>\n",
       "      <th>Rx Packets_total</th>\n",
       "      <th>Rx Bytes_total</th>\n",
       "      <th>empty</th>\n",
       "    </tr>\n",
       "  </thead>\n",
       "  <tbody>\n",
       "    <tr>\n",
       "      <th>0</th>\n",
       "      <td>5</td>\n",
       "      <td>100</td>\n",
       "      <td>ns3::IntelWifiManager</td>\n",
       "      <td>100</td>\n",
       "      <td>Client</td>\n",
       "      <td>50Mbps</td>\n",
       "      <td>true</td>\n",
       "      <td>14</td>\n",
       "      <td>1</td>\n",
       "      <td>1</td>\n",
       "      <td>...</td>\n",
       "      <td>-0.86</td>\n",
       "      <td>299</td>\n",
       "      <td>33.60</td>\n",
       "      <td>NaN</td>\n",
       "      <td>5</td>\n",
       "      <td>610351</td>\n",
       "      <td>642089252</td>\n",
       "      <td>210807</td>\n",
       "      <td>221768964</td>\n",
       "      <td>NaN</td>\n",
       "    </tr>\n",
       "    <tr>\n",
       "      <th>1</th>\n",
       "      <td>5</td>\n",
       "      <td>100</td>\n",
       "      <td>ns3::IntelWifiManager</td>\n",
       "      <td>100</td>\n",
       "      <td>Client</td>\n",
       "      <td>50Mbps</td>\n",
       "      <td>true</td>\n",
       "      <td>14</td>\n",
       "      <td>1</td>\n",
       "      <td>2</td>\n",
       "      <td>...</td>\n",
       "      <td>0.02</td>\n",
       "      <td>178</td>\n",
       "      <td>27.67</td>\n",
       "      <td>NaN</td>\n",
       "      <td>6</td>\n",
       "      <td>610351</td>\n",
       "      <td>642089252</td>\n",
       "      <td>450247</td>\n",
       "      <td>473659844</td>\n",
       "      <td>NaN</td>\n",
       "    </tr>\n",
       "    <tr>\n",
       "      <th>2</th>\n",
       "      <td>5</td>\n",
       "      <td>100</td>\n",
       "      <td>ns3::IntelWifiManager</td>\n",
       "      <td>100</td>\n",
       "      <td>Client</td>\n",
       "      <td>50Mbps</td>\n",
       "      <td>true</td>\n",
       "      <td>14</td>\n",
       "      <td>1</td>\n",
       "      <td>3</td>\n",
       "      <td>...</td>\n",
       "      <td>0.30</td>\n",
       "      <td>145</td>\n",
       "      <td>29.05</td>\n",
       "      <td>NaN</td>\n",
       "      <td>7</td>\n",
       "      <td>610351</td>\n",
       "      <td>642089252</td>\n",
       "      <td>443183</td>\n",
       "      <td>466228516</td>\n",
       "      <td>NaN</td>\n",
       "    </tr>\n",
       "    <tr>\n",
       "      <th>3</th>\n",
       "      <td>5</td>\n",
       "      <td>100</td>\n",
       "      <td>ns3::IntelWifiManager</td>\n",
       "      <td>100</td>\n",
       "      <td>Client</td>\n",
       "      <td>50Mbps</td>\n",
       "      <td>true</td>\n",
       "      <td>14</td>\n",
       "      <td>1</td>\n",
       "      <td>4</td>\n",
       "      <td>...</td>\n",
       "      <td>1.00</td>\n",
       "      <td>355</td>\n",
       "      <td>35.05</td>\n",
       "      <td>NaN</td>\n",
       "      <td>8</td>\n",
       "      <td>610351</td>\n",
       "      <td>642089252</td>\n",
       "      <td>241535</td>\n",
       "      <td>254094820</td>\n",
       "      <td>NaN</td>\n",
       "    </tr>\n",
       "    <tr>\n",
       "      <th>4</th>\n",
       "      <td>5</td>\n",
       "      <td>100</td>\n",
       "      <td>ns3::IntelWifiManager</td>\n",
       "      <td>100</td>\n",
       "      <td>Client</td>\n",
       "      <td>50Mbps</td>\n",
       "      <td>true</td>\n",
       "      <td>14</td>\n",
       "      <td>1</td>\n",
       "      <td>1</td>\n",
       "      <td>...</td>\n",
       "      <td>-0.86</td>\n",
       "      <td>299</td>\n",
       "      <td>33.60</td>\n",
       "      <td>NaN</td>\n",
       "      <td>5</td>\n",
       "      <td>610351</td>\n",
       "      <td>642089252</td>\n",
       "      <td>210807</td>\n",
       "      <td>221768964</td>\n",
       "      <td>NaN</td>\n",
       "    </tr>\n",
       "  </tbody>\n",
       "</table>\n",
       "<p>5 rows × 36 columns</p>\n",
       "</div>"
      ],
      "text/plain": [
       "   N distance            wifiManager simulationTime agentType dataRate   udp  \\\n",
       "0  5      100  ns3::IntelWifiManager            100    Client   50Mbps  true   \n",
       "1  5      100  ns3::IntelWifiManager            100    Client   50Mbps  true   \n",
       "2  5      100  ns3::IntelWifiManager            100    Client   50Mbps  true   \n",
       "3  5      100  ns3::IntelWifiManager            100    Client   50Mbps  true   \n",
       "4  5      100  ns3::IntelWifiManager            100    Client   50Mbps  true   \n",
       "\n",
       "  RngRun scenarioType  agent_id  ... orientation_w angle  last_change  \\\n",
       "0     14            1         1  ...         -0.86   299        33.60   \n",
       "1     14            1         2  ...          0.02   178        27.67   \n",
       "2     14            1         3  ...          0.30   145        29.05   \n",
       "3     14            1         4  ...          1.00   355        35.05   \n",
       "4     14            1         1  ...         -0.86   299        33.60   \n",
       "\n",
       "   empty_right  Flow_total  Tx Packets_total  Tx Bytes_total  \\\n",
       "0          NaN           5            610351       642089252   \n",
       "1          NaN           6            610351       642089252   \n",
       "2          NaN           7            610351       642089252   \n",
       "3          NaN           8            610351       642089252   \n",
       "4          NaN           5            610351       642089252   \n",
       "\n",
       "   Rx Packets_total  Rx Bytes_total  empty  \n",
       "0            210807       221768964    NaN  \n",
       "1            450247       473659844    NaN  \n",
       "2            443183       466228516    NaN  \n",
       "3            241535       254094820    NaN  \n",
       "4            210807       221768964    NaN  \n",
       "\n",
       "[5 rows x 36 columns]"
      ]
     },
     "execution_count": 33,
     "metadata": {},
     "output_type": "execute_result"
    }
   ],
   "source": [
    "new_df.head()"
   ]
  },
  {
   "cell_type": "code",
   "execution_count": 34,
   "metadata": {},
   "outputs": [],
   "source": [
    "convergence_time = []\n",
    "g = None\n",
    "for name, group in new_df.groupby(['N', 'distance', 'wifiManager', 'simulationTime', 'agentType', 'dataRate', 'udp', 'RngRun']):\n",
    "    local_data = []\n",
    "    antenna_convergence = group['last_change'].max()\n",
    "    throughput_convergence = None\n",
    "    full_rx = None\n",
    "    g = group\n",
    "    for agent_id, agent_group in group.groupby(['agent_id']):\n",
    "        low, high = 0.95*(agent_group['Rx Bytes'].values[-1]), 1.05*(agent_group['Rx Bytes'].values[-1])\n",
    "        agent_group['between'] = agent_group['Rx Bytes'].between(low, high)\n",
    "        agent_group['between'] = ~agent_group['between']\n",
    "        k = agent_group['between'][agent_group['between']].index.max()\n",
    "        #k = agent_group['between'][agent_group['between']==False].last_valid_index()\n",
    "        if (k is None) or (pd.isna(k)):\n",
    "            throughput_convergence = 0\n",
    "        else:\n",
    "            throughput_convergence = agent_group.loc[k]['Time']\n",
    "        if name[4] == \"Drone\":\n",
    "            full_rx = agent_group[agent_group['Time'] >= antenna_convergence]['Throughput'].mean()\n",
    "        else:\n",
    "            full_rx = agent_group['Throughput'].mean()\n",
    "        convergence_time.append(list(name) + [agent_id, throughput_convergence, antenna_convergence, full_rx])"
   ]
  },
  {
   "cell_type": "code",
   "execution_count": 35,
   "metadata": {},
   "outputs": [],
   "source": [
    "conv = pd.DataFrame(convergence_time, columns=['N', 'distance', 'wifiManager', 'simulationTime', 'agentType', 'dataRate', 'udp', 'RngRun', 'agent_id', 'Throughput Converge', 'Antenna Converge', 'Throughput'])\n",
    "conv = conv.groupby(['N', 'distance', 'wifiManager', 'simulationTime', 'agentType', 'dataRate', 'udp', 'RngRun']).mean().reset_index()\n",
    "full = conv.copy()\n",
    "conv = conv[conv['agentType'] == 'Drone']"
   ]
  },
  {
   "cell_type": "code",
   "execution_count": 36,
   "metadata": {
    "scrolled": false
   },
   "outputs": [
    {
     "data": {
      "application/vnd.plotly.v1+json": {
       "config": {
        "plotlyServerURL": "https://plot.ly"
       },
       "data": [
        {
         "boxmean": true,
         "name": "Orientation Convergence Time",
         "type": "box",
         "x": [
          "ns3::IdealWifiManager",
          "ns3::IdealWifiManager",
          "ns3::IdealWifiManager",
          "ns3::IdealWifiManager",
          "ns3::IdealWifiManager",
          "ns3::IdealWifiManager",
          "ns3::IdealWifiManager",
          "ns3::IdealWifiManager",
          "ns3::IdealWifiManager",
          "ns3::IdealWifiManager",
          "ns3::IdealWifiManager",
          "ns3::IdealWifiManager",
          "ns3::IdealWifiManager",
          "ns3::IdealWifiManager",
          "ns3::IdealWifiManager",
          "ns3::IdealWifiManager",
          "ns3::IdealWifiManager",
          "ns3::IdealWifiManager",
          "ns3::IdealWifiManager",
          "ns3::IdealWifiManager",
          "ns3::IntelWifiManager",
          "ns3::IntelWifiManager",
          "ns3::IntelWifiManager",
          "ns3::IntelWifiManager",
          "ns3::IntelWifiManager",
          "ns3::IntelWifiManager",
          "ns3::IntelWifiManager",
          "ns3::IntelWifiManager",
          "ns3::IntelWifiManager",
          "ns3::IntelWifiManager",
          "ns3::IntelWifiManager",
          "ns3::IntelWifiManager",
          "ns3::IntelWifiManager",
          "ns3::IntelWifiManager",
          "ns3::IntelWifiManager",
          "ns3::IntelWifiManager",
          "ns3::IntelWifiManager",
          "ns3::IntelWifiManager",
          "ns3::IntelWifiManager",
          "ns3::IntelWifiManager",
          "ns3::MinstrelHtWifiManager",
          "ns3::MinstrelHtWifiManager",
          "ns3::MinstrelHtWifiManager",
          "ns3::MinstrelHtWifiManager",
          "ns3::MinstrelHtWifiManager",
          "ns3::MinstrelHtWifiManager",
          "ns3::MinstrelHtWifiManager",
          "ns3::MinstrelHtWifiManager",
          "ns3::MinstrelHtWifiManager",
          "ns3::MinstrelHtWifiManager",
          "ns3::MinstrelHtWifiManager",
          "ns3::MinstrelHtWifiManager",
          "ns3::MinstrelHtWifiManager",
          "ns3::MinstrelHtWifiManager",
          "ns3::MinstrelHtWifiManager",
          "ns3::MinstrelHtWifiManager",
          "ns3::MinstrelHtWifiManager",
          "ns3::MinstrelHtWifiManager",
          "ns3::MinstrelHtWifiManager",
          "ns3::MinstrelHtWifiManager"
         ],
         "y": [
          23.97,
          25.49,
          23.6,
          24.46,
          25.15,
          31.14,
          25.65,
          25.53,
          24.81,
          24.34,
          26.92,
          26.44,
          26.71,
          26.56,
          30.02,
          29.8,
          27.51,
          26.61,
          27.33,
          27.34,
          26.04,
          25.25,
          26.65,
          26.7,
          24.93,
          28.41,
          27.04,
          26.43,
          25.84,
          24.75,
          27.99,
          26.18,
          28.25,
          26.99,
          32.46,
          29.9,
          28.23,
          29.53,
          25.53,
          28.35,
          26.43,
          27.47,
          25.06,
          25.97,
          28.03,
          34.14,
          27.96,
          28.72,
          25.63,
          25.73,
          28.07,
          26.9,
          27.38,
          28.77,
          31.47,
          31.48,
          27.3,
          28.61,
          26.49,
          28.29
         ]
        },
        {
         "boxmean": true,
         "name": "Throughput Convergence Time",
         "type": "box",
         "x": [
          "ns3::IdealWifiManager",
          "ns3::IdealWifiManager",
          "ns3::IdealWifiManager",
          "ns3::IdealWifiManager",
          "ns3::IdealWifiManager",
          "ns3::IdealWifiManager",
          "ns3::IdealWifiManager",
          "ns3::IdealWifiManager",
          "ns3::IdealWifiManager",
          "ns3::IdealWifiManager",
          "ns3::IdealWifiManager",
          "ns3::IdealWifiManager",
          "ns3::IdealWifiManager",
          "ns3::IdealWifiManager",
          "ns3::IdealWifiManager",
          "ns3::IdealWifiManager",
          "ns3::IdealWifiManager",
          "ns3::IdealWifiManager",
          "ns3::IdealWifiManager",
          "ns3::IdealWifiManager",
          "ns3::IntelWifiManager",
          "ns3::IntelWifiManager",
          "ns3::IntelWifiManager",
          "ns3::IntelWifiManager",
          "ns3::IntelWifiManager",
          "ns3::IntelWifiManager",
          "ns3::IntelWifiManager",
          "ns3::IntelWifiManager",
          "ns3::IntelWifiManager",
          "ns3::IntelWifiManager",
          "ns3::IntelWifiManager",
          "ns3::IntelWifiManager",
          "ns3::IntelWifiManager",
          "ns3::IntelWifiManager",
          "ns3::IntelWifiManager",
          "ns3::IntelWifiManager",
          "ns3::IntelWifiManager",
          "ns3::IntelWifiManager",
          "ns3::IntelWifiManager",
          "ns3::IntelWifiManager",
          "ns3::MinstrelHtWifiManager",
          "ns3::MinstrelHtWifiManager",
          "ns3::MinstrelHtWifiManager",
          "ns3::MinstrelHtWifiManager",
          "ns3::MinstrelHtWifiManager",
          "ns3::MinstrelHtWifiManager",
          "ns3::MinstrelHtWifiManager",
          "ns3::MinstrelHtWifiManager",
          "ns3::MinstrelHtWifiManager",
          "ns3::MinstrelHtWifiManager",
          "ns3::MinstrelHtWifiManager",
          "ns3::MinstrelHtWifiManager",
          "ns3::MinstrelHtWifiManager",
          "ns3::MinstrelHtWifiManager",
          "ns3::MinstrelHtWifiManager",
          "ns3::MinstrelHtWifiManager",
          "ns3::MinstrelHtWifiManager",
          "ns3::MinstrelHtWifiManager",
          "ns3::MinstrelHtWifiManager",
          "ns3::MinstrelHtWifiManager"
         ],
         "y": [
          99.75,
          100,
          100,
          100,
          100,
          100,
          100,
          100,
          100,
          100,
          100,
          100,
          100,
          100,
          100,
          99.75,
          100,
          100,
          100,
          99.75,
          100,
          100,
          100,
          99.75,
          100,
          100,
          99.75,
          100,
          100,
          99.75,
          99.75,
          100,
          100,
          100,
          99.75,
          100,
          100,
          99.75,
          100,
          99.75,
          100,
          100,
          100,
          100,
          100,
          99.5,
          100,
          100,
          100,
          100,
          100,
          100,
          100,
          100,
          99.75,
          100,
          99.5,
          100,
          100,
          100
         ]
        }
       ],
       "layout": {
        "boxmode": "group",
        "legend": {
         "orientation": "h"
        },
        "template": {
         "data": {
          "bar": [
           {
            "error_x": {
             "color": "rgb(36,36,36)"
            },
            "error_y": {
             "color": "rgb(36,36,36)"
            },
            "marker": {
             "line": {
              "color": "white",
              "width": 0.5
             }
            },
            "type": "bar"
           }
          ],
          "barpolar": [
           {
            "marker": {
             "line": {
              "color": "white",
              "width": 0.5
             }
            },
            "type": "barpolar"
           }
          ],
          "carpet": [
           {
            "aaxis": {
             "endlinecolor": "rgb(36,36,36)",
             "gridcolor": "white",
             "linecolor": "white",
             "minorgridcolor": "white",
             "startlinecolor": "rgb(36,36,36)"
            },
            "baxis": {
             "endlinecolor": "rgb(36,36,36)",
             "gridcolor": "white",
             "linecolor": "white",
             "minorgridcolor": "white",
             "startlinecolor": "rgb(36,36,36)"
            },
            "type": "carpet"
           }
          ],
          "choropleth": [
           {
            "colorbar": {
             "outlinewidth": 1,
             "tickcolor": "rgb(36,36,36)",
             "ticks": "outside"
            },
            "type": "choropleth"
           }
          ],
          "contour": [
           {
            "colorbar": {
             "outlinewidth": 1,
             "tickcolor": "rgb(36,36,36)",
             "ticks": "outside"
            },
            "colorscale": [
             [
              0,
              "#440154"
             ],
             [
              0.1111111111111111,
              "#482878"
             ],
             [
              0.2222222222222222,
              "#3e4989"
             ],
             [
              0.3333333333333333,
              "#31688e"
             ],
             [
              0.4444444444444444,
              "#26828e"
             ],
             [
              0.5555555555555556,
              "#1f9e89"
             ],
             [
              0.6666666666666666,
              "#35b779"
             ],
             [
              0.7777777777777778,
              "#6ece58"
             ],
             [
              0.8888888888888888,
              "#b5de2b"
             ],
             [
              1,
              "#fde725"
             ]
            ],
            "type": "contour"
           }
          ],
          "contourcarpet": [
           {
            "colorbar": {
             "outlinewidth": 1,
             "tickcolor": "rgb(36,36,36)",
             "ticks": "outside"
            },
            "type": "contourcarpet"
           }
          ],
          "heatmap": [
           {
            "colorbar": {
             "outlinewidth": 1,
             "tickcolor": "rgb(36,36,36)",
             "ticks": "outside"
            },
            "colorscale": [
             [
              0,
              "#440154"
             ],
             [
              0.1111111111111111,
              "#482878"
             ],
             [
              0.2222222222222222,
              "#3e4989"
             ],
             [
              0.3333333333333333,
              "#31688e"
             ],
             [
              0.4444444444444444,
              "#26828e"
             ],
             [
              0.5555555555555556,
              "#1f9e89"
             ],
             [
              0.6666666666666666,
              "#35b779"
             ],
             [
              0.7777777777777778,
              "#6ece58"
             ],
             [
              0.8888888888888888,
              "#b5de2b"
             ],
             [
              1,
              "#fde725"
             ]
            ],
            "type": "heatmap"
           }
          ],
          "heatmapgl": [
           {
            "colorbar": {
             "outlinewidth": 1,
             "tickcolor": "rgb(36,36,36)",
             "ticks": "outside"
            },
            "colorscale": [
             [
              0,
              "#440154"
             ],
             [
              0.1111111111111111,
              "#482878"
             ],
             [
              0.2222222222222222,
              "#3e4989"
             ],
             [
              0.3333333333333333,
              "#31688e"
             ],
             [
              0.4444444444444444,
              "#26828e"
             ],
             [
              0.5555555555555556,
              "#1f9e89"
             ],
             [
              0.6666666666666666,
              "#35b779"
             ],
             [
              0.7777777777777778,
              "#6ece58"
             ],
             [
              0.8888888888888888,
              "#b5de2b"
             ],
             [
              1,
              "#fde725"
             ]
            ],
            "type": "heatmapgl"
           }
          ],
          "histogram": [
           {
            "marker": {
             "line": {
              "color": "white",
              "width": 0.6
             }
            },
            "type": "histogram"
           }
          ],
          "histogram2d": [
           {
            "colorbar": {
             "outlinewidth": 1,
             "tickcolor": "rgb(36,36,36)",
             "ticks": "outside"
            },
            "colorscale": [
             [
              0,
              "#440154"
             ],
             [
              0.1111111111111111,
              "#482878"
             ],
             [
              0.2222222222222222,
              "#3e4989"
             ],
             [
              0.3333333333333333,
              "#31688e"
             ],
             [
              0.4444444444444444,
              "#26828e"
             ],
             [
              0.5555555555555556,
              "#1f9e89"
             ],
             [
              0.6666666666666666,
              "#35b779"
             ],
             [
              0.7777777777777778,
              "#6ece58"
             ],
             [
              0.8888888888888888,
              "#b5de2b"
             ],
             [
              1,
              "#fde725"
             ]
            ],
            "type": "histogram2d"
           }
          ],
          "histogram2dcontour": [
           {
            "colorbar": {
             "outlinewidth": 1,
             "tickcolor": "rgb(36,36,36)",
             "ticks": "outside"
            },
            "colorscale": [
             [
              0,
              "#440154"
             ],
             [
              0.1111111111111111,
              "#482878"
             ],
             [
              0.2222222222222222,
              "#3e4989"
             ],
             [
              0.3333333333333333,
              "#31688e"
             ],
             [
              0.4444444444444444,
              "#26828e"
             ],
             [
              0.5555555555555556,
              "#1f9e89"
             ],
             [
              0.6666666666666666,
              "#35b779"
             ],
             [
              0.7777777777777778,
              "#6ece58"
             ],
             [
              0.8888888888888888,
              "#b5de2b"
             ],
             [
              1,
              "#fde725"
             ]
            ],
            "type": "histogram2dcontour"
           }
          ],
          "mesh3d": [
           {
            "colorbar": {
             "outlinewidth": 1,
             "tickcolor": "rgb(36,36,36)",
             "ticks": "outside"
            },
            "type": "mesh3d"
           }
          ],
          "parcoords": [
           {
            "line": {
             "colorbar": {
              "outlinewidth": 1,
              "tickcolor": "rgb(36,36,36)",
              "ticks": "outside"
             }
            },
            "type": "parcoords"
           }
          ],
          "pie": [
           {
            "automargin": true,
            "type": "pie"
           }
          ],
          "scatter": [
           {
            "marker": {
             "colorbar": {
              "outlinewidth": 1,
              "tickcolor": "rgb(36,36,36)",
              "ticks": "outside"
             }
            },
            "type": "scatter"
           }
          ],
          "scatter3d": [
           {
            "line": {
             "colorbar": {
              "outlinewidth": 1,
              "tickcolor": "rgb(36,36,36)",
              "ticks": "outside"
             }
            },
            "marker": {
             "colorbar": {
              "outlinewidth": 1,
              "tickcolor": "rgb(36,36,36)",
              "ticks": "outside"
             }
            },
            "type": "scatter3d"
           }
          ],
          "scattercarpet": [
           {
            "marker": {
             "colorbar": {
              "outlinewidth": 1,
              "tickcolor": "rgb(36,36,36)",
              "ticks": "outside"
             }
            },
            "type": "scattercarpet"
           }
          ],
          "scattergeo": [
           {
            "marker": {
             "colorbar": {
              "outlinewidth": 1,
              "tickcolor": "rgb(36,36,36)",
              "ticks": "outside"
             }
            },
            "type": "scattergeo"
           }
          ],
          "scattergl": [
           {
            "marker": {
             "colorbar": {
              "outlinewidth": 1,
              "tickcolor": "rgb(36,36,36)",
              "ticks": "outside"
             }
            },
            "type": "scattergl"
           }
          ],
          "scattermapbox": [
           {
            "marker": {
             "colorbar": {
              "outlinewidth": 1,
              "tickcolor": "rgb(36,36,36)",
              "ticks": "outside"
             }
            },
            "type": "scattermapbox"
           }
          ],
          "scatterpolar": [
           {
            "marker": {
             "colorbar": {
              "outlinewidth": 1,
              "tickcolor": "rgb(36,36,36)",
              "ticks": "outside"
             }
            },
            "type": "scatterpolar"
           }
          ],
          "scatterpolargl": [
           {
            "marker": {
             "colorbar": {
              "outlinewidth": 1,
              "tickcolor": "rgb(36,36,36)",
              "ticks": "outside"
             }
            },
            "type": "scatterpolargl"
           }
          ],
          "scatterternary": [
           {
            "marker": {
             "colorbar": {
              "outlinewidth": 1,
              "tickcolor": "rgb(36,36,36)",
              "ticks": "outside"
             }
            },
            "type": "scatterternary"
           }
          ],
          "surface": [
           {
            "colorbar": {
             "outlinewidth": 1,
             "tickcolor": "rgb(36,36,36)",
             "ticks": "outside"
            },
            "colorscale": [
             [
              0,
              "#440154"
             ],
             [
              0.1111111111111111,
              "#482878"
             ],
             [
              0.2222222222222222,
              "#3e4989"
             ],
             [
              0.3333333333333333,
              "#31688e"
             ],
             [
              0.4444444444444444,
              "#26828e"
             ],
             [
              0.5555555555555556,
              "#1f9e89"
             ],
             [
              0.6666666666666666,
              "#35b779"
             ],
             [
              0.7777777777777778,
              "#6ece58"
             ],
             [
              0.8888888888888888,
              "#b5de2b"
             ],
             [
              1,
              "#fde725"
             ]
            ],
            "type": "surface"
           }
          ],
          "table": [
           {
            "cells": {
             "fill": {
              "color": "rgb(237,237,237)"
             },
             "line": {
              "color": "white"
             }
            },
            "header": {
             "fill": {
              "color": "rgb(217,217,217)"
             },
             "line": {
              "color": "white"
             }
            },
            "type": "table"
           }
          ]
         },
         "layout": {
          "annotationdefaults": {
           "arrowhead": 0,
           "arrowwidth": 1
          },
          "autotypenumbers": "strict",
          "coloraxis": {
           "colorbar": {
            "outlinewidth": 1,
            "tickcolor": "rgb(36,36,36)",
            "ticks": "outside"
           }
          },
          "colorscale": {
           "diverging": [
            [
             0,
             "rgb(103,0,31)"
            ],
            [
             0.1,
             "rgb(178,24,43)"
            ],
            [
             0.2,
             "rgb(214,96,77)"
            ],
            [
             0.3,
             "rgb(244,165,130)"
            ],
            [
             0.4,
             "rgb(253,219,199)"
            ],
            [
             0.5,
             "rgb(247,247,247)"
            ],
            [
             0.6,
             "rgb(209,229,240)"
            ],
            [
             0.7,
             "rgb(146,197,222)"
            ],
            [
             0.8,
             "rgb(67,147,195)"
            ],
            [
             0.9,
             "rgb(33,102,172)"
            ],
            [
             1,
             "rgb(5,48,97)"
            ]
           ],
           "sequential": [
            [
             0,
             "#440154"
            ],
            [
             0.1111111111111111,
             "#482878"
            ],
            [
             0.2222222222222222,
             "#3e4989"
            ],
            [
             0.3333333333333333,
             "#31688e"
            ],
            [
             0.4444444444444444,
             "#26828e"
            ],
            [
             0.5555555555555556,
             "#1f9e89"
            ],
            [
             0.6666666666666666,
             "#35b779"
            ],
            [
             0.7777777777777778,
             "#6ece58"
            ],
            [
             0.8888888888888888,
             "#b5de2b"
            ],
            [
             1,
             "#fde725"
            ]
           ],
           "sequentialminus": [
            [
             0,
             "#440154"
            ],
            [
             0.1111111111111111,
             "#482878"
            ],
            [
             0.2222222222222222,
             "#3e4989"
            ],
            [
             0.3333333333333333,
             "#31688e"
            ],
            [
             0.4444444444444444,
             "#26828e"
            ],
            [
             0.5555555555555556,
             "#1f9e89"
            ],
            [
             0.6666666666666666,
             "#35b779"
            ],
            [
             0.7777777777777778,
             "#6ece58"
            ],
            [
             0.8888888888888888,
             "#b5de2b"
            ],
            [
             1,
             "#fde725"
            ]
           ]
          },
          "colorway": [
           "#1F77B4",
           "#FF7F0E",
           "#2CA02C",
           "#D62728",
           "#9467BD",
           "#8C564B",
           "#E377C2",
           "#7F7F7F",
           "#BCBD22",
           "#17BECF"
          ],
          "font": {
           "color": "rgb(36,36,36)"
          },
          "geo": {
           "bgcolor": "white",
           "lakecolor": "white",
           "landcolor": "white",
           "showlakes": true,
           "showland": true,
           "subunitcolor": "white"
          },
          "hoverlabel": {
           "align": "left"
          },
          "hovermode": "closest",
          "mapbox": {
           "style": "light"
          },
          "paper_bgcolor": "white",
          "plot_bgcolor": "white",
          "polar": {
           "angularaxis": {
            "gridcolor": "rgb(232,232,232)",
            "linecolor": "rgb(36,36,36)",
            "showgrid": false,
            "showline": true,
            "ticks": "outside"
           },
           "bgcolor": "white",
           "radialaxis": {
            "gridcolor": "rgb(232,232,232)",
            "linecolor": "rgb(36,36,36)",
            "showgrid": false,
            "showline": true,
            "ticks": "outside"
           }
          },
          "scene": {
           "xaxis": {
            "backgroundcolor": "white",
            "gridcolor": "rgb(232,232,232)",
            "gridwidth": 2,
            "linecolor": "rgb(36,36,36)",
            "showbackground": true,
            "showgrid": false,
            "showline": true,
            "ticks": "outside",
            "zeroline": false,
            "zerolinecolor": "rgb(36,36,36)"
           },
           "yaxis": {
            "backgroundcolor": "white",
            "gridcolor": "rgb(232,232,232)",
            "gridwidth": 2,
            "linecolor": "rgb(36,36,36)",
            "showbackground": true,
            "showgrid": false,
            "showline": true,
            "ticks": "outside",
            "zeroline": false,
            "zerolinecolor": "rgb(36,36,36)"
           },
           "zaxis": {
            "backgroundcolor": "white",
            "gridcolor": "rgb(232,232,232)",
            "gridwidth": 2,
            "linecolor": "rgb(36,36,36)",
            "showbackground": true,
            "showgrid": false,
            "showline": true,
            "ticks": "outside",
            "zeroline": false,
            "zerolinecolor": "rgb(36,36,36)"
           }
          },
          "shapedefaults": {
           "fillcolor": "black",
           "line": {
            "width": 0
           },
           "opacity": 0.3
          },
          "ternary": {
           "aaxis": {
            "gridcolor": "rgb(232,232,232)",
            "linecolor": "rgb(36,36,36)",
            "showgrid": false,
            "showline": true,
            "ticks": "outside"
           },
           "baxis": {
            "gridcolor": "rgb(232,232,232)",
            "linecolor": "rgb(36,36,36)",
            "showgrid": false,
            "showline": true,
            "ticks": "outside"
           },
           "bgcolor": "white",
           "caxis": {
            "gridcolor": "rgb(232,232,232)",
            "linecolor": "rgb(36,36,36)",
            "showgrid": false,
            "showline": true,
            "ticks": "outside"
           }
          },
          "title": {
           "x": 0.05
          },
          "xaxis": {
           "automargin": true,
           "gridcolor": "rgb(232,232,232)",
           "linecolor": "rgb(36,36,36)",
           "showgrid": false,
           "showline": true,
           "ticks": "outside",
           "title": {
            "standoff": 15
           },
           "zeroline": false,
           "zerolinecolor": "rgb(36,36,36)"
          },
          "yaxis": {
           "automargin": true,
           "gridcolor": "rgb(232,232,232)",
           "linecolor": "rgb(36,36,36)",
           "showgrid": false,
           "showline": true,
           "ticks": "outside",
           "title": {
            "standoff": 15
           },
           "zeroline": false,
           "zerolinecolor": "rgb(36,36,36)"
          }
         }
        },
        "xaxis": {
         "gridcolor": "LightGrey",
         "gridwidth": 1,
         "showgrid": true,
         "title": {
          "text": "Wifi Manager"
         }
        },
        "yaxis": {
         "gridcolor": "LightGrey",
         "gridwidth": 1,
         "range": [
          -5,
          105
         ],
         "showgrid": true,
         "title": {
          "text": "Time (s)"
         },
         "zeroline": false
        }
       }
      },
      "text/html": [
       "<div>                            <div id=\"f8e2ef42-8015-460e-a675-52c8769dd7ff\" class=\"plotly-graph-div\" style=\"height:525px; width:100%;\"></div>            <script type=\"text/javascript\">                require([\"plotly\"], function(Plotly) {                    window.PLOTLYENV=window.PLOTLYENV || {};                                    if (document.getElementById(\"f8e2ef42-8015-460e-a675-52c8769dd7ff\")) {                    Plotly.newPlot(                        \"f8e2ef42-8015-460e-a675-52c8769dd7ff\",                        [{\"boxmean\": true, \"name\": \"Orientation Convergence Time\", \"type\": \"box\", \"x\": [\"ns3::IdealWifiManager\", \"ns3::IdealWifiManager\", \"ns3::IdealWifiManager\", \"ns3::IdealWifiManager\", \"ns3::IdealWifiManager\", \"ns3::IdealWifiManager\", \"ns3::IdealWifiManager\", \"ns3::IdealWifiManager\", \"ns3::IdealWifiManager\", \"ns3::IdealWifiManager\", \"ns3::IdealWifiManager\", \"ns3::IdealWifiManager\", \"ns3::IdealWifiManager\", \"ns3::IdealWifiManager\", \"ns3::IdealWifiManager\", \"ns3::IdealWifiManager\", \"ns3::IdealWifiManager\", \"ns3::IdealWifiManager\", \"ns3::IdealWifiManager\", \"ns3::IdealWifiManager\", \"ns3::IntelWifiManager\", \"ns3::IntelWifiManager\", \"ns3::IntelWifiManager\", \"ns3::IntelWifiManager\", \"ns3::IntelWifiManager\", \"ns3::IntelWifiManager\", \"ns3::IntelWifiManager\", \"ns3::IntelWifiManager\", \"ns3::IntelWifiManager\", \"ns3::IntelWifiManager\", \"ns3::IntelWifiManager\", \"ns3::IntelWifiManager\", \"ns3::IntelWifiManager\", \"ns3::IntelWifiManager\", \"ns3::IntelWifiManager\", \"ns3::IntelWifiManager\", \"ns3::IntelWifiManager\", \"ns3::IntelWifiManager\", \"ns3::IntelWifiManager\", \"ns3::IntelWifiManager\", \"ns3::MinstrelHtWifiManager\", \"ns3::MinstrelHtWifiManager\", \"ns3::MinstrelHtWifiManager\", \"ns3::MinstrelHtWifiManager\", \"ns3::MinstrelHtWifiManager\", \"ns3::MinstrelHtWifiManager\", \"ns3::MinstrelHtWifiManager\", \"ns3::MinstrelHtWifiManager\", \"ns3::MinstrelHtWifiManager\", \"ns3::MinstrelHtWifiManager\", \"ns3::MinstrelHtWifiManager\", \"ns3::MinstrelHtWifiManager\", \"ns3::MinstrelHtWifiManager\", \"ns3::MinstrelHtWifiManager\", \"ns3::MinstrelHtWifiManager\", \"ns3::MinstrelHtWifiManager\", \"ns3::MinstrelHtWifiManager\", \"ns3::MinstrelHtWifiManager\", \"ns3::MinstrelHtWifiManager\", \"ns3::MinstrelHtWifiManager\"], \"y\": [23.97, 25.49, 23.6, 24.46, 25.15, 31.14, 25.65, 25.53, 24.81, 24.34, 26.92, 26.44, 26.71, 26.56, 30.02, 29.8, 27.51, 26.61, 27.33, 27.34, 26.04, 25.25, 26.65, 26.7, 24.93, 28.41, 27.04, 26.43, 25.84, 24.75, 27.99, 26.18, 28.25, 26.99, 32.46, 29.9, 28.23, 29.53, 25.53, 28.35, 26.43, 27.47, 25.06, 25.97, 28.03, 34.14, 27.96, 28.72, 25.63, 25.73, 28.07, 26.9, 27.38, 28.77, 31.47, 31.48, 27.3, 28.61, 26.49, 28.29]}, {\"boxmean\": true, \"name\": \"Throughput Convergence Time\", \"type\": \"box\", \"x\": [\"ns3::IdealWifiManager\", \"ns3::IdealWifiManager\", \"ns3::IdealWifiManager\", \"ns3::IdealWifiManager\", \"ns3::IdealWifiManager\", \"ns3::IdealWifiManager\", \"ns3::IdealWifiManager\", \"ns3::IdealWifiManager\", \"ns3::IdealWifiManager\", \"ns3::IdealWifiManager\", \"ns3::IdealWifiManager\", \"ns3::IdealWifiManager\", \"ns3::IdealWifiManager\", \"ns3::IdealWifiManager\", \"ns3::IdealWifiManager\", \"ns3::IdealWifiManager\", \"ns3::IdealWifiManager\", \"ns3::IdealWifiManager\", \"ns3::IdealWifiManager\", \"ns3::IdealWifiManager\", \"ns3::IntelWifiManager\", \"ns3::IntelWifiManager\", \"ns3::IntelWifiManager\", \"ns3::IntelWifiManager\", \"ns3::IntelWifiManager\", \"ns3::IntelWifiManager\", \"ns3::IntelWifiManager\", \"ns3::IntelWifiManager\", \"ns3::IntelWifiManager\", \"ns3::IntelWifiManager\", \"ns3::IntelWifiManager\", \"ns3::IntelWifiManager\", \"ns3::IntelWifiManager\", \"ns3::IntelWifiManager\", \"ns3::IntelWifiManager\", \"ns3::IntelWifiManager\", \"ns3::IntelWifiManager\", \"ns3::IntelWifiManager\", \"ns3::IntelWifiManager\", \"ns3::IntelWifiManager\", \"ns3::MinstrelHtWifiManager\", \"ns3::MinstrelHtWifiManager\", \"ns3::MinstrelHtWifiManager\", \"ns3::MinstrelHtWifiManager\", \"ns3::MinstrelHtWifiManager\", \"ns3::MinstrelHtWifiManager\", \"ns3::MinstrelHtWifiManager\", \"ns3::MinstrelHtWifiManager\", \"ns3::MinstrelHtWifiManager\", \"ns3::MinstrelHtWifiManager\", \"ns3::MinstrelHtWifiManager\", \"ns3::MinstrelHtWifiManager\", \"ns3::MinstrelHtWifiManager\", \"ns3::MinstrelHtWifiManager\", \"ns3::MinstrelHtWifiManager\", \"ns3::MinstrelHtWifiManager\", \"ns3::MinstrelHtWifiManager\", \"ns3::MinstrelHtWifiManager\", \"ns3::MinstrelHtWifiManager\", \"ns3::MinstrelHtWifiManager\"], \"y\": [99.75, 100.0, 100.0, 100.0, 100.0, 100.0, 100.0, 100.0, 100.0, 100.0, 100.0, 100.0, 100.0, 100.0, 100.0, 99.75, 100.0, 100.0, 100.0, 99.75, 100.0, 100.0, 100.0, 99.75, 100.0, 100.0, 99.75, 100.0, 100.0, 99.75, 99.75, 100.0, 100.0, 100.0, 99.75, 100.0, 100.0, 99.75, 100.0, 99.75, 100.0, 100.0, 100.0, 100.0, 100.0, 99.5, 100.0, 100.0, 100.0, 100.0, 100.0, 100.0, 100.0, 100.0, 99.75, 100.0, 99.5, 100.0, 100.0, 100.0]}],                        {\"boxmode\": \"group\", \"legend\": {\"orientation\": \"h\"}, \"template\": {\"data\": {\"bar\": [{\"error_x\": {\"color\": \"rgb(36,36,36)\"}, \"error_y\": {\"color\": \"rgb(36,36,36)\"}, \"marker\": {\"line\": {\"color\": \"white\", \"width\": 0.5}}, \"type\": \"bar\"}], \"barpolar\": [{\"marker\": {\"line\": {\"color\": \"white\", \"width\": 0.5}}, \"type\": \"barpolar\"}], \"carpet\": [{\"aaxis\": {\"endlinecolor\": \"rgb(36,36,36)\", \"gridcolor\": \"white\", \"linecolor\": \"white\", \"minorgridcolor\": \"white\", \"startlinecolor\": \"rgb(36,36,36)\"}, \"baxis\": {\"endlinecolor\": \"rgb(36,36,36)\", \"gridcolor\": \"white\", \"linecolor\": \"white\", \"minorgridcolor\": \"white\", \"startlinecolor\": \"rgb(36,36,36)\"}, \"type\": \"carpet\"}], \"choropleth\": [{\"colorbar\": {\"outlinewidth\": 1, \"tickcolor\": \"rgb(36,36,36)\", \"ticks\": \"outside\"}, \"type\": \"choropleth\"}], \"contour\": [{\"colorbar\": {\"outlinewidth\": 1, \"tickcolor\": \"rgb(36,36,36)\", \"ticks\": \"outside\"}, \"colorscale\": [[0.0, \"#440154\"], [0.1111111111111111, \"#482878\"], [0.2222222222222222, \"#3e4989\"], [0.3333333333333333, \"#31688e\"], [0.4444444444444444, \"#26828e\"], [0.5555555555555556, \"#1f9e89\"], [0.6666666666666666, \"#35b779\"], [0.7777777777777778, \"#6ece58\"], [0.8888888888888888, \"#b5de2b\"], [1.0, \"#fde725\"]], \"type\": \"contour\"}], \"contourcarpet\": [{\"colorbar\": {\"outlinewidth\": 1, \"tickcolor\": \"rgb(36,36,36)\", \"ticks\": \"outside\"}, \"type\": \"contourcarpet\"}], \"heatmap\": [{\"colorbar\": {\"outlinewidth\": 1, \"tickcolor\": \"rgb(36,36,36)\", \"ticks\": \"outside\"}, \"colorscale\": [[0.0, \"#440154\"], [0.1111111111111111, \"#482878\"], [0.2222222222222222, \"#3e4989\"], [0.3333333333333333, \"#31688e\"], [0.4444444444444444, \"#26828e\"], [0.5555555555555556, \"#1f9e89\"], [0.6666666666666666, \"#35b779\"], [0.7777777777777778, \"#6ece58\"], [0.8888888888888888, \"#b5de2b\"], [1.0, \"#fde725\"]], \"type\": \"heatmap\"}], \"heatmapgl\": [{\"colorbar\": {\"outlinewidth\": 1, \"tickcolor\": \"rgb(36,36,36)\", \"ticks\": \"outside\"}, \"colorscale\": [[0.0, \"#440154\"], [0.1111111111111111, \"#482878\"], [0.2222222222222222, \"#3e4989\"], [0.3333333333333333, \"#31688e\"], [0.4444444444444444, \"#26828e\"], [0.5555555555555556, \"#1f9e89\"], [0.6666666666666666, \"#35b779\"], [0.7777777777777778, \"#6ece58\"], [0.8888888888888888, \"#b5de2b\"], [1.0, \"#fde725\"]], \"type\": \"heatmapgl\"}], \"histogram\": [{\"marker\": {\"line\": {\"color\": \"white\", \"width\": 0.6}}, \"type\": \"histogram\"}], \"histogram2d\": [{\"colorbar\": {\"outlinewidth\": 1, \"tickcolor\": \"rgb(36,36,36)\", \"ticks\": \"outside\"}, \"colorscale\": [[0.0, \"#440154\"], [0.1111111111111111, \"#482878\"], [0.2222222222222222, \"#3e4989\"], [0.3333333333333333, \"#31688e\"], [0.4444444444444444, \"#26828e\"], [0.5555555555555556, \"#1f9e89\"], [0.6666666666666666, \"#35b779\"], [0.7777777777777778, \"#6ece58\"], [0.8888888888888888, \"#b5de2b\"], [1.0, \"#fde725\"]], \"type\": \"histogram2d\"}], \"histogram2dcontour\": [{\"colorbar\": {\"outlinewidth\": 1, \"tickcolor\": \"rgb(36,36,36)\", \"ticks\": \"outside\"}, \"colorscale\": [[0.0, \"#440154\"], [0.1111111111111111, \"#482878\"], [0.2222222222222222, \"#3e4989\"], [0.3333333333333333, \"#31688e\"], [0.4444444444444444, \"#26828e\"], [0.5555555555555556, \"#1f9e89\"], [0.6666666666666666, \"#35b779\"], [0.7777777777777778, \"#6ece58\"], [0.8888888888888888, \"#b5de2b\"], [1.0, \"#fde725\"]], \"type\": \"histogram2dcontour\"}], \"mesh3d\": [{\"colorbar\": {\"outlinewidth\": 1, \"tickcolor\": \"rgb(36,36,36)\", \"ticks\": \"outside\"}, \"type\": \"mesh3d\"}], \"parcoords\": [{\"line\": {\"colorbar\": {\"outlinewidth\": 1, \"tickcolor\": \"rgb(36,36,36)\", \"ticks\": \"outside\"}}, \"type\": \"parcoords\"}], \"pie\": [{\"automargin\": true, \"type\": \"pie\"}], \"scatter\": [{\"marker\": {\"colorbar\": {\"outlinewidth\": 1, \"tickcolor\": \"rgb(36,36,36)\", \"ticks\": \"outside\"}}, \"type\": \"scatter\"}], \"scatter3d\": [{\"line\": {\"colorbar\": {\"outlinewidth\": 1, \"tickcolor\": \"rgb(36,36,36)\", \"ticks\": \"outside\"}}, \"marker\": {\"colorbar\": {\"outlinewidth\": 1, \"tickcolor\": \"rgb(36,36,36)\", \"ticks\": \"outside\"}}, \"type\": \"scatter3d\"}], \"scattercarpet\": [{\"marker\": {\"colorbar\": {\"outlinewidth\": 1, \"tickcolor\": \"rgb(36,36,36)\", \"ticks\": \"outside\"}}, \"type\": \"scattercarpet\"}], \"scattergeo\": [{\"marker\": {\"colorbar\": {\"outlinewidth\": 1, \"tickcolor\": \"rgb(36,36,36)\", \"ticks\": \"outside\"}}, \"type\": \"scattergeo\"}], \"scattergl\": [{\"marker\": {\"colorbar\": {\"outlinewidth\": 1, \"tickcolor\": \"rgb(36,36,36)\", \"ticks\": \"outside\"}}, \"type\": \"scattergl\"}], \"scattermapbox\": [{\"marker\": {\"colorbar\": {\"outlinewidth\": 1, \"tickcolor\": \"rgb(36,36,36)\", \"ticks\": \"outside\"}}, \"type\": \"scattermapbox\"}], \"scatterpolar\": [{\"marker\": {\"colorbar\": {\"outlinewidth\": 1, \"tickcolor\": \"rgb(36,36,36)\", \"ticks\": \"outside\"}}, \"type\": \"scatterpolar\"}], \"scatterpolargl\": [{\"marker\": {\"colorbar\": {\"outlinewidth\": 1, \"tickcolor\": \"rgb(36,36,36)\", \"ticks\": \"outside\"}}, \"type\": \"scatterpolargl\"}], \"scatterternary\": [{\"marker\": {\"colorbar\": {\"outlinewidth\": 1, \"tickcolor\": \"rgb(36,36,36)\", \"ticks\": \"outside\"}}, \"type\": \"scatterternary\"}], \"surface\": [{\"colorbar\": {\"outlinewidth\": 1, \"tickcolor\": \"rgb(36,36,36)\", \"ticks\": \"outside\"}, \"colorscale\": [[0.0, \"#440154\"], [0.1111111111111111, \"#482878\"], [0.2222222222222222, \"#3e4989\"], [0.3333333333333333, \"#31688e\"], [0.4444444444444444, \"#26828e\"], [0.5555555555555556, \"#1f9e89\"], [0.6666666666666666, \"#35b779\"], [0.7777777777777778, \"#6ece58\"], [0.8888888888888888, \"#b5de2b\"], [1.0, \"#fde725\"]], \"type\": \"surface\"}], \"table\": [{\"cells\": {\"fill\": {\"color\": \"rgb(237,237,237)\"}, \"line\": {\"color\": \"white\"}}, \"header\": {\"fill\": {\"color\": \"rgb(217,217,217)\"}, \"line\": {\"color\": \"white\"}}, \"type\": \"table\"}]}, \"layout\": {\"annotationdefaults\": {\"arrowhead\": 0, \"arrowwidth\": 1}, \"autotypenumbers\": \"strict\", \"coloraxis\": {\"colorbar\": {\"outlinewidth\": 1, \"tickcolor\": \"rgb(36,36,36)\", \"ticks\": \"outside\"}}, \"colorscale\": {\"diverging\": [[0.0, \"rgb(103,0,31)\"], [0.1, \"rgb(178,24,43)\"], [0.2, \"rgb(214,96,77)\"], [0.3, \"rgb(244,165,130)\"], [0.4, \"rgb(253,219,199)\"], [0.5, \"rgb(247,247,247)\"], [0.6, \"rgb(209,229,240)\"], [0.7, \"rgb(146,197,222)\"], [0.8, \"rgb(67,147,195)\"], [0.9, \"rgb(33,102,172)\"], [1.0, \"rgb(5,48,97)\"]], \"sequential\": [[0.0, \"#440154\"], [0.1111111111111111, \"#482878\"], [0.2222222222222222, \"#3e4989\"], [0.3333333333333333, \"#31688e\"], [0.4444444444444444, \"#26828e\"], [0.5555555555555556, \"#1f9e89\"], [0.6666666666666666, \"#35b779\"], [0.7777777777777778, \"#6ece58\"], [0.8888888888888888, \"#b5de2b\"], [1.0, \"#fde725\"]], \"sequentialminus\": [[0.0, \"#440154\"], [0.1111111111111111, \"#482878\"], [0.2222222222222222, \"#3e4989\"], [0.3333333333333333, \"#31688e\"], [0.4444444444444444, \"#26828e\"], [0.5555555555555556, \"#1f9e89\"], [0.6666666666666666, \"#35b779\"], [0.7777777777777778, \"#6ece58\"], [0.8888888888888888, \"#b5de2b\"], [1.0, \"#fde725\"]]}, \"colorway\": [\"#1F77B4\", \"#FF7F0E\", \"#2CA02C\", \"#D62728\", \"#9467BD\", \"#8C564B\", \"#E377C2\", \"#7F7F7F\", \"#BCBD22\", \"#17BECF\"], \"font\": {\"color\": \"rgb(36,36,36)\"}, \"geo\": {\"bgcolor\": \"white\", \"lakecolor\": \"white\", \"landcolor\": \"white\", \"showlakes\": true, \"showland\": true, \"subunitcolor\": \"white\"}, \"hoverlabel\": {\"align\": \"left\"}, \"hovermode\": \"closest\", \"mapbox\": {\"style\": \"light\"}, \"paper_bgcolor\": \"white\", \"plot_bgcolor\": \"white\", \"polar\": {\"angularaxis\": {\"gridcolor\": \"rgb(232,232,232)\", \"linecolor\": \"rgb(36,36,36)\", \"showgrid\": false, \"showline\": true, \"ticks\": \"outside\"}, \"bgcolor\": \"white\", \"radialaxis\": {\"gridcolor\": \"rgb(232,232,232)\", \"linecolor\": \"rgb(36,36,36)\", \"showgrid\": false, \"showline\": true, \"ticks\": \"outside\"}}, \"scene\": {\"xaxis\": {\"backgroundcolor\": \"white\", \"gridcolor\": \"rgb(232,232,232)\", \"gridwidth\": 2, \"linecolor\": \"rgb(36,36,36)\", \"showbackground\": true, \"showgrid\": false, \"showline\": true, \"ticks\": \"outside\", \"zeroline\": false, \"zerolinecolor\": \"rgb(36,36,36)\"}, \"yaxis\": {\"backgroundcolor\": \"white\", \"gridcolor\": \"rgb(232,232,232)\", \"gridwidth\": 2, \"linecolor\": \"rgb(36,36,36)\", \"showbackground\": true, \"showgrid\": false, \"showline\": true, \"ticks\": \"outside\", \"zeroline\": false, \"zerolinecolor\": \"rgb(36,36,36)\"}, \"zaxis\": {\"backgroundcolor\": \"white\", \"gridcolor\": \"rgb(232,232,232)\", \"gridwidth\": 2, \"linecolor\": \"rgb(36,36,36)\", \"showbackground\": true, \"showgrid\": false, \"showline\": true, \"ticks\": \"outside\", \"zeroline\": false, \"zerolinecolor\": \"rgb(36,36,36)\"}}, \"shapedefaults\": {\"fillcolor\": \"black\", \"line\": {\"width\": 0}, \"opacity\": 0.3}, \"ternary\": {\"aaxis\": {\"gridcolor\": \"rgb(232,232,232)\", \"linecolor\": \"rgb(36,36,36)\", \"showgrid\": false, \"showline\": true, \"ticks\": \"outside\"}, \"baxis\": {\"gridcolor\": \"rgb(232,232,232)\", \"linecolor\": \"rgb(36,36,36)\", \"showgrid\": false, \"showline\": true, \"ticks\": \"outside\"}, \"bgcolor\": \"white\", \"caxis\": {\"gridcolor\": \"rgb(232,232,232)\", \"linecolor\": \"rgb(36,36,36)\", \"showgrid\": false, \"showline\": true, \"ticks\": \"outside\"}}, \"title\": {\"x\": 0.05}, \"xaxis\": {\"automargin\": true, \"gridcolor\": \"rgb(232,232,232)\", \"linecolor\": \"rgb(36,36,36)\", \"showgrid\": false, \"showline\": true, \"ticks\": \"outside\", \"title\": {\"standoff\": 15}, \"zeroline\": false, \"zerolinecolor\": \"rgb(36,36,36)\"}, \"yaxis\": {\"automargin\": true, \"gridcolor\": \"rgb(232,232,232)\", \"linecolor\": \"rgb(36,36,36)\", \"showgrid\": false, \"showline\": true, \"ticks\": \"outside\", \"title\": {\"standoff\": 15}, \"zeroline\": false, \"zerolinecolor\": \"rgb(36,36,36)\"}}}, \"xaxis\": {\"gridcolor\": \"LightGrey\", \"gridwidth\": 1, \"showgrid\": true, \"title\": {\"text\": \"Wifi Manager\"}}, \"yaxis\": {\"gridcolor\": \"LightGrey\", \"gridwidth\": 1, \"range\": [-5, 105.0], \"showgrid\": true, \"title\": {\"text\": \"Time (s)\"}, \"zeroline\": false}},                        {\"responsive\": true}                    ).then(function(){\n",
       "                            \n",
       "var gd = document.getElementById('f8e2ef42-8015-460e-a675-52c8769dd7ff');\n",
       "var x = new MutationObserver(function (mutations, observer) {{\n",
       "        var display = window.getComputedStyle(gd).display;\n",
       "        if (!display || display === 'none') {{\n",
       "            console.log([gd, 'removed!']);\n",
       "            Plotly.purge(gd);\n",
       "            observer.disconnect();\n",
       "        }}\n",
       "}});\n",
       "\n",
       "// Listen for the removal of the full notebook cells\n",
       "var notebookContainer = gd.closest('#notebook-container');\n",
       "if (notebookContainer) {{\n",
       "    x.observe(notebookContainer, {childList: true});\n",
       "}}\n",
       "\n",
       "// Listen for the clearing of the current output cell\n",
       "var outputEl = gd.closest('.output');\n",
       "if (outputEl) {{\n",
       "    x.observe(outputEl, {childList: true});\n",
       "}}\n",
       "\n",
       "                        })                };                });            </script>        </div>"
      ]
     },
     "metadata": {},
     "output_type": "display_data"
    }
   ],
   "source": [
    "radius = '100'\n",
    "filtered = conv[(conv['distance'] == radius)]\n",
    "filtered = filtered[(filtered['dataRate'] == '50Mbps')]\n",
    "filtered = filtered[(filtered['N'] == '5')]\n",
    "\n",
    "trace0 = go.Box(\n",
    "    y=filtered['Antenna Converge'],\n",
    "    x=filtered['wifiManager'],\n",
    "    name='Orientation Convergence Time',\n",
    "    boxmean=True\n",
    ")\n",
    "\n",
    "trace1 = go.Box(\n",
    "    y=filtered['Throughput Converge'],\n",
    "    x=filtered['wifiManager'],\n",
    "    name='Throughput Convergence Time',\n",
    "    boxmean=True\n",
    ")\n",
    "\n",
    "data = [trace0, trace1]\n",
    "layout = go.Layout(\n",
    "    #title = \"foo\",\n",
    "    template = \"simple_white\",\n",
    "    xaxis_title=\"Wifi Manager\",\n",
    "    yaxis=go.layout.YAxis(\n",
    "        title='Time (s)',\n",
    "        range=[-5, max(filtered['Throughput Converge'].max()*1.05, filtered['Antenna Converge'].max()*1.05)],\n",
    "        zeroline=False\n",
    "    ),\n",
    "    boxmode='group'\n",
    ")\n",
    "\n",
    "fig = go.Figure(data=data, layout=layout)\n",
    "fig.update_layout(legend_orientation=\"h\")\n",
    "fig.update_xaxes(showgrid=True, gridwidth=1, gridcolor='LightGrey')\n",
    "fig.update_yaxes(showgrid=True, gridwidth=1, gridcolor='LightGrey')\n",
    "fig.show()\n",
    "fig.write_image(\"convergence_sink_3dB.png\")"
   ]
  },
  {
   "cell_type": "code",
   "execution_count": 37,
   "metadata": {},
   "outputs": [
    {
     "name": "stdout",
     "output_type": "stream",
     "text": [
      "{'5'}\n"
     ]
    },
    {
     "data": {
      "application/vnd.plotly.v1+json": {
       "config": {
        "plotlyServerURL": "https://plot.ly"
       },
       "data": [
        {
         "boxmean": true,
         "name": "Client",
         "type": "box",
         "x": [
          "ns3::IdealWifiManager",
          "ns3::IdealWifiManager",
          "ns3::IdealWifiManager",
          "ns3::IdealWifiManager",
          "ns3::IdealWifiManager",
          "ns3::IdealWifiManager",
          "ns3::IdealWifiManager",
          "ns3::IdealWifiManager",
          "ns3::IdealWifiManager",
          "ns3::IdealWifiManager",
          "ns3::IdealWifiManager",
          "ns3::IdealWifiManager",
          "ns3::IdealWifiManager",
          "ns3::IdealWifiManager",
          "ns3::IdealWifiManager",
          "ns3::IdealWifiManager",
          "ns3::IdealWifiManager",
          "ns3::IdealWifiManager",
          "ns3::IdealWifiManager",
          "ns3::IdealWifiManager",
          "ns3::IntelWifiManager",
          "ns3::IntelWifiManager",
          "ns3::IntelWifiManager",
          "ns3::IntelWifiManager",
          "ns3::IntelWifiManager",
          "ns3::IntelWifiManager",
          "ns3::IntelWifiManager",
          "ns3::IntelWifiManager",
          "ns3::IntelWifiManager",
          "ns3::IntelWifiManager",
          "ns3::IntelWifiManager",
          "ns3::IntelWifiManager",
          "ns3::IntelWifiManager",
          "ns3::IntelWifiManager",
          "ns3::IntelWifiManager",
          "ns3::IntelWifiManager",
          "ns3::IntelWifiManager",
          "ns3::IntelWifiManager",
          "ns3::IntelWifiManager",
          "ns3::IntelWifiManager",
          "ns3::MinstrelHtWifiManager",
          "ns3::MinstrelHtWifiManager",
          "ns3::MinstrelHtWifiManager",
          "ns3::MinstrelHtWifiManager",
          "ns3::MinstrelHtWifiManager",
          "ns3::MinstrelHtWifiManager",
          "ns3::MinstrelHtWifiManager",
          "ns3::MinstrelHtWifiManager",
          "ns3::MinstrelHtWifiManager",
          "ns3::MinstrelHtWifiManager",
          "ns3::MinstrelHtWifiManager",
          "ns3::MinstrelHtWifiManager",
          "ns3::MinstrelHtWifiManager",
          "ns3::MinstrelHtWifiManager",
          "ns3::MinstrelHtWifiManager",
          "ns3::MinstrelHtWifiManager",
          "ns3::MinstrelHtWifiManager",
          "ns3::MinstrelHtWifiManager",
          "ns3::MinstrelHtWifiManager",
          "ns3::MinstrelHtWifiManager"
         ],
         "y": [
          28237294.82828283,
          28592913.696969695,
          28128503.232323233,
          28653356.646464646,
          28295804.484848484,
          28296611.15151515,
          28199488.484848484,
          28313549.373737372,
          28194003.91919192,
          28576657.01010101,
          28658244.12121212,
          28384449.21212121,
          28165205.29292929,
          28249535.636363633,
          28446251.272727273,
          28587640.727272727,
          28294740.242424242,
          28547582.747474745,
          28879695.151515152,
          28652463.959595963,
          28167841.777777772,
          28704744.888888888,
          28028255.393939395,
          28737770.82828283,
          28355756.969696973,
          28291806.868686866,
          28126058.38383838,
          28263201.373737376,
          28106037.49494949,
          28708974.545454543,
          28603283.636363633,
          28315270.78787879,
          28352484.767676767,
          28273893.010101013,
          28389142.626262624,
          28628023.151515152,
          28309320.202020206,
          28593892.686868686,
          28778680.6060606,
          28656054.505050506,
          25208277.252525255,
          24155452.686868686,
          24524838.262626264,
          22268354.02020202,
          24694178.74747475,
          25004765.373737376,
          24641685.97979798,
          24149351.959595963,
          25467963.313131314,
          25681085.414141413,
          23793881.17171717,
          26685605.050505053,
          25336176.80808081,
          23409084.484848484,
          25612012.444444448,
          24454006.18181818,
          25616158.868686866,
          24641092.242424242,
          24950253.858585857,
          25135128.404040404
         ]
        },
        {
         "boxmean": true,
         "name": "Drone",
         "type": "box",
         "x": [
          "ns3::IdealWifiManager",
          "ns3::IdealWifiManager",
          "ns3::IdealWifiManager",
          "ns3::IdealWifiManager",
          "ns3::IdealWifiManager",
          "ns3::IdealWifiManager",
          "ns3::IdealWifiManager",
          "ns3::IdealWifiManager",
          "ns3::IdealWifiManager",
          "ns3::IdealWifiManager",
          "ns3::IdealWifiManager",
          "ns3::IdealWifiManager",
          "ns3::IdealWifiManager",
          "ns3::IdealWifiManager",
          "ns3::IdealWifiManager",
          "ns3::IdealWifiManager",
          "ns3::IdealWifiManager",
          "ns3::IdealWifiManager",
          "ns3::IdealWifiManager",
          "ns3::IdealWifiManager",
          "ns3::IntelWifiManager",
          "ns3::IntelWifiManager",
          "ns3::IntelWifiManager",
          "ns3::IntelWifiManager",
          "ns3::IntelWifiManager",
          "ns3::IntelWifiManager",
          "ns3::IntelWifiManager",
          "ns3::IntelWifiManager",
          "ns3::IntelWifiManager",
          "ns3::IntelWifiManager",
          "ns3::IntelWifiManager",
          "ns3::IntelWifiManager",
          "ns3::IntelWifiManager",
          "ns3::IntelWifiManager",
          "ns3::IntelWifiManager",
          "ns3::IntelWifiManager",
          "ns3::IntelWifiManager",
          "ns3::IntelWifiManager",
          "ns3::IntelWifiManager",
          "ns3::IntelWifiManager",
          "ns3::MinstrelHtWifiManager",
          "ns3::MinstrelHtWifiManager",
          "ns3::MinstrelHtWifiManager",
          "ns3::MinstrelHtWifiManager",
          "ns3::MinstrelHtWifiManager",
          "ns3::MinstrelHtWifiManager",
          "ns3::MinstrelHtWifiManager",
          "ns3::MinstrelHtWifiManager",
          "ns3::MinstrelHtWifiManager",
          "ns3::MinstrelHtWifiManager",
          "ns3::MinstrelHtWifiManager",
          "ns3::MinstrelHtWifiManager",
          "ns3::MinstrelHtWifiManager",
          "ns3::MinstrelHtWifiManager",
          "ns3::MinstrelHtWifiManager",
          "ns3::MinstrelHtWifiManager",
          "ns3::MinstrelHtWifiManager",
          "ns3::MinstrelHtWifiManager",
          "ns3::MinstrelHtWifiManager",
          "ns3::MinstrelHtWifiManager"
         ],
         "y": [
          28577038.1025641,
          28861480.736842107,
          28611703.076923076,
          28869448.51948052,
          28554491.157894738,
          28280285.085714288,
          28492978.210526317,
          28447269,
          28403917.766233765,
          28859396.467532467,
          28989951.36,
          28675667.093333334,
          28798627.04,
          28289933.01333333,
          28401864.901408453,
          28853468.666666668,
          28723013.62162162,
          28650309.813333336,
          28922723.35135135,
          28765830.486486487,
          33372218.666666664,
          33805243.473684214,
          33367223.68,
          34030712.800000004,
          33671569.2987013,
          33112461.808219176,
          33425963.89189189,
          33297960.586666666,
          33200288.47368421,
          33877023.84415585,
          33725069.18918919,
          33813495.14666667,
          33745853.91780822,
          33252401.6,
          33224508.17391304,
          33885793.5,
          33874805.09589041,
          33597959.222222224,
          33982369.15789474,
          33699479.06849315,
          25885426.773333333,
          24452119.567567572,
          25836150.89473684,
          26108646.89473684,
          26239101.09589041,
          27082909.01492537,
          26585318.108108107,
          26140615.23287671,
          26656516.10526316,
          25315105.36842105,
          24283472.547945205,
          24305939.14666667,
          24675740.64864865,
          27694000.05479452,
          26459664.57142857,
          25857198.057142857,
          26833589.243243244,
          25536364.49315069,
          25658361.493333332,
          26790605.479452055
         ]
        }
       ],
       "layout": {
        "boxmode": "group",
        "legend": {
         "orientation": "h"
        },
        "template": {
         "data": {
          "bar": [
           {
            "error_x": {
             "color": "rgb(36,36,36)"
            },
            "error_y": {
             "color": "rgb(36,36,36)"
            },
            "marker": {
             "line": {
              "color": "white",
              "width": 0.5
             }
            },
            "type": "bar"
           }
          ],
          "barpolar": [
           {
            "marker": {
             "line": {
              "color": "white",
              "width": 0.5
             }
            },
            "type": "barpolar"
           }
          ],
          "carpet": [
           {
            "aaxis": {
             "endlinecolor": "rgb(36,36,36)",
             "gridcolor": "white",
             "linecolor": "white",
             "minorgridcolor": "white",
             "startlinecolor": "rgb(36,36,36)"
            },
            "baxis": {
             "endlinecolor": "rgb(36,36,36)",
             "gridcolor": "white",
             "linecolor": "white",
             "minorgridcolor": "white",
             "startlinecolor": "rgb(36,36,36)"
            },
            "type": "carpet"
           }
          ],
          "choropleth": [
           {
            "colorbar": {
             "outlinewidth": 1,
             "tickcolor": "rgb(36,36,36)",
             "ticks": "outside"
            },
            "type": "choropleth"
           }
          ],
          "contour": [
           {
            "colorbar": {
             "outlinewidth": 1,
             "tickcolor": "rgb(36,36,36)",
             "ticks": "outside"
            },
            "colorscale": [
             [
              0,
              "#440154"
             ],
             [
              0.1111111111111111,
              "#482878"
             ],
             [
              0.2222222222222222,
              "#3e4989"
             ],
             [
              0.3333333333333333,
              "#31688e"
             ],
             [
              0.4444444444444444,
              "#26828e"
             ],
             [
              0.5555555555555556,
              "#1f9e89"
             ],
             [
              0.6666666666666666,
              "#35b779"
             ],
             [
              0.7777777777777778,
              "#6ece58"
             ],
             [
              0.8888888888888888,
              "#b5de2b"
             ],
             [
              1,
              "#fde725"
             ]
            ],
            "type": "contour"
           }
          ],
          "contourcarpet": [
           {
            "colorbar": {
             "outlinewidth": 1,
             "tickcolor": "rgb(36,36,36)",
             "ticks": "outside"
            },
            "type": "contourcarpet"
           }
          ],
          "heatmap": [
           {
            "colorbar": {
             "outlinewidth": 1,
             "tickcolor": "rgb(36,36,36)",
             "ticks": "outside"
            },
            "colorscale": [
             [
              0,
              "#440154"
             ],
             [
              0.1111111111111111,
              "#482878"
             ],
             [
              0.2222222222222222,
              "#3e4989"
             ],
             [
              0.3333333333333333,
              "#31688e"
             ],
             [
              0.4444444444444444,
              "#26828e"
             ],
             [
              0.5555555555555556,
              "#1f9e89"
             ],
             [
              0.6666666666666666,
              "#35b779"
             ],
             [
              0.7777777777777778,
              "#6ece58"
             ],
             [
              0.8888888888888888,
              "#b5de2b"
             ],
             [
              1,
              "#fde725"
             ]
            ],
            "type": "heatmap"
           }
          ],
          "heatmapgl": [
           {
            "colorbar": {
             "outlinewidth": 1,
             "tickcolor": "rgb(36,36,36)",
             "ticks": "outside"
            },
            "colorscale": [
             [
              0,
              "#440154"
             ],
             [
              0.1111111111111111,
              "#482878"
             ],
             [
              0.2222222222222222,
              "#3e4989"
             ],
             [
              0.3333333333333333,
              "#31688e"
             ],
             [
              0.4444444444444444,
              "#26828e"
             ],
             [
              0.5555555555555556,
              "#1f9e89"
             ],
             [
              0.6666666666666666,
              "#35b779"
             ],
             [
              0.7777777777777778,
              "#6ece58"
             ],
             [
              0.8888888888888888,
              "#b5de2b"
             ],
             [
              1,
              "#fde725"
             ]
            ],
            "type": "heatmapgl"
           }
          ],
          "histogram": [
           {
            "marker": {
             "line": {
              "color": "white",
              "width": 0.6
             }
            },
            "type": "histogram"
           }
          ],
          "histogram2d": [
           {
            "colorbar": {
             "outlinewidth": 1,
             "tickcolor": "rgb(36,36,36)",
             "ticks": "outside"
            },
            "colorscale": [
             [
              0,
              "#440154"
             ],
             [
              0.1111111111111111,
              "#482878"
             ],
             [
              0.2222222222222222,
              "#3e4989"
             ],
             [
              0.3333333333333333,
              "#31688e"
             ],
             [
              0.4444444444444444,
              "#26828e"
             ],
             [
              0.5555555555555556,
              "#1f9e89"
             ],
             [
              0.6666666666666666,
              "#35b779"
             ],
             [
              0.7777777777777778,
              "#6ece58"
             ],
             [
              0.8888888888888888,
              "#b5de2b"
             ],
             [
              1,
              "#fde725"
             ]
            ],
            "type": "histogram2d"
           }
          ],
          "histogram2dcontour": [
           {
            "colorbar": {
             "outlinewidth": 1,
             "tickcolor": "rgb(36,36,36)",
             "ticks": "outside"
            },
            "colorscale": [
             [
              0,
              "#440154"
             ],
             [
              0.1111111111111111,
              "#482878"
             ],
             [
              0.2222222222222222,
              "#3e4989"
             ],
             [
              0.3333333333333333,
              "#31688e"
             ],
             [
              0.4444444444444444,
              "#26828e"
             ],
             [
              0.5555555555555556,
              "#1f9e89"
             ],
             [
              0.6666666666666666,
              "#35b779"
             ],
             [
              0.7777777777777778,
              "#6ece58"
             ],
             [
              0.8888888888888888,
              "#b5de2b"
             ],
             [
              1,
              "#fde725"
             ]
            ],
            "type": "histogram2dcontour"
           }
          ],
          "mesh3d": [
           {
            "colorbar": {
             "outlinewidth": 1,
             "tickcolor": "rgb(36,36,36)",
             "ticks": "outside"
            },
            "type": "mesh3d"
           }
          ],
          "parcoords": [
           {
            "line": {
             "colorbar": {
              "outlinewidth": 1,
              "tickcolor": "rgb(36,36,36)",
              "ticks": "outside"
             }
            },
            "type": "parcoords"
           }
          ],
          "pie": [
           {
            "automargin": true,
            "type": "pie"
           }
          ],
          "scatter": [
           {
            "marker": {
             "colorbar": {
              "outlinewidth": 1,
              "tickcolor": "rgb(36,36,36)",
              "ticks": "outside"
             }
            },
            "type": "scatter"
           }
          ],
          "scatter3d": [
           {
            "line": {
             "colorbar": {
              "outlinewidth": 1,
              "tickcolor": "rgb(36,36,36)",
              "ticks": "outside"
             }
            },
            "marker": {
             "colorbar": {
              "outlinewidth": 1,
              "tickcolor": "rgb(36,36,36)",
              "ticks": "outside"
             }
            },
            "type": "scatter3d"
           }
          ],
          "scattercarpet": [
           {
            "marker": {
             "colorbar": {
              "outlinewidth": 1,
              "tickcolor": "rgb(36,36,36)",
              "ticks": "outside"
             }
            },
            "type": "scattercarpet"
           }
          ],
          "scattergeo": [
           {
            "marker": {
             "colorbar": {
              "outlinewidth": 1,
              "tickcolor": "rgb(36,36,36)",
              "ticks": "outside"
             }
            },
            "type": "scattergeo"
           }
          ],
          "scattergl": [
           {
            "marker": {
             "colorbar": {
              "outlinewidth": 1,
              "tickcolor": "rgb(36,36,36)",
              "ticks": "outside"
             }
            },
            "type": "scattergl"
           }
          ],
          "scattermapbox": [
           {
            "marker": {
             "colorbar": {
              "outlinewidth": 1,
              "tickcolor": "rgb(36,36,36)",
              "ticks": "outside"
             }
            },
            "type": "scattermapbox"
           }
          ],
          "scatterpolar": [
           {
            "marker": {
             "colorbar": {
              "outlinewidth": 1,
              "tickcolor": "rgb(36,36,36)",
              "ticks": "outside"
             }
            },
            "type": "scatterpolar"
           }
          ],
          "scatterpolargl": [
           {
            "marker": {
             "colorbar": {
              "outlinewidth": 1,
              "tickcolor": "rgb(36,36,36)",
              "ticks": "outside"
             }
            },
            "type": "scatterpolargl"
           }
          ],
          "scatterternary": [
           {
            "marker": {
             "colorbar": {
              "outlinewidth": 1,
              "tickcolor": "rgb(36,36,36)",
              "ticks": "outside"
             }
            },
            "type": "scatterternary"
           }
          ],
          "surface": [
           {
            "colorbar": {
             "outlinewidth": 1,
             "tickcolor": "rgb(36,36,36)",
             "ticks": "outside"
            },
            "colorscale": [
             [
              0,
              "#440154"
             ],
             [
              0.1111111111111111,
              "#482878"
             ],
             [
              0.2222222222222222,
              "#3e4989"
             ],
             [
              0.3333333333333333,
              "#31688e"
             ],
             [
              0.4444444444444444,
              "#26828e"
             ],
             [
              0.5555555555555556,
              "#1f9e89"
             ],
             [
              0.6666666666666666,
              "#35b779"
             ],
             [
              0.7777777777777778,
              "#6ece58"
             ],
             [
              0.8888888888888888,
              "#b5de2b"
             ],
             [
              1,
              "#fde725"
             ]
            ],
            "type": "surface"
           }
          ],
          "table": [
           {
            "cells": {
             "fill": {
              "color": "rgb(237,237,237)"
             },
             "line": {
              "color": "white"
             }
            },
            "header": {
             "fill": {
              "color": "rgb(217,217,217)"
             },
             "line": {
              "color": "white"
             }
            },
            "type": "table"
           }
          ]
         },
         "layout": {
          "annotationdefaults": {
           "arrowhead": 0,
           "arrowwidth": 1
          },
          "autotypenumbers": "strict",
          "coloraxis": {
           "colorbar": {
            "outlinewidth": 1,
            "tickcolor": "rgb(36,36,36)",
            "ticks": "outside"
           }
          },
          "colorscale": {
           "diverging": [
            [
             0,
             "rgb(103,0,31)"
            ],
            [
             0.1,
             "rgb(178,24,43)"
            ],
            [
             0.2,
             "rgb(214,96,77)"
            ],
            [
             0.3,
             "rgb(244,165,130)"
            ],
            [
             0.4,
             "rgb(253,219,199)"
            ],
            [
             0.5,
             "rgb(247,247,247)"
            ],
            [
             0.6,
             "rgb(209,229,240)"
            ],
            [
             0.7,
             "rgb(146,197,222)"
            ],
            [
             0.8,
             "rgb(67,147,195)"
            ],
            [
             0.9,
             "rgb(33,102,172)"
            ],
            [
             1,
             "rgb(5,48,97)"
            ]
           ],
           "sequential": [
            [
             0,
             "#440154"
            ],
            [
             0.1111111111111111,
             "#482878"
            ],
            [
             0.2222222222222222,
             "#3e4989"
            ],
            [
             0.3333333333333333,
             "#31688e"
            ],
            [
             0.4444444444444444,
             "#26828e"
            ],
            [
             0.5555555555555556,
             "#1f9e89"
            ],
            [
             0.6666666666666666,
             "#35b779"
            ],
            [
             0.7777777777777778,
             "#6ece58"
            ],
            [
             0.8888888888888888,
             "#b5de2b"
            ],
            [
             1,
             "#fde725"
            ]
           ],
           "sequentialminus": [
            [
             0,
             "#440154"
            ],
            [
             0.1111111111111111,
             "#482878"
            ],
            [
             0.2222222222222222,
             "#3e4989"
            ],
            [
             0.3333333333333333,
             "#31688e"
            ],
            [
             0.4444444444444444,
             "#26828e"
            ],
            [
             0.5555555555555556,
             "#1f9e89"
            ],
            [
             0.6666666666666666,
             "#35b779"
            ],
            [
             0.7777777777777778,
             "#6ece58"
            ],
            [
             0.8888888888888888,
             "#b5de2b"
            ],
            [
             1,
             "#fde725"
            ]
           ]
          },
          "colorway": [
           "#1F77B4",
           "#FF7F0E",
           "#2CA02C",
           "#D62728",
           "#9467BD",
           "#8C564B",
           "#E377C2",
           "#7F7F7F",
           "#BCBD22",
           "#17BECF"
          ],
          "font": {
           "color": "rgb(36,36,36)"
          },
          "geo": {
           "bgcolor": "white",
           "lakecolor": "white",
           "landcolor": "white",
           "showlakes": true,
           "showland": true,
           "subunitcolor": "white"
          },
          "hoverlabel": {
           "align": "left"
          },
          "hovermode": "closest",
          "mapbox": {
           "style": "light"
          },
          "paper_bgcolor": "white",
          "plot_bgcolor": "white",
          "polar": {
           "angularaxis": {
            "gridcolor": "rgb(232,232,232)",
            "linecolor": "rgb(36,36,36)",
            "showgrid": false,
            "showline": true,
            "ticks": "outside"
           },
           "bgcolor": "white",
           "radialaxis": {
            "gridcolor": "rgb(232,232,232)",
            "linecolor": "rgb(36,36,36)",
            "showgrid": false,
            "showline": true,
            "ticks": "outside"
           }
          },
          "scene": {
           "xaxis": {
            "backgroundcolor": "white",
            "gridcolor": "rgb(232,232,232)",
            "gridwidth": 2,
            "linecolor": "rgb(36,36,36)",
            "showbackground": true,
            "showgrid": false,
            "showline": true,
            "ticks": "outside",
            "zeroline": false,
            "zerolinecolor": "rgb(36,36,36)"
           },
           "yaxis": {
            "backgroundcolor": "white",
            "gridcolor": "rgb(232,232,232)",
            "gridwidth": 2,
            "linecolor": "rgb(36,36,36)",
            "showbackground": true,
            "showgrid": false,
            "showline": true,
            "ticks": "outside",
            "zeroline": false,
            "zerolinecolor": "rgb(36,36,36)"
           },
           "zaxis": {
            "backgroundcolor": "white",
            "gridcolor": "rgb(232,232,232)",
            "gridwidth": 2,
            "linecolor": "rgb(36,36,36)",
            "showbackground": true,
            "showgrid": false,
            "showline": true,
            "ticks": "outside",
            "zeroline": false,
            "zerolinecolor": "rgb(36,36,36)"
           }
          },
          "shapedefaults": {
           "fillcolor": "black",
           "line": {
            "width": 0
           },
           "opacity": 0.3
          },
          "ternary": {
           "aaxis": {
            "gridcolor": "rgb(232,232,232)",
            "linecolor": "rgb(36,36,36)",
            "showgrid": false,
            "showline": true,
            "ticks": "outside"
           },
           "baxis": {
            "gridcolor": "rgb(232,232,232)",
            "linecolor": "rgb(36,36,36)",
            "showgrid": false,
            "showline": true,
            "ticks": "outside"
           },
           "bgcolor": "white",
           "caxis": {
            "gridcolor": "rgb(232,232,232)",
            "linecolor": "rgb(36,36,36)",
            "showgrid": false,
            "showline": true,
            "ticks": "outside"
           }
          },
          "title": {
           "x": 0.05
          },
          "xaxis": {
           "automargin": true,
           "gridcolor": "rgb(232,232,232)",
           "linecolor": "rgb(36,36,36)",
           "showgrid": false,
           "showline": true,
           "ticks": "outside",
           "title": {
            "standoff": 15
           },
           "zeroline": false,
           "zerolinecolor": "rgb(36,36,36)"
          },
          "yaxis": {
           "automargin": true,
           "gridcolor": "rgb(232,232,232)",
           "linecolor": "rgb(36,36,36)",
           "showgrid": false,
           "showline": true,
           "ticks": "outside",
           "title": {
            "standoff": 15
           },
           "zeroline": false,
           "zerolinecolor": "rgb(36,36,36)"
          }
         }
        },
        "xaxis": {
         "gridcolor": "LightGrey",
         "gridwidth": 1,
         "showgrid": true,
         "title": {
          "text": "Wifi Manager"
         }
        },
        "yaxis": {
         "gridcolor": "LightGrey",
         "gridwidth": 1,
         "showgrid": true,
         "title": {
          "text": "Throughput (bps)"
         }
        }
       }
      },
      "text/html": [
       "<div>                            <div id=\"a71bd8e6-74ff-4756-89a5-a8cfa04d109b\" class=\"plotly-graph-div\" style=\"height:525px; width:100%;\"></div>            <script type=\"text/javascript\">                require([\"plotly\"], function(Plotly) {                    window.PLOTLYENV=window.PLOTLYENV || {};                                    if (document.getElementById(\"a71bd8e6-74ff-4756-89a5-a8cfa04d109b\")) {                    Plotly.newPlot(                        \"a71bd8e6-74ff-4756-89a5-a8cfa04d109b\",                        [{\"boxmean\": true, \"name\": \"Client\", \"type\": \"box\", \"x\": [\"ns3::IdealWifiManager\", \"ns3::IdealWifiManager\", \"ns3::IdealWifiManager\", \"ns3::IdealWifiManager\", \"ns3::IdealWifiManager\", \"ns3::IdealWifiManager\", \"ns3::IdealWifiManager\", \"ns3::IdealWifiManager\", \"ns3::IdealWifiManager\", \"ns3::IdealWifiManager\", \"ns3::IdealWifiManager\", \"ns3::IdealWifiManager\", \"ns3::IdealWifiManager\", \"ns3::IdealWifiManager\", \"ns3::IdealWifiManager\", \"ns3::IdealWifiManager\", \"ns3::IdealWifiManager\", \"ns3::IdealWifiManager\", \"ns3::IdealWifiManager\", \"ns3::IdealWifiManager\", \"ns3::IntelWifiManager\", \"ns3::IntelWifiManager\", \"ns3::IntelWifiManager\", \"ns3::IntelWifiManager\", \"ns3::IntelWifiManager\", \"ns3::IntelWifiManager\", \"ns3::IntelWifiManager\", \"ns3::IntelWifiManager\", \"ns3::IntelWifiManager\", \"ns3::IntelWifiManager\", \"ns3::IntelWifiManager\", \"ns3::IntelWifiManager\", \"ns3::IntelWifiManager\", \"ns3::IntelWifiManager\", \"ns3::IntelWifiManager\", \"ns3::IntelWifiManager\", \"ns3::IntelWifiManager\", \"ns3::IntelWifiManager\", \"ns3::IntelWifiManager\", \"ns3::IntelWifiManager\", \"ns3::MinstrelHtWifiManager\", \"ns3::MinstrelHtWifiManager\", \"ns3::MinstrelHtWifiManager\", \"ns3::MinstrelHtWifiManager\", \"ns3::MinstrelHtWifiManager\", \"ns3::MinstrelHtWifiManager\", \"ns3::MinstrelHtWifiManager\", \"ns3::MinstrelHtWifiManager\", \"ns3::MinstrelHtWifiManager\", \"ns3::MinstrelHtWifiManager\", \"ns3::MinstrelHtWifiManager\", \"ns3::MinstrelHtWifiManager\", \"ns3::MinstrelHtWifiManager\", \"ns3::MinstrelHtWifiManager\", \"ns3::MinstrelHtWifiManager\", \"ns3::MinstrelHtWifiManager\", \"ns3::MinstrelHtWifiManager\", \"ns3::MinstrelHtWifiManager\", \"ns3::MinstrelHtWifiManager\", \"ns3::MinstrelHtWifiManager\"], \"y\": [28237294.82828283, 28592913.696969695, 28128503.232323233, 28653356.646464646, 28295804.484848484, 28296611.15151515, 28199488.484848484, 28313549.373737372, 28194003.91919192, 28576657.01010101, 28658244.12121212, 28384449.21212121, 28165205.29292929, 28249535.636363633, 28446251.272727273, 28587640.727272727, 28294740.242424242, 28547582.747474745, 28879695.151515152, 28652463.959595963, 28167841.777777772, 28704744.888888888, 28028255.393939395, 28737770.82828283, 28355756.969696973, 28291806.868686866, 28126058.38383838, 28263201.373737376, 28106037.49494949, 28708974.545454543, 28603283.636363633, 28315270.78787879, 28352484.767676767, 28273893.010101013, 28389142.626262624, 28628023.151515152, 28309320.202020206, 28593892.686868686, 28778680.6060606, 28656054.505050506, 25208277.252525255, 24155452.686868686, 24524838.262626264, 22268354.02020202, 24694178.74747475, 25004765.373737376, 24641685.97979798, 24149351.959595963, 25467963.313131314, 25681085.414141413, 23793881.17171717, 26685605.050505053, 25336176.80808081, 23409084.484848484, 25612012.444444448, 24454006.18181818, 25616158.868686866, 24641092.242424242, 24950253.858585857, 25135128.404040404]}, {\"boxmean\": true, \"name\": \"Drone\", \"type\": \"box\", \"x\": [\"ns3::IdealWifiManager\", \"ns3::IdealWifiManager\", \"ns3::IdealWifiManager\", \"ns3::IdealWifiManager\", \"ns3::IdealWifiManager\", \"ns3::IdealWifiManager\", \"ns3::IdealWifiManager\", \"ns3::IdealWifiManager\", \"ns3::IdealWifiManager\", \"ns3::IdealWifiManager\", \"ns3::IdealWifiManager\", \"ns3::IdealWifiManager\", \"ns3::IdealWifiManager\", \"ns3::IdealWifiManager\", \"ns3::IdealWifiManager\", \"ns3::IdealWifiManager\", \"ns3::IdealWifiManager\", \"ns3::IdealWifiManager\", \"ns3::IdealWifiManager\", \"ns3::IdealWifiManager\", \"ns3::IntelWifiManager\", \"ns3::IntelWifiManager\", \"ns3::IntelWifiManager\", \"ns3::IntelWifiManager\", \"ns3::IntelWifiManager\", \"ns3::IntelWifiManager\", \"ns3::IntelWifiManager\", \"ns3::IntelWifiManager\", \"ns3::IntelWifiManager\", \"ns3::IntelWifiManager\", \"ns3::IntelWifiManager\", \"ns3::IntelWifiManager\", \"ns3::IntelWifiManager\", \"ns3::IntelWifiManager\", \"ns3::IntelWifiManager\", \"ns3::IntelWifiManager\", \"ns3::IntelWifiManager\", \"ns3::IntelWifiManager\", \"ns3::IntelWifiManager\", \"ns3::IntelWifiManager\", \"ns3::MinstrelHtWifiManager\", \"ns3::MinstrelHtWifiManager\", \"ns3::MinstrelHtWifiManager\", \"ns3::MinstrelHtWifiManager\", \"ns3::MinstrelHtWifiManager\", \"ns3::MinstrelHtWifiManager\", \"ns3::MinstrelHtWifiManager\", \"ns3::MinstrelHtWifiManager\", \"ns3::MinstrelHtWifiManager\", \"ns3::MinstrelHtWifiManager\", \"ns3::MinstrelHtWifiManager\", \"ns3::MinstrelHtWifiManager\", \"ns3::MinstrelHtWifiManager\", \"ns3::MinstrelHtWifiManager\", \"ns3::MinstrelHtWifiManager\", \"ns3::MinstrelHtWifiManager\", \"ns3::MinstrelHtWifiManager\", \"ns3::MinstrelHtWifiManager\", \"ns3::MinstrelHtWifiManager\", \"ns3::MinstrelHtWifiManager\"], \"y\": [28577038.1025641, 28861480.736842107, 28611703.076923076, 28869448.51948052, 28554491.157894738, 28280285.085714288, 28492978.210526317, 28447269.0, 28403917.766233765, 28859396.467532467, 28989951.36, 28675667.093333334, 28798627.04, 28289933.01333333, 28401864.901408453, 28853468.666666668, 28723013.62162162, 28650309.813333336, 28922723.35135135, 28765830.486486487, 33372218.666666664, 33805243.473684214, 33367223.68, 34030712.800000004, 33671569.2987013, 33112461.808219176, 33425963.89189189, 33297960.586666666, 33200288.47368421, 33877023.84415585, 33725069.18918919, 33813495.14666667, 33745853.91780822, 33252401.6, 33224508.17391304, 33885793.5, 33874805.09589041, 33597959.222222224, 33982369.15789474, 33699479.06849315, 25885426.773333333, 24452119.567567572, 25836150.89473684, 26108646.89473684, 26239101.09589041, 27082909.01492537, 26585318.108108107, 26140615.23287671, 26656516.10526316, 25315105.36842105, 24283472.547945205, 24305939.14666667, 24675740.64864865, 27694000.05479452, 26459664.57142857, 25857198.057142857, 26833589.243243244, 25536364.49315069, 25658361.493333332, 26790605.479452055]}],                        {\"boxmode\": \"group\", \"legend\": {\"orientation\": \"h\"}, \"template\": {\"data\": {\"bar\": [{\"error_x\": {\"color\": \"rgb(36,36,36)\"}, \"error_y\": {\"color\": \"rgb(36,36,36)\"}, \"marker\": {\"line\": {\"color\": \"white\", \"width\": 0.5}}, \"type\": \"bar\"}], \"barpolar\": [{\"marker\": {\"line\": {\"color\": \"white\", \"width\": 0.5}}, \"type\": \"barpolar\"}], \"carpet\": [{\"aaxis\": {\"endlinecolor\": \"rgb(36,36,36)\", \"gridcolor\": \"white\", \"linecolor\": \"white\", \"minorgridcolor\": \"white\", \"startlinecolor\": \"rgb(36,36,36)\"}, \"baxis\": {\"endlinecolor\": \"rgb(36,36,36)\", \"gridcolor\": \"white\", \"linecolor\": \"white\", \"minorgridcolor\": \"white\", \"startlinecolor\": \"rgb(36,36,36)\"}, \"type\": \"carpet\"}], \"choropleth\": [{\"colorbar\": {\"outlinewidth\": 1, \"tickcolor\": \"rgb(36,36,36)\", \"ticks\": \"outside\"}, \"type\": \"choropleth\"}], \"contour\": [{\"colorbar\": {\"outlinewidth\": 1, \"tickcolor\": \"rgb(36,36,36)\", \"ticks\": \"outside\"}, \"colorscale\": [[0.0, \"#440154\"], [0.1111111111111111, \"#482878\"], [0.2222222222222222, \"#3e4989\"], [0.3333333333333333, \"#31688e\"], [0.4444444444444444, \"#26828e\"], [0.5555555555555556, \"#1f9e89\"], [0.6666666666666666, \"#35b779\"], [0.7777777777777778, \"#6ece58\"], [0.8888888888888888, \"#b5de2b\"], [1.0, \"#fde725\"]], \"type\": \"contour\"}], \"contourcarpet\": [{\"colorbar\": {\"outlinewidth\": 1, \"tickcolor\": \"rgb(36,36,36)\", \"ticks\": \"outside\"}, \"type\": \"contourcarpet\"}], \"heatmap\": [{\"colorbar\": {\"outlinewidth\": 1, \"tickcolor\": \"rgb(36,36,36)\", \"ticks\": \"outside\"}, \"colorscale\": [[0.0, \"#440154\"], [0.1111111111111111, \"#482878\"], [0.2222222222222222, \"#3e4989\"], [0.3333333333333333, \"#31688e\"], [0.4444444444444444, \"#26828e\"], [0.5555555555555556, \"#1f9e89\"], [0.6666666666666666, \"#35b779\"], [0.7777777777777778, \"#6ece58\"], [0.8888888888888888, \"#b5de2b\"], [1.0, \"#fde725\"]], \"type\": \"heatmap\"}], \"heatmapgl\": [{\"colorbar\": {\"outlinewidth\": 1, \"tickcolor\": \"rgb(36,36,36)\", \"ticks\": \"outside\"}, \"colorscale\": [[0.0, \"#440154\"], [0.1111111111111111, \"#482878\"], [0.2222222222222222, \"#3e4989\"], [0.3333333333333333, \"#31688e\"], [0.4444444444444444, \"#26828e\"], [0.5555555555555556, \"#1f9e89\"], [0.6666666666666666, \"#35b779\"], [0.7777777777777778, \"#6ece58\"], [0.8888888888888888, \"#b5de2b\"], [1.0, \"#fde725\"]], \"type\": \"heatmapgl\"}], \"histogram\": [{\"marker\": {\"line\": {\"color\": \"white\", \"width\": 0.6}}, \"type\": \"histogram\"}], \"histogram2d\": [{\"colorbar\": {\"outlinewidth\": 1, \"tickcolor\": \"rgb(36,36,36)\", \"ticks\": \"outside\"}, \"colorscale\": [[0.0, \"#440154\"], [0.1111111111111111, \"#482878\"], [0.2222222222222222, \"#3e4989\"], [0.3333333333333333, \"#31688e\"], [0.4444444444444444, \"#26828e\"], [0.5555555555555556, \"#1f9e89\"], [0.6666666666666666, \"#35b779\"], [0.7777777777777778, \"#6ece58\"], [0.8888888888888888, \"#b5de2b\"], [1.0, \"#fde725\"]], \"type\": \"histogram2d\"}], \"histogram2dcontour\": [{\"colorbar\": {\"outlinewidth\": 1, \"tickcolor\": \"rgb(36,36,36)\", \"ticks\": \"outside\"}, \"colorscale\": [[0.0, \"#440154\"], [0.1111111111111111, \"#482878\"], [0.2222222222222222, \"#3e4989\"], [0.3333333333333333, \"#31688e\"], [0.4444444444444444, \"#26828e\"], [0.5555555555555556, \"#1f9e89\"], [0.6666666666666666, \"#35b779\"], [0.7777777777777778, \"#6ece58\"], [0.8888888888888888, \"#b5de2b\"], [1.0, \"#fde725\"]], \"type\": \"histogram2dcontour\"}], \"mesh3d\": [{\"colorbar\": {\"outlinewidth\": 1, \"tickcolor\": \"rgb(36,36,36)\", \"ticks\": \"outside\"}, \"type\": \"mesh3d\"}], \"parcoords\": [{\"line\": {\"colorbar\": {\"outlinewidth\": 1, \"tickcolor\": \"rgb(36,36,36)\", \"ticks\": \"outside\"}}, \"type\": \"parcoords\"}], \"pie\": [{\"automargin\": true, \"type\": \"pie\"}], \"scatter\": [{\"marker\": {\"colorbar\": {\"outlinewidth\": 1, \"tickcolor\": \"rgb(36,36,36)\", \"ticks\": \"outside\"}}, \"type\": \"scatter\"}], \"scatter3d\": [{\"line\": {\"colorbar\": {\"outlinewidth\": 1, \"tickcolor\": \"rgb(36,36,36)\", \"ticks\": \"outside\"}}, \"marker\": {\"colorbar\": {\"outlinewidth\": 1, \"tickcolor\": \"rgb(36,36,36)\", \"ticks\": \"outside\"}}, \"type\": \"scatter3d\"}], \"scattercarpet\": [{\"marker\": {\"colorbar\": {\"outlinewidth\": 1, \"tickcolor\": \"rgb(36,36,36)\", \"ticks\": \"outside\"}}, \"type\": \"scattercarpet\"}], \"scattergeo\": [{\"marker\": {\"colorbar\": {\"outlinewidth\": 1, \"tickcolor\": \"rgb(36,36,36)\", \"ticks\": \"outside\"}}, \"type\": \"scattergeo\"}], \"scattergl\": [{\"marker\": {\"colorbar\": {\"outlinewidth\": 1, \"tickcolor\": \"rgb(36,36,36)\", \"ticks\": \"outside\"}}, \"type\": \"scattergl\"}], \"scattermapbox\": [{\"marker\": {\"colorbar\": {\"outlinewidth\": 1, \"tickcolor\": \"rgb(36,36,36)\", \"ticks\": \"outside\"}}, \"type\": \"scattermapbox\"}], \"scatterpolar\": [{\"marker\": {\"colorbar\": {\"outlinewidth\": 1, \"tickcolor\": \"rgb(36,36,36)\", \"ticks\": \"outside\"}}, \"type\": \"scatterpolar\"}], \"scatterpolargl\": [{\"marker\": {\"colorbar\": {\"outlinewidth\": 1, \"tickcolor\": \"rgb(36,36,36)\", \"ticks\": \"outside\"}}, \"type\": \"scatterpolargl\"}], \"scatterternary\": [{\"marker\": {\"colorbar\": {\"outlinewidth\": 1, \"tickcolor\": \"rgb(36,36,36)\", \"ticks\": \"outside\"}}, \"type\": \"scatterternary\"}], \"surface\": [{\"colorbar\": {\"outlinewidth\": 1, \"tickcolor\": \"rgb(36,36,36)\", \"ticks\": \"outside\"}, \"colorscale\": [[0.0, \"#440154\"], [0.1111111111111111, \"#482878\"], [0.2222222222222222, \"#3e4989\"], [0.3333333333333333, \"#31688e\"], [0.4444444444444444, \"#26828e\"], [0.5555555555555556, \"#1f9e89\"], [0.6666666666666666, \"#35b779\"], [0.7777777777777778, \"#6ece58\"], [0.8888888888888888, \"#b5de2b\"], [1.0, \"#fde725\"]], \"type\": \"surface\"}], \"table\": [{\"cells\": {\"fill\": {\"color\": \"rgb(237,237,237)\"}, \"line\": {\"color\": \"white\"}}, \"header\": {\"fill\": {\"color\": \"rgb(217,217,217)\"}, \"line\": {\"color\": \"white\"}}, \"type\": \"table\"}]}, \"layout\": {\"annotationdefaults\": {\"arrowhead\": 0, \"arrowwidth\": 1}, \"autotypenumbers\": \"strict\", \"coloraxis\": {\"colorbar\": {\"outlinewidth\": 1, \"tickcolor\": \"rgb(36,36,36)\", \"ticks\": \"outside\"}}, \"colorscale\": {\"diverging\": [[0.0, \"rgb(103,0,31)\"], [0.1, \"rgb(178,24,43)\"], [0.2, \"rgb(214,96,77)\"], [0.3, \"rgb(244,165,130)\"], [0.4, \"rgb(253,219,199)\"], [0.5, \"rgb(247,247,247)\"], [0.6, \"rgb(209,229,240)\"], [0.7, \"rgb(146,197,222)\"], [0.8, \"rgb(67,147,195)\"], [0.9, \"rgb(33,102,172)\"], [1.0, \"rgb(5,48,97)\"]], \"sequential\": [[0.0, \"#440154\"], [0.1111111111111111, \"#482878\"], [0.2222222222222222, \"#3e4989\"], [0.3333333333333333, \"#31688e\"], [0.4444444444444444, \"#26828e\"], [0.5555555555555556, \"#1f9e89\"], [0.6666666666666666, \"#35b779\"], [0.7777777777777778, \"#6ece58\"], [0.8888888888888888, \"#b5de2b\"], [1.0, \"#fde725\"]], \"sequentialminus\": [[0.0, \"#440154\"], [0.1111111111111111, \"#482878\"], [0.2222222222222222, \"#3e4989\"], [0.3333333333333333, \"#31688e\"], [0.4444444444444444, \"#26828e\"], [0.5555555555555556, \"#1f9e89\"], [0.6666666666666666, \"#35b779\"], [0.7777777777777778, \"#6ece58\"], [0.8888888888888888, \"#b5de2b\"], [1.0, \"#fde725\"]]}, \"colorway\": [\"#1F77B4\", \"#FF7F0E\", \"#2CA02C\", \"#D62728\", \"#9467BD\", \"#8C564B\", \"#E377C2\", \"#7F7F7F\", \"#BCBD22\", \"#17BECF\"], \"font\": {\"color\": \"rgb(36,36,36)\"}, \"geo\": {\"bgcolor\": \"white\", \"lakecolor\": \"white\", \"landcolor\": \"white\", \"showlakes\": true, \"showland\": true, \"subunitcolor\": \"white\"}, \"hoverlabel\": {\"align\": \"left\"}, \"hovermode\": \"closest\", \"mapbox\": {\"style\": \"light\"}, \"paper_bgcolor\": \"white\", \"plot_bgcolor\": \"white\", \"polar\": {\"angularaxis\": {\"gridcolor\": \"rgb(232,232,232)\", \"linecolor\": \"rgb(36,36,36)\", \"showgrid\": false, \"showline\": true, \"ticks\": \"outside\"}, \"bgcolor\": \"white\", \"radialaxis\": {\"gridcolor\": \"rgb(232,232,232)\", \"linecolor\": \"rgb(36,36,36)\", \"showgrid\": false, \"showline\": true, \"ticks\": \"outside\"}}, \"scene\": {\"xaxis\": {\"backgroundcolor\": \"white\", \"gridcolor\": \"rgb(232,232,232)\", \"gridwidth\": 2, \"linecolor\": \"rgb(36,36,36)\", \"showbackground\": true, \"showgrid\": false, \"showline\": true, \"ticks\": \"outside\", \"zeroline\": false, \"zerolinecolor\": \"rgb(36,36,36)\"}, \"yaxis\": {\"backgroundcolor\": \"white\", \"gridcolor\": \"rgb(232,232,232)\", \"gridwidth\": 2, \"linecolor\": \"rgb(36,36,36)\", \"showbackground\": true, \"showgrid\": false, \"showline\": true, \"ticks\": \"outside\", \"zeroline\": false, \"zerolinecolor\": \"rgb(36,36,36)\"}, \"zaxis\": {\"backgroundcolor\": \"white\", \"gridcolor\": \"rgb(232,232,232)\", \"gridwidth\": 2, \"linecolor\": \"rgb(36,36,36)\", \"showbackground\": true, \"showgrid\": false, \"showline\": true, \"ticks\": \"outside\", \"zeroline\": false, \"zerolinecolor\": \"rgb(36,36,36)\"}}, \"shapedefaults\": {\"fillcolor\": \"black\", \"line\": {\"width\": 0}, \"opacity\": 0.3}, \"ternary\": {\"aaxis\": {\"gridcolor\": \"rgb(232,232,232)\", \"linecolor\": \"rgb(36,36,36)\", \"showgrid\": false, \"showline\": true, \"ticks\": \"outside\"}, \"baxis\": {\"gridcolor\": \"rgb(232,232,232)\", \"linecolor\": \"rgb(36,36,36)\", \"showgrid\": false, \"showline\": true, \"ticks\": \"outside\"}, \"bgcolor\": \"white\", \"caxis\": {\"gridcolor\": \"rgb(232,232,232)\", \"linecolor\": \"rgb(36,36,36)\", \"showgrid\": false, \"showline\": true, \"ticks\": \"outside\"}}, \"title\": {\"x\": 0.05}, \"xaxis\": {\"automargin\": true, \"gridcolor\": \"rgb(232,232,232)\", \"linecolor\": \"rgb(36,36,36)\", \"showgrid\": false, \"showline\": true, \"ticks\": \"outside\", \"title\": {\"standoff\": 15}, \"zeroline\": false, \"zerolinecolor\": \"rgb(36,36,36)\"}, \"yaxis\": {\"automargin\": true, \"gridcolor\": \"rgb(232,232,232)\", \"linecolor\": \"rgb(36,36,36)\", \"showgrid\": false, \"showline\": true, \"ticks\": \"outside\", \"title\": {\"standoff\": 15}, \"zeroline\": false, \"zerolinecolor\": \"rgb(36,36,36)\"}}}, \"xaxis\": {\"gridcolor\": \"LightGrey\", \"gridwidth\": 1, \"showgrid\": true, \"title\": {\"text\": \"Wifi Manager\"}}, \"yaxis\": {\"gridcolor\": \"LightGrey\", \"gridwidth\": 1, \"showgrid\": true, \"title\": {\"text\": \"Throughput (bps)\"}}},                        {\"responsive\": true}                    ).then(function(){\n",
       "                            \n",
       "var gd = document.getElementById('a71bd8e6-74ff-4756-89a5-a8cfa04d109b');\n",
       "var x = new MutationObserver(function (mutations, observer) {{\n",
       "        var display = window.getComputedStyle(gd).display;\n",
       "        if (!display || display === 'none') {{\n",
       "            console.log([gd, 'removed!']);\n",
       "            Plotly.purge(gd);\n",
       "            observer.disconnect();\n",
       "        }}\n",
       "}});\n",
       "\n",
       "// Listen for the removal of the full notebook cells\n",
       "var notebookContainer = gd.closest('#notebook-container');\n",
       "if (notebookContainer) {{\n",
       "    x.observe(notebookContainer, {childList: true});\n",
       "}}\n",
       "\n",
       "// Listen for the clearing of the current output cell\n",
       "var outputEl = gd.closest('.output');\n",
       "if (outputEl) {{\n",
       "    x.observe(outputEl, {childList: true});\n",
       "}}\n",
       "\n",
       "                        })                };                });            </script>        </div>"
      ]
     },
     "metadata": {},
     "output_type": "display_data"
    }
   ],
   "source": [
    "radius = '100'\n",
    "filtered = full[(full['distance'] == radius)]\n",
    "print(set(filtered['N']))\n",
    "filtered = filtered[(filtered['N'] == '5')]\n",
    "filtered = filtered[(filtered['dataRate'] == '50Mbps')]\n",
    "drone = filtered[(filtered['agentType'] == 'Drone')]\n",
    "client = filtered[(filtered['agentType'] == 'Client')]\n",
    "\n",
    "trace0 = go.Box(\n",
    "    y=(client['Throughput']),\n",
    "    x=client['wifiManager'],\n",
    "    name='Client',\n",
    "    boxmean=True\n",
    ")\n",
    "\n",
    "trace1 = go.Box(\n",
    "    y=(drone['Throughput']),\n",
    "    x=drone['wifiManager'],\n",
    "    name='Drone',\n",
    "    boxmean=True\n",
    ")\n",
    "\n",
    "\n",
    "data = [trace0, trace1]\n",
    "layout = go.Layout(\n",
    "    template = \"simple_white\",\n",
    "    xaxis_title=\"Wifi Manager\",\n",
    "    yaxis=go.layout.YAxis(\n",
    "        title='Throughput (bps)',\n",
    "    ),\n",
    "    boxmode='group'\n",
    ")\n",
    "\n",
    "fig = go.Figure(data=data, layout=layout)\n",
    "fig.update_layout(legend_orientation=\"h\")\n",
    "fig.update_xaxes(showgrid=True, gridwidth=1, gridcolor='LightGrey')\n",
    "fig.update_yaxes(showgrid=True, gridwidth=1, gridcolor='LightGrey')\n",
    "fig.show()\n",
    "fig.write_image(\"débit_sink_3dB.png\")"
   ]
  },
  {
   "cell_type": "code",
   "execution_count": 16,
   "metadata": {},
   "outputs": [
    {
     "data": {
      "text/html": [
       "<div>\n",
       "<style scoped>\n",
       "    .dataframe tbody tr th:only-of-type {\n",
       "        vertical-align: middle;\n",
       "    }\n",
       "\n",
       "    .dataframe tbody tr th {\n",
       "        vertical-align: top;\n",
       "    }\n",
       "\n",
       "    .dataframe thead th {\n",
       "        text-align: right;\n",
       "    }\n",
       "</style>\n",
       "<table border=\"1\" class=\"dataframe\">\n",
       "  <thead>\n",
       "    <tr style=\"text-align: right;\">\n",
       "      <th></th>\n",
       "      <th>N</th>\n",
       "      <th>distance</th>\n",
       "      <th>wifiManager</th>\n",
       "      <th>simulationTime</th>\n",
       "      <th>agentType</th>\n",
       "      <th>dataRate</th>\n",
       "      <th>udp</th>\n",
       "      <th>RngRun</th>\n",
       "      <th>agent_id</th>\n",
       "      <th>Throughput Converge</th>\n",
       "      <th>Antenna Converge</th>\n",
       "      <th>Throughput</th>\n",
       "    </tr>\n",
       "  </thead>\n",
       "  <tbody>\n",
       "  </tbody>\n",
       "</table>\n",
       "</div>"
      ],
      "text/plain": [
       "Empty DataFrame\n",
       "Columns: [N, distance, wifiManager, simulationTime, agentType, dataRate, udp, RngRun, agent_id, Throughput Converge, Antenna Converge, Throughput]\n",
       "Index: []"
      ]
     },
     "execution_count": 16,
     "metadata": {},
     "output_type": "execute_result"
    }
   ],
   "source": [
    "full[full['Throughput'] <= 1000]"
   ]
  },
  {
   "cell_type": "code",
   "execution_count": 17,
   "metadata": {},
   "outputs": [
    {
     "data": {
      "text/html": [
       "<div>\n",
       "<style scoped>\n",
       "    .dataframe tbody tr th:only-of-type {\n",
       "        vertical-align: middle;\n",
       "    }\n",
       "\n",
       "    .dataframe tbody tr th {\n",
       "        vertical-align: top;\n",
       "    }\n",
       "\n",
       "    .dataframe thead th {\n",
       "        text-align: right;\n",
       "    }\n",
       "</style>\n",
       "<table border=\"1\" class=\"dataframe\">\n",
       "  <thead>\n",
       "    <tr style=\"text-align: right;\">\n",
       "      <th></th>\n",
       "      <th>N</th>\n",
       "      <th>distance</th>\n",
       "      <th>wifiManager</th>\n",
       "      <th>simulationTime</th>\n",
       "      <th>agentType</th>\n",
       "      <th>dataRate</th>\n",
       "      <th>udp</th>\n",
       "      <th>RngRun</th>\n",
       "      <th>agent_id</th>\n",
       "      <th>Throughput Converge</th>\n",
       "      <th>Antenna Converge</th>\n",
       "      <th>Throughput</th>\n",
       "    </tr>\n",
       "  </thead>\n",
       "  <tbody>\n",
       "    <tr>\n",
       "      <th>20</th>\n",
       "      <td>5</td>\n",
       "      <td>100</td>\n",
       "      <td>ns3::IdealWifiManager</td>\n",
       "      <td>100</td>\n",
       "      <td>Drone</td>\n",
       "      <td>50Mbps</td>\n",
       "      <td>true</td>\n",
       "      <td>0</td>\n",
       "      <td>2.5</td>\n",
       "      <td>99.75</td>\n",
       "      <td>23.97</td>\n",
       "      <td>2.857704e+07</td>\n",
       "    </tr>\n",
       "    <tr>\n",
       "      <th>21</th>\n",
       "      <td>5</td>\n",
       "      <td>100</td>\n",
       "      <td>ns3::IdealWifiManager</td>\n",
       "      <td>100</td>\n",
       "      <td>Drone</td>\n",
       "      <td>50Mbps</td>\n",
       "      <td>true</td>\n",
       "      <td>1</td>\n",
       "      <td>2.5</td>\n",
       "      <td>100.00</td>\n",
       "      <td>25.49</td>\n",
       "      <td>2.886148e+07</td>\n",
       "    </tr>\n",
       "    <tr>\n",
       "      <th>22</th>\n",
       "      <td>5</td>\n",
       "      <td>100</td>\n",
       "      <td>ns3::IdealWifiManager</td>\n",
       "      <td>100</td>\n",
       "      <td>Drone</td>\n",
       "      <td>50Mbps</td>\n",
       "      <td>true</td>\n",
       "      <td>10</td>\n",
       "      <td>2.5</td>\n",
       "      <td>100.00</td>\n",
       "      <td>23.60</td>\n",
       "      <td>2.861170e+07</td>\n",
       "    </tr>\n",
       "    <tr>\n",
       "      <th>23</th>\n",
       "      <td>5</td>\n",
       "      <td>100</td>\n",
       "      <td>ns3::IdealWifiManager</td>\n",
       "      <td>100</td>\n",
       "      <td>Drone</td>\n",
       "      <td>50Mbps</td>\n",
       "      <td>true</td>\n",
       "      <td>11</td>\n",
       "      <td>2.5</td>\n",
       "      <td>100.00</td>\n",
       "      <td>24.46</td>\n",
       "      <td>2.886945e+07</td>\n",
       "    </tr>\n",
       "    <tr>\n",
       "      <th>24</th>\n",
       "      <td>5</td>\n",
       "      <td>100</td>\n",
       "      <td>ns3::IdealWifiManager</td>\n",
       "      <td>100</td>\n",
       "      <td>Drone</td>\n",
       "      <td>50Mbps</td>\n",
       "      <td>true</td>\n",
       "      <td>12</td>\n",
       "      <td>2.5</td>\n",
       "      <td>100.00</td>\n",
       "      <td>25.15</td>\n",
       "      <td>2.855449e+07</td>\n",
       "    </tr>\n",
       "  </tbody>\n",
       "</table>\n",
       "</div>"
      ],
      "text/plain": [
       "    N distance            wifiManager simulationTime agentType dataRate   udp  \\\n",
       "20  5      100  ns3::IdealWifiManager            100     Drone   50Mbps  true   \n",
       "21  5      100  ns3::IdealWifiManager            100     Drone   50Mbps  true   \n",
       "22  5      100  ns3::IdealWifiManager            100     Drone   50Mbps  true   \n",
       "23  5      100  ns3::IdealWifiManager            100     Drone   50Mbps  true   \n",
       "24  5      100  ns3::IdealWifiManager            100     Drone   50Mbps  true   \n",
       "\n",
       "   RngRun  agent_id  Throughput Converge  Antenna Converge    Throughput  \n",
       "20      0       2.5                99.75             23.97  2.857704e+07  \n",
       "21      1       2.5               100.00             25.49  2.886148e+07  \n",
       "22     10       2.5               100.00             23.60  2.861170e+07  \n",
       "23     11       2.5               100.00             24.46  2.886945e+07  \n",
       "24     12       2.5               100.00             25.15  2.855449e+07  "
      ]
     },
     "execution_count": 17,
     "metadata": {},
     "output_type": "execute_result"
    }
   ],
   "source": [
    "full[full['agentType'] == \"Drone\"].head()"
   ]
  },
  {
   "cell_type": "code",
   "execution_count": 18,
   "metadata": {},
   "outputs": [],
   "source": [
    "df['summary'] = df['summary'].reset_index()\n",
    "df['summary']['Throughput'] = (df['summary']['Rx Bytes']*8) / pd.to_numeric(df['summary']['simulationTime'])\n",
    "mads = []\n",
    "for name, group in df['summary'].groupby(['N', 'distance', 'wifiManager', 'simulationTime', 'agentType', 'dataRate', 'udp', 'RngRun']):\n",
    "    jain = ((group['Throughput'].sum())**2)/((len(group['Throughput'].index))*(group['Throughput']*group['Throughput']).sum())\n",
    "    mads.append(list(name) + [group['Throughput'].mean(), group['Throughput'].mad(), jain])\n",
    "mads = pd.DataFrame(mads, columns=['N', 'distance', 'wifiManager', 'simulationTime', 'agentType', 'dataRate', 'udp', 'RngRun', 'Throughput', 'MAD', 'Jain'])"
   ]
  },
  {
   "cell_type": "code",
   "execution_count": 19,
   "metadata": {},
   "outputs": [
    {
     "data": {
      "application/vnd.plotly.v1+json": {
       "config": {
        "plotlyServerURL": "https://plot.ly"
       },
       "data": [
        {
         "boxmean": true,
         "name": "Client",
         "type": "box",
         "x": [
          "ns3::IdealWifiManager",
          "ns3::IdealWifiManager",
          "ns3::IdealWifiManager",
          "ns3::IdealWifiManager",
          "ns3::IdealWifiManager",
          "ns3::IdealWifiManager",
          "ns3::IdealWifiManager",
          "ns3::IdealWifiManager",
          "ns3::IdealWifiManager",
          "ns3::IdealWifiManager",
          "ns3::IdealWifiManager",
          "ns3::IdealWifiManager",
          "ns3::IdealWifiManager",
          "ns3::IdealWifiManager",
          "ns3::IdealWifiManager",
          "ns3::IdealWifiManager",
          "ns3::IdealWifiManager",
          "ns3::IdealWifiManager",
          "ns3::IdealWifiManager",
          "ns3::IdealWifiManager",
          "ns3::IntelWifiManager",
          "ns3::IntelWifiManager",
          "ns3::IntelWifiManager",
          "ns3::IntelWifiManager",
          "ns3::IntelWifiManager",
          "ns3::IntelWifiManager",
          "ns3::IntelWifiManager",
          "ns3::IntelWifiManager",
          "ns3::IntelWifiManager",
          "ns3::IntelWifiManager",
          "ns3::IntelWifiManager",
          "ns3::IntelWifiManager",
          "ns3::IntelWifiManager",
          "ns3::IntelWifiManager",
          "ns3::IntelWifiManager",
          "ns3::IntelWifiManager",
          "ns3::IntelWifiManager",
          "ns3::IntelWifiManager",
          "ns3::IntelWifiManager",
          "ns3::IntelWifiManager",
          "ns3::MinstrelHtWifiManager",
          "ns3::MinstrelHtWifiManager",
          "ns3::MinstrelHtWifiManager",
          "ns3::MinstrelHtWifiManager",
          "ns3::MinstrelHtWifiManager",
          "ns3::MinstrelHtWifiManager",
          "ns3::MinstrelHtWifiManager",
          "ns3::MinstrelHtWifiManager",
          "ns3::MinstrelHtWifiManager",
          "ns3::MinstrelHtWifiManager",
          "ns3::MinstrelHtWifiManager",
          "ns3::MinstrelHtWifiManager",
          "ns3::MinstrelHtWifiManager",
          "ns3::MinstrelHtWifiManager",
          "ns3::MinstrelHtWifiManager",
          "ns3::MinstrelHtWifiManager",
          "ns3::MinstrelHtWifiManager",
          "ns3::MinstrelHtWifiManager",
          "ns3::MinstrelHtWifiManager",
          "ns3::MinstrelHtWifiManager"
         ],
         "y": [
          0.8209555566988861,
          0.9896449534492654,
          0.8828389792194087,
          0.9635726990959732,
          0.9710608262412574,
          0.8405052904986222,
          0.8503888810949487,
          0.8880330337644089,
          0.9088617183652156,
          0.9889767151740866,
          0.9871606768104119,
          0.8844765332854317,
          0.8784733457677516,
          0.8591701253685787,
          0.8216736411322938,
          0.9461033892726561,
          0.938580482085141,
          0.9954473249161409,
          0.9919475655496096,
          0.9977703004817084,
          0.8771185525538088,
          0.9875644812406855,
          0.8974310270158452,
          0.9787358229308849,
          0.9339397500960813,
          0.8658186754803897,
          0.9021009986471319,
          0.8738364023539543,
          0.9174492120530348,
          0.9980395704298276,
          0.9767698518897762,
          0.890862748526022,
          0.9094252214731494,
          0.8834005834175637,
          0.885556737890817,
          0.9519536431000133,
          0.9251011807749131,
          0.9852544099536824,
          0.9709818262129205,
          0.9975203379528046,
          0.9651859458848039,
          0.9565205314054952,
          0.8995472135598626,
          0.9869694201896667,
          0.9968628874381649,
          0.9294748405188215,
          0.9632049824686146,
          0.9852697779094555,
          0.9019071025182982,
          0.9890917375744673,
          0.9707574411020251,
          0.906360356832959,
          0.9570742142855208,
          0.9918291776252302,
          0.9702160571445579,
          0.9785622102125656,
          0.9472937504870573,
          0.9921737258640823,
          0.9797014047328642,
          0.9703616198301439
         ]
        },
        {
         "boxmean": true,
         "name": "Drone",
         "type": "box",
         "x": [
          "ns3::IdealWifiManager",
          "ns3::IdealWifiManager",
          "ns3::IdealWifiManager",
          "ns3::IdealWifiManager",
          "ns3::IdealWifiManager",
          "ns3::IdealWifiManager",
          "ns3::IdealWifiManager",
          "ns3::IdealWifiManager",
          "ns3::IdealWifiManager",
          "ns3::IdealWifiManager",
          "ns3::IdealWifiManager",
          "ns3::IdealWifiManager",
          "ns3::IdealWifiManager",
          "ns3::IdealWifiManager",
          "ns3::IdealWifiManager",
          "ns3::IdealWifiManager",
          "ns3::IdealWifiManager",
          "ns3::IdealWifiManager",
          "ns3::IdealWifiManager",
          "ns3::IdealWifiManager",
          "ns3::IntelWifiManager",
          "ns3::IntelWifiManager",
          "ns3::IntelWifiManager",
          "ns3::IntelWifiManager",
          "ns3::IntelWifiManager",
          "ns3::IntelWifiManager",
          "ns3::IntelWifiManager",
          "ns3::IntelWifiManager",
          "ns3::IntelWifiManager",
          "ns3::IntelWifiManager",
          "ns3::IntelWifiManager",
          "ns3::IntelWifiManager",
          "ns3::IntelWifiManager",
          "ns3::IntelWifiManager",
          "ns3::IntelWifiManager",
          "ns3::IntelWifiManager",
          "ns3::IntelWifiManager",
          "ns3::IntelWifiManager",
          "ns3::IntelWifiManager",
          "ns3::IntelWifiManager",
          "ns3::MinstrelHtWifiManager",
          "ns3::MinstrelHtWifiManager",
          "ns3::MinstrelHtWifiManager",
          "ns3::MinstrelHtWifiManager",
          "ns3::MinstrelHtWifiManager",
          "ns3::MinstrelHtWifiManager",
          "ns3::MinstrelHtWifiManager",
          "ns3::MinstrelHtWifiManager",
          "ns3::MinstrelHtWifiManager",
          "ns3::MinstrelHtWifiManager",
          "ns3::MinstrelHtWifiManager",
          "ns3::MinstrelHtWifiManager",
          "ns3::MinstrelHtWifiManager",
          "ns3::MinstrelHtWifiManager",
          "ns3::MinstrelHtWifiManager",
          "ns3::MinstrelHtWifiManager",
          "ns3::MinstrelHtWifiManager",
          "ns3::MinstrelHtWifiManager",
          "ns3::MinstrelHtWifiManager",
          "ns3::MinstrelHtWifiManager"
         ],
         "y": [
          0.9076071967556527,
          0.9901014968832726,
          0.9533712834476764,
          0.9947582205930128,
          0.9942207759168912,
          0.8568990083732339,
          0.9215289863259474,
          0.857816988028,
          0.9365331053155509,
          0.9957024478782972,
          0.9990501664945642,
          0.9458201349582114,
          0.9709522558108071,
          0.920688523979662,
          0.863870275898314,
          0.9786287866420494,
          0.9682275803191227,
          0.978848141022349,
          0.9985761438686198,
          0.9870091233303091,
          0.9046969627298806,
          0.9913186630310065,
          0.94874980531201,
          0.9984206270011606,
          0.9974364749007577,
          0.8675140097696888,
          0.8936136969773198,
          0.8251025596800954,
          0.9175813817407786,
          0.999175522691267,
          0.9993519954194563,
          0.9703244563575076,
          0.9568013953186907,
          0.8793134744345165,
          0.8282208240394838,
          0.9900352474725947,
          0.9819843502554497,
          0.9744983430065585,
          0.9976417387075831,
          0.983332753190287,
          0.9422706435331671,
          0.9748963417004216,
          0.9647607900386641,
          0.9678659866300302,
          0.9891166311076371,
          0.8796915184136465,
          0.9466800850512392,
          0.9211429379700569,
          0.9536866641553858,
          0.9748179572050029,
          0.9877634002398393,
          0.9962395687665435,
          0.9433647456656691,
          0.9618904596107933,
          0.9460061468410895,
          0.98912536525125,
          0.9828338487825063,
          0.9993990872780001,
          0.9684268086756602,
          0.9773400025047759
         ]
        }
       ],
       "layout": {
        "boxmode": "group",
        "legend": {
         "orientation": "h"
        },
        "template": {
         "data": {
          "bar": [
           {
            "error_x": {
             "color": "rgb(36,36,36)"
            },
            "error_y": {
             "color": "rgb(36,36,36)"
            },
            "marker": {
             "line": {
              "color": "white",
              "width": 0.5
             }
            },
            "type": "bar"
           }
          ],
          "barpolar": [
           {
            "marker": {
             "line": {
              "color": "white",
              "width": 0.5
             }
            },
            "type": "barpolar"
           }
          ],
          "carpet": [
           {
            "aaxis": {
             "endlinecolor": "rgb(36,36,36)",
             "gridcolor": "white",
             "linecolor": "white",
             "minorgridcolor": "white",
             "startlinecolor": "rgb(36,36,36)"
            },
            "baxis": {
             "endlinecolor": "rgb(36,36,36)",
             "gridcolor": "white",
             "linecolor": "white",
             "minorgridcolor": "white",
             "startlinecolor": "rgb(36,36,36)"
            },
            "type": "carpet"
           }
          ],
          "choropleth": [
           {
            "colorbar": {
             "outlinewidth": 1,
             "tickcolor": "rgb(36,36,36)",
             "ticks": "outside"
            },
            "type": "choropleth"
           }
          ],
          "contour": [
           {
            "colorbar": {
             "outlinewidth": 1,
             "tickcolor": "rgb(36,36,36)",
             "ticks": "outside"
            },
            "colorscale": [
             [
              0,
              "#440154"
             ],
             [
              0.1111111111111111,
              "#482878"
             ],
             [
              0.2222222222222222,
              "#3e4989"
             ],
             [
              0.3333333333333333,
              "#31688e"
             ],
             [
              0.4444444444444444,
              "#26828e"
             ],
             [
              0.5555555555555556,
              "#1f9e89"
             ],
             [
              0.6666666666666666,
              "#35b779"
             ],
             [
              0.7777777777777778,
              "#6ece58"
             ],
             [
              0.8888888888888888,
              "#b5de2b"
             ],
             [
              1,
              "#fde725"
             ]
            ],
            "type": "contour"
           }
          ],
          "contourcarpet": [
           {
            "colorbar": {
             "outlinewidth": 1,
             "tickcolor": "rgb(36,36,36)",
             "ticks": "outside"
            },
            "type": "contourcarpet"
           }
          ],
          "heatmap": [
           {
            "colorbar": {
             "outlinewidth": 1,
             "tickcolor": "rgb(36,36,36)",
             "ticks": "outside"
            },
            "colorscale": [
             [
              0,
              "#440154"
             ],
             [
              0.1111111111111111,
              "#482878"
             ],
             [
              0.2222222222222222,
              "#3e4989"
             ],
             [
              0.3333333333333333,
              "#31688e"
             ],
             [
              0.4444444444444444,
              "#26828e"
             ],
             [
              0.5555555555555556,
              "#1f9e89"
             ],
             [
              0.6666666666666666,
              "#35b779"
             ],
             [
              0.7777777777777778,
              "#6ece58"
             ],
             [
              0.8888888888888888,
              "#b5de2b"
             ],
             [
              1,
              "#fde725"
             ]
            ],
            "type": "heatmap"
           }
          ],
          "heatmapgl": [
           {
            "colorbar": {
             "outlinewidth": 1,
             "tickcolor": "rgb(36,36,36)",
             "ticks": "outside"
            },
            "colorscale": [
             [
              0,
              "#440154"
             ],
             [
              0.1111111111111111,
              "#482878"
             ],
             [
              0.2222222222222222,
              "#3e4989"
             ],
             [
              0.3333333333333333,
              "#31688e"
             ],
             [
              0.4444444444444444,
              "#26828e"
             ],
             [
              0.5555555555555556,
              "#1f9e89"
             ],
             [
              0.6666666666666666,
              "#35b779"
             ],
             [
              0.7777777777777778,
              "#6ece58"
             ],
             [
              0.8888888888888888,
              "#b5de2b"
             ],
             [
              1,
              "#fde725"
             ]
            ],
            "type": "heatmapgl"
           }
          ],
          "histogram": [
           {
            "marker": {
             "line": {
              "color": "white",
              "width": 0.6
             }
            },
            "type": "histogram"
           }
          ],
          "histogram2d": [
           {
            "colorbar": {
             "outlinewidth": 1,
             "tickcolor": "rgb(36,36,36)",
             "ticks": "outside"
            },
            "colorscale": [
             [
              0,
              "#440154"
             ],
             [
              0.1111111111111111,
              "#482878"
             ],
             [
              0.2222222222222222,
              "#3e4989"
             ],
             [
              0.3333333333333333,
              "#31688e"
             ],
             [
              0.4444444444444444,
              "#26828e"
             ],
             [
              0.5555555555555556,
              "#1f9e89"
             ],
             [
              0.6666666666666666,
              "#35b779"
             ],
             [
              0.7777777777777778,
              "#6ece58"
             ],
             [
              0.8888888888888888,
              "#b5de2b"
             ],
             [
              1,
              "#fde725"
             ]
            ],
            "type": "histogram2d"
           }
          ],
          "histogram2dcontour": [
           {
            "colorbar": {
             "outlinewidth": 1,
             "tickcolor": "rgb(36,36,36)",
             "ticks": "outside"
            },
            "colorscale": [
             [
              0,
              "#440154"
             ],
             [
              0.1111111111111111,
              "#482878"
             ],
             [
              0.2222222222222222,
              "#3e4989"
             ],
             [
              0.3333333333333333,
              "#31688e"
             ],
             [
              0.4444444444444444,
              "#26828e"
             ],
             [
              0.5555555555555556,
              "#1f9e89"
             ],
             [
              0.6666666666666666,
              "#35b779"
             ],
             [
              0.7777777777777778,
              "#6ece58"
             ],
             [
              0.8888888888888888,
              "#b5de2b"
             ],
             [
              1,
              "#fde725"
             ]
            ],
            "type": "histogram2dcontour"
           }
          ],
          "mesh3d": [
           {
            "colorbar": {
             "outlinewidth": 1,
             "tickcolor": "rgb(36,36,36)",
             "ticks": "outside"
            },
            "type": "mesh3d"
           }
          ],
          "parcoords": [
           {
            "line": {
             "colorbar": {
              "outlinewidth": 1,
              "tickcolor": "rgb(36,36,36)",
              "ticks": "outside"
             }
            },
            "type": "parcoords"
           }
          ],
          "pie": [
           {
            "automargin": true,
            "type": "pie"
           }
          ],
          "scatter": [
           {
            "marker": {
             "colorbar": {
              "outlinewidth": 1,
              "tickcolor": "rgb(36,36,36)",
              "ticks": "outside"
             }
            },
            "type": "scatter"
           }
          ],
          "scatter3d": [
           {
            "line": {
             "colorbar": {
              "outlinewidth": 1,
              "tickcolor": "rgb(36,36,36)",
              "ticks": "outside"
             }
            },
            "marker": {
             "colorbar": {
              "outlinewidth": 1,
              "tickcolor": "rgb(36,36,36)",
              "ticks": "outside"
             }
            },
            "type": "scatter3d"
           }
          ],
          "scattercarpet": [
           {
            "marker": {
             "colorbar": {
              "outlinewidth": 1,
              "tickcolor": "rgb(36,36,36)",
              "ticks": "outside"
             }
            },
            "type": "scattercarpet"
           }
          ],
          "scattergeo": [
           {
            "marker": {
             "colorbar": {
              "outlinewidth": 1,
              "tickcolor": "rgb(36,36,36)",
              "ticks": "outside"
             }
            },
            "type": "scattergeo"
           }
          ],
          "scattergl": [
           {
            "marker": {
             "colorbar": {
              "outlinewidth": 1,
              "tickcolor": "rgb(36,36,36)",
              "ticks": "outside"
             }
            },
            "type": "scattergl"
           }
          ],
          "scattermapbox": [
           {
            "marker": {
             "colorbar": {
              "outlinewidth": 1,
              "tickcolor": "rgb(36,36,36)",
              "ticks": "outside"
             }
            },
            "type": "scattermapbox"
           }
          ],
          "scatterpolar": [
           {
            "marker": {
             "colorbar": {
              "outlinewidth": 1,
              "tickcolor": "rgb(36,36,36)",
              "ticks": "outside"
             }
            },
            "type": "scatterpolar"
           }
          ],
          "scatterpolargl": [
           {
            "marker": {
             "colorbar": {
              "outlinewidth": 1,
              "tickcolor": "rgb(36,36,36)",
              "ticks": "outside"
             }
            },
            "type": "scatterpolargl"
           }
          ],
          "scatterternary": [
           {
            "marker": {
             "colorbar": {
              "outlinewidth": 1,
              "tickcolor": "rgb(36,36,36)",
              "ticks": "outside"
             }
            },
            "type": "scatterternary"
           }
          ],
          "surface": [
           {
            "colorbar": {
             "outlinewidth": 1,
             "tickcolor": "rgb(36,36,36)",
             "ticks": "outside"
            },
            "colorscale": [
             [
              0,
              "#440154"
             ],
             [
              0.1111111111111111,
              "#482878"
             ],
             [
              0.2222222222222222,
              "#3e4989"
             ],
             [
              0.3333333333333333,
              "#31688e"
             ],
             [
              0.4444444444444444,
              "#26828e"
             ],
             [
              0.5555555555555556,
              "#1f9e89"
             ],
             [
              0.6666666666666666,
              "#35b779"
             ],
             [
              0.7777777777777778,
              "#6ece58"
             ],
             [
              0.8888888888888888,
              "#b5de2b"
             ],
             [
              1,
              "#fde725"
             ]
            ],
            "type": "surface"
           }
          ],
          "table": [
           {
            "cells": {
             "fill": {
              "color": "rgb(237,237,237)"
             },
             "line": {
              "color": "white"
             }
            },
            "header": {
             "fill": {
              "color": "rgb(217,217,217)"
             },
             "line": {
              "color": "white"
             }
            },
            "type": "table"
           }
          ]
         },
         "layout": {
          "annotationdefaults": {
           "arrowhead": 0,
           "arrowwidth": 1
          },
          "autotypenumbers": "strict",
          "coloraxis": {
           "colorbar": {
            "outlinewidth": 1,
            "tickcolor": "rgb(36,36,36)",
            "ticks": "outside"
           }
          },
          "colorscale": {
           "diverging": [
            [
             0,
             "rgb(103,0,31)"
            ],
            [
             0.1,
             "rgb(178,24,43)"
            ],
            [
             0.2,
             "rgb(214,96,77)"
            ],
            [
             0.3,
             "rgb(244,165,130)"
            ],
            [
             0.4,
             "rgb(253,219,199)"
            ],
            [
             0.5,
             "rgb(247,247,247)"
            ],
            [
             0.6,
             "rgb(209,229,240)"
            ],
            [
             0.7,
             "rgb(146,197,222)"
            ],
            [
             0.8,
             "rgb(67,147,195)"
            ],
            [
             0.9,
             "rgb(33,102,172)"
            ],
            [
             1,
             "rgb(5,48,97)"
            ]
           ],
           "sequential": [
            [
             0,
             "#440154"
            ],
            [
             0.1111111111111111,
             "#482878"
            ],
            [
             0.2222222222222222,
             "#3e4989"
            ],
            [
             0.3333333333333333,
             "#31688e"
            ],
            [
             0.4444444444444444,
             "#26828e"
            ],
            [
             0.5555555555555556,
             "#1f9e89"
            ],
            [
             0.6666666666666666,
             "#35b779"
            ],
            [
             0.7777777777777778,
             "#6ece58"
            ],
            [
             0.8888888888888888,
             "#b5de2b"
            ],
            [
             1,
             "#fde725"
            ]
           ],
           "sequentialminus": [
            [
             0,
             "#440154"
            ],
            [
             0.1111111111111111,
             "#482878"
            ],
            [
             0.2222222222222222,
             "#3e4989"
            ],
            [
             0.3333333333333333,
             "#31688e"
            ],
            [
             0.4444444444444444,
             "#26828e"
            ],
            [
             0.5555555555555556,
             "#1f9e89"
            ],
            [
             0.6666666666666666,
             "#35b779"
            ],
            [
             0.7777777777777778,
             "#6ece58"
            ],
            [
             0.8888888888888888,
             "#b5de2b"
            ],
            [
             1,
             "#fde725"
            ]
           ]
          },
          "colorway": [
           "#1F77B4",
           "#FF7F0E",
           "#2CA02C",
           "#D62728",
           "#9467BD",
           "#8C564B",
           "#E377C2",
           "#7F7F7F",
           "#BCBD22",
           "#17BECF"
          ],
          "font": {
           "color": "rgb(36,36,36)"
          },
          "geo": {
           "bgcolor": "white",
           "lakecolor": "white",
           "landcolor": "white",
           "showlakes": true,
           "showland": true,
           "subunitcolor": "white"
          },
          "hoverlabel": {
           "align": "left"
          },
          "hovermode": "closest",
          "mapbox": {
           "style": "light"
          },
          "paper_bgcolor": "white",
          "plot_bgcolor": "white",
          "polar": {
           "angularaxis": {
            "gridcolor": "rgb(232,232,232)",
            "linecolor": "rgb(36,36,36)",
            "showgrid": false,
            "showline": true,
            "ticks": "outside"
           },
           "bgcolor": "white",
           "radialaxis": {
            "gridcolor": "rgb(232,232,232)",
            "linecolor": "rgb(36,36,36)",
            "showgrid": false,
            "showline": true,
            "ticks": "outside"
           }
          },
          "scene": {
           "xaxis": {
            "backgroundcolor": "white",
            "gridcolor": "rgb(232,232,232)",
            "gridwidth": 2,
            "linecolor": "rgb(36,36,36)",
            "showbackground": true,
            "showgrid": false,
            "showline": true,
            "ticks": "outside",
            "zeroline": false,
            "zerolinecolor": "rgb(36,36,36)"
           },
           "yaxis": {
            "backgroundcolor": "white",
            "gridcolor": "rgb(232,232,232)",
            "gridwidth": 2,
            "linecolor": "rgb(36,36,36)",
            "showbackground": true,
            "showgrid": false,
            "showline": true,
            "ticks": "outside",
            "zeroline": false,
            "zerolinecolor": "rgb(36,36,36)"
           },
           "zaxis": {
            "backgroundcolor": "white",
            "gridcolor": "rgb(232,232,232)",
            "gridwidth": 2,
            "linecolor": "rgb(36,36,36)",
            "showbackground": true,
            "showgrid": false,
            "showline": true,
            "ticks": "outside",
            "zeroline": false,
            "zerolinecolor": "rgb(36,36,36)"
           }
          },
          "shapedefaults": {
           "fillcolor": "black",
           "line": {
            "width": 0
           },
           "opacity": 0.3
          },
          "ternary": {
           "aaxis": {
            "gridcolor": "rgb(232,232,232)",
            "linecolor": "rgb(36,36,36)",
            "showgrid": false,
            "showline": true,
            "ticks": "outside"
           },
           "baxis": {
            "gridcolor": "rgb(232,232,232)",
            "linecolor": "rgb(36,36,36)",
            "showgrid": false,
            "showline": true,
            "ticks": "outside"
           },
           "bgcolor": "white",
           "caxis": {
            "gridcolor": "rgb(232,232,232)",
            "linecolor": "rgb(36,36,36)",
            "showgrid": false,
            "showline": true,
            "ticks": "outside"
           }
          },
          "title": {
           "x": 0.05
          },
          "xaxis": {
           "automargin": true,
           "gridcolor": "rgb(232,232,232)",
           "linecolor": "rgb(36,36,36)",
           "showgrid": false,
           "showline": true,
           "ticks": "outside",
           "title": {
            "standoff": 15
           },
           "zeroline": false,
           "zerolinecolor": "rgb(36,36,36)"
          },
          "yaxis": {
           "automargin": true,
           "gridcolor": "rgb(232,232,232)",
           "linecolor": "rgb(36,36,36)",
           "showgrid": false,
           "showline": true,
           "ticks": "outside",
           "title": {
            "standoff": 15
           },
           "zeroline": false,
           "zerolinecolor": "rgb(36,36,36)"
          }
         }
        },
        "xaxis": {
         "gridcolor": "LightGrey",
         "gridwidth": 1,
         "showgrid": true,
         "title": {
          "text": "Wifi Manager"
         }
        },
        "yaxis": {
         "gridcolor": "LightGrey",
         "gridwidth": 1,
         "showgrid": true,
         "title": {
          "text": "Jain index"
         }
        }
       }
      },
      "text/html": [
       "<div>                            <div id=\"2680d162-a3df-4015-9319-930ef75b8e99\" class=\"plotly-graph-div\" style=\"height:525px; width:100%;\"></div>            <script type=\"text/javascript\">                require([\"plotly\"], function(Plotly) {                    window.PLOTLYENV=window.PLOTLYENV || {};                                    if (document.getElementById(\"2680d162-a3df-4015-9319-930ef75b8e99\")) {                    Plotly.newPlot(                        \"2680d162-a3df-4015-9319-930ef75b8e99\",                        [{\"boxmean\": true, \"name\": \"Client\", \"type\": \"box\", \"x\": [\"ns3::IdealWifiManager\", \"ns3::IdealWifiManager\", \"ns3::IdealWifiManager\", \"ns3::IdealWifiManager\", \"ns3::IdealWifiManager\", \"ns3::IdealWifiManager\", \"ns3::IdealWifiManager\", \"ns3::IdealWifiManager\", \"ns3::IdealWifiManager\", \"ns3::IdealWifiManager\", \"ns3::IdealWifiManager\", \"ns3::IdealWifiManager\", \"ns3::IdealWifiManager\", \"ns3::IdealWifiManager\", \"ns3::IdealWifiManager\", \"ns3::IdealWifiManager\", \"ns3::IdealWifiManager\", \"ns3::IdealWifiManager\", \"ns3::IdealWifiManager\", \"ns3::IdealWifiManager\", \"ns3::IntelWifiManager\", \"ns3::IntelWifiManager\", \"ns3::IntelWifiManager\", \"ns3::IntelWifiManager\", \"ns3::IntelWifiManager\", \"ns3::IntelWifiManager\", \"ns3::IntelWifiManager\", \"ns3::IntelWifiManager\", \"ns3::IntelWifiManager\", \"ns3::IntelWifiManager\", \"ns3::IntelWifiManager\", \"ns3::IntelWifiManager\", \"ns3::IntelWifiManager\", \"ns3::IntelWifiManager\", \"ns3::IntelWifiManager\", \"ns3::IntelWifiManager\", \"ns3::IntelWifiManager\", \"ns3::IntelWifiManager\", \"ns3::IntelWifiManager\", \"ns3::IntelWifiManager\", \"ns3::MinstrelHtWifiManager\", \"ns3::MinstrelHtWifiManager\", \"ns3::MinstrelHtWifiManager\", \"ns3::MinstrelHtWifiManager\", \"ns3::MinstrelHtWifiManager\", \"ns3::MinstrelHtWifiManager\", \"ns3::MinstrelHtWifiManager\", \"ns3::MinstrelHtWifiManager\", \"ns3::MinstrelHtWifiManager\", \"ns3::MinstrelHtWifiManager\", \"ns3::MinstrelHtWifiManager\", \"ns3::MinstrelHtWifiManager\", \"ns3::MinstrelHtWifiManager\", \"ns3::MinstrelHtWifiManager\", \"ns3::MinstrelHtWifiManager\", \"ns3::MinstrelHtWifiManager\", \"ns3::MinstrelHtWifiManager\", \"ns3::MinstrelHtWifiManager\", \"ns3::MinstrelHtWifiManager\", \"ns3::MinstrelHtWifiManager\"], \"y\": [0.8209555566988861, 0.9896449534492654, 0.8828389792194087, 0.9635726990959732, 0.9710608262412574, 0.8405052904986222, 0.8503888810949487, 0.8880330337644089, 0.9088617183652156, 0.9889767151740866, 0.9871606768104119, 0.8844765332854317, 0.8784733457677516, 0.8591701253685787, 0.8216736411322938, 0.9461033892726561, 0.938580482085141, 0.9954473249161409, 0.9919475655496096, 0.9977703004817084, 0.8771185525538088, 0.9875644812406855, 0.8974310270158452, 0.9787358229308849, 0.9339397500960813, 0.8658186754803897, 0.9021009986471319, 0.8738364023539543, 0.9174492120530348, 0.9980395704298276, 0.9767698518897762, 0.890862748526022, 0.9094252214731494, 0.8834005834175637, 0.885556737890817, 0.9519536431000133, 0.9251011807749131, 0.9852544099536824, 0.9709818262129205, 0.9975203379528046, 0.9651859458848039, 0.9565205314054952, 0.8995472135598626, 0.9869694201896667, 0.9968628874381649, 0.9294748405188215, 0.9632049824686146, 0.9852697779094555, 0.9019071025182982, 0.9890917375744673, 0.9707574411020251, 0.906360356832959, 0.9570742142855208, 0.9918291776252302, 0.9702160571445579, 0.9785622102125656, 0.9472937504870573, 0.9921737258640823, 0.9797014047328642, 0.9703616198301439]}, {\"boxmean\": true, \"name\": \"Drone\", \"type\": \"box\", \"x\": [\"ns3::IdealWifiManager\", \"ns3::IdealWifiManager\", \"ns3::IdealWifiManager\", \"ns3::IdealWifiManager\", \"ns3::IdealWifiManager\", \"ns3::IdealWifiManager\", \"ns3::IdealWifiManager\", \"ns3::IdealWifiManager\", \"ns3::IdealWifiManager\", \"ns3::IdealWifiManager\", \"ns3::IdealWifiManager\", \"ns3::IdealWifiManager\", \"ns3::IdealWifiManager\", \"ns3::IdealWifiManager\", \"ns3::IdealWifiManager\", \"ns3::IdealWifiManager\", \"ns3::IdealWifiManager\", \"ns3::IdealWifiManager\", \"ns3::IdealWifiManager\", \"ns3::IdealWifiManager\", \"ns3::IntelWifiManager\", \"ns3::IntelWifiManager\", \"ns3::IntelWifiManager\", \"ns3::IntelWifiManager\", \"ns3::IntelWifiManager\", \"ns3::IntelWifiManager\", \"ns3::IntelWifiManager\", \"ns3::IntelWifiManager\", \"ns3::IntelWifiManager\", \"ns3::IntelWifiManager\", \"ns3::IntelWifiManager\", \"ns3::IntelWifiManager\", \"ns3::IntelWifiManager\", \"ns3::IntelWifiManager\", \"ns3::IntelWifiManager\", \"ns3::IntelWifiManager\", \"ns3::IntelWifiManager\", \"ns3::IntelWifiManager\", \"ns3::IntelWifiManager\", \"ns3::IntelWifiManager\", \"ns3::MinstrelHtWifiManager\", \"ns3::MinstrelHtWifiManager\", \"ns3::MinstrelHtWifiManager\", \"ns3::MinstrelHtWifiManager\", \"ns3::MinstrelHtWifiManager\", \"ns3::MinstrelHtWifiManager\", \"ns3::MinstrelHtWifiManager\", \"ns3::MinstrelHtWifiManager\", \"ns3::MinstrelHtWifiManager\", \"ns3::MinstrelHtWifiManager\", \"ns3::MinstrelHtWifiManager\", \"ns3::MinstrelHtWifiManager\", \"ns3::MinstrelHtWifiManager\", \"ns3::MinstrelHtWifiManager\", \"ns3::MinstrelHtWifiManager\", \"ns3::MinstrelHtWifiManager\", \"ns3::MinstrelHtWifiManager\", \"ns3::MinstrelHtWifiManager\", \"ns3::MinstrelHtWifiManager\", \"ns3::MinstrelHtWifiManager\"], \"y\": [0.9076071967556527, 0.9901014968832726, 0.9533712834476764, 0.9947582205930128, 0.9942207759168912, 0.8568990083732339, 0.9215289863259474, 0.857816988028, 0.9365331053155509, 0.9957024478782972, 0.9990501664945642, 0.9458201349582114, 0.9709522558108071, 0.920688523979662, 0.863870275898314, 0.9786287866420494, 0.9682275803191227, 0.978848141022349, 0.9985761438686198, 0.9870091233303091, 0.9046969627298806, 0.9913186630310065, 0.94874980531201, 0.9984206270011606, 0.9974364749007577, 0.8675140097696888, 0.8936136969773198, 0.8251025596800954, 0.9175813817407786, 0.999175522691267, 0.9993519954194563, 0.9703244563575076, 0.9568013953186907, 0.8793134744345165, 0.8282208240394838, 0.9900352474725947, 0.9819843502554497, 0.9744983430065585, 0.9976417387075831, 0.983332753190287, 0.9422706435331671, 0.9748963417004216, 0.9647607900386641, 0.9678659866300302, 0.9891166311076371, 0.8796915184136465, 0.9466800850512392, 0.9211429379700569, 0.9536866641553858, 0.9748179572050029, 0.9877634002398393, 0.9962395687665435, 0.9433647456656691, 0.9618904596107933, 0.9460061468410895, 0.98912536525125, 0.9828338487825063, 0.9993990872780001, 0.9684268086756602, 0.9773400025047759]}],                        {\"boxmode\": \"group\", \"legend\": {\"orientation\": \"h\"}, \"template\": {\"data\": {\"bar\": [{\"error_x\": {\"color\": \"rgb(36,36,36)\"}, \"error_y\": {\"color\": \"rgb(36,36,36)\"}, \"marker\": {\"line\": {\"color\": \"white\", \"width\": 0.5}}, \"type\": \"bar\"}], \"barpolar\": [{\"marker\": {\"line\": {\"color\": \"white\", \"width\": 0.5}}, \"type\": \"barpolar\"}], \"carpet\": [{\"aaxis\": {\"endlinecolor\": \"rgb(36,36,36)\", \"gridcolor\": \"white\", \"linecolor\": \"white\", \"minorgridcolor\": \"white\", \"startlinecolor\": \"rgb(36,36,36)\"}, \"baxis\": {\"endlinecolor\": \"rgb(36,36,36)\", \"gridcolor\": \"white\", \"linecolor\": \"white\", \"minorgridcolor\": \"white\", \"startlinecolor\": \"rgb(36,36,36)\"}, \"type\": \"carpet\"}], \"choropleth\": [{\"colorbar\": {\"outlinewidth\": 1, \"tickcolor\": \"rgb(36,36,36)\", \"ticks\": \"outside\"}, \"type\": \"choropleth\"}], \"contour\": [{\"colorbar\": {\"outlinewidth\": 1, \"tickcolor\": \"rgb(36,36,36)\", \"ticks\": \"outside\"}, \"colorscale\": [[0.0, \"#440154\"], [0.1111111111111111, \"#482878\"], [0.2222222222222222, \"#3e4989\"], [0.3333333333333333, \"#31688e\"], [0.4444444444444444, \"#26828e\"], [0.5555555555555556, \"#1f9e89\"], [0.6666666666666666, \"#35b779\"], [0.7777777777777778, \"#6ece58\"], [0.8888888888888888, \"#b5de2b\"], [1.0, \"#fde725\"]], \"type\": \"contour\"}], \"contourcarpet\": [{\"colorbar\": {\"outlinewidth\": 1, \"tickcolor\": \"rgb(36,36,36)\", \"ticks\": \"outside\"}, \"type\": \"contourcarpet\"}], \"heatmap\": [{\"colorbar\": {\"outlinewidth\": 1, \"tickcolor\": \"rgb(36,36,36)\", \"ticks\": \"outside\"}, \"colorscale\": [[0.0, \"#440154\"], [0.1111111111111111, \"#482878\"], [0.2222222222222222, \"#3e4989\"], [0.3333333333333333, \"#31688e\"], [0.4444444444444444, \"#26828e\"], [0.5555555555555556, \"#1f9e89\"], [0.6666666666666666, \"#35b779\"], [0.7777777777777778, \"#6ece58\"], [0.8888888888888888, \"#b5de2b\"], [1.0, \"#fde725\"]], \"type\": \"heatmap\"}], \"heatmapgl\": [{\"colorbar\": {\"outlinewidth\": 1, \"tickcolor\": \"rgb(36,36,36)\", \"ticks\": \"outside\"}, \"colorscale\": [[0.0, \"#440154\"], [0.1111111111111111, \"#482878\"], [0.2222222222222222, \"#3e4989\"], [0.3333333333333333, \"#31688e\"], [0.4444444444444444, \"#26828e\"], [0.5555555555555556, \"#1f9e89\"], [0.6666666666666666, \"#35b779\"], [0.7777777777777778, \"#6ece58\"], [0.8888888888888888, \"#b5de2b\"], [1.0, \"#fde725\"]], \"type\": \"heatmapgl\"}], \"histogram\": [{\"marker\": {\"line\": {\"color\": \"white\", \"width\": 0.6}}, \"type\": \"histogram\"}], \"histogram2d\": [{\"colorbar\": {\"outlinewidth\": 1, \"tickcolor\": \"rgb(36,36,36)\", \"ticks\": \"outside\"}, \"colorscale\": [[0.0, \"#440154\"], [0.1111111111111111, \"#482878\"], [0.2222222222222222, \"#3e4989\"], [0.3333333333333333, \"#31688e\"], [0.4444444444444444, \"#26828e\"], [0.5555555555555556, \"#1f9e89\"], [0.6666666666666666, \"#35b779\"], [0.7777777777777778, \"#6ece58\"], [0.8888888888888888, \"#b5de2b\"], [1.0, \"#fde725\"]], \"type\": \"histogram2d\"}], \"histogram2dcontour\": [{\"colorbar\": {\"outlinewidth\": 1, \"tickcolor\": \"rgb(36,36,36)\", \"ticks\": \"outside\"}, \"colorscale\": [[0.0, \"#440154\"], [0.1111111111111111, \"#482878\"], [0.2222222222222222, \"#3e4989\"], [0.3333333333333333, \"#31688e\"], [0.4444444444444444, \"#26828e\"], [0.5555555555555556, \"#1f9e89\"], [0.6666666666666666, \"#35b779\"], [0.7777777777777778, \"#6ece58\"], [0.8888888888888888, \"#b5de2b\"], [1.0, \"#fde725\"]], \"type\": \"histogram2dcontour\"}], \"mesh3d\": [{\"colorbar\": {\"outlinewidth\": 1, \"tickcolor\": \"rgb(36,36,36)\", \"ticks\": \"outside\"}, \"type\": \"mesh3d\"}], \"parcoords\": [{\"line\": {\"colorbar\": {\"outlinewidth\": 1, \"tickcolor\": \"rgb(36,36,36)\", \"ticks\": \"outside\"}}, \"type\": \"parcoords\"}], \"pie\": [{\"automargin\": true, \"type\": \"pie\"}], \"scatter\": [{\"marker\": {\"colorbar\": {\"outlinewidth\": 1, \"tickcolor\": \"rgb(36,36,36)\", \"ticks\": \"outside\"}}, \"type\": \"scatter\"}], \"scatter3d\": [{\"line\": {\"colorbar\": {\"outlinewidth\": 1, \"tickcolor\": \"rgb(36,36,36)\", \"ticks\": \"outside\"}}, \"marker\": {\"colorbar\": {\"outlinewidth\": 1, \"tickcolor\": \"rgb(36,36,36)\", \"ticks\": \"outside\"}}, \"type\": \"scatter3d\"}], \"scattercarpet\": [{\"marker\": {\"colorbar\": {\"outlinewidth\": 1, \"tickcolor\": \"rgb(36,36,36)\", \"ticks\": \"outside\"}}, \"type\": \"scattercarpet\"}], \"scattergeo\": [{\"marker\": {\"colorbar\": {\"outlinewidth\": 1, \"tickcolor\": \"rgb(36,36,36)\", \"ticks\": \"outside\"}}, \"type\": \"scattergeo\"}], \"scattergl\": [{\"marker\": {\"colorbar\": {\"outlinewidth\": 1, \"tickcolor\": \"rgb(36,36,36)\", \"ticks\": \"outside\"}}, \"type\": \"scattergl\"}], \"scattermapbox\": [{\"marker\": {\"colorbar\": {\"outlinewidth\": 1, \"tickcolor\": \"rgb(36,36,36)\", \"ticks\": \"outside\"}}, \"type\": \"scattermapbox\"}], \"scatterpolar\": [{\"marker\": {\"colorbar\": {\"outlinewidth\": 1, \"tickcolor\": \"rgb(36,36,36)\", \"ticks\": \"outside\"}}, \"type\": \"scatterpolar\"}], \"scatterpolargl\": [{\"marker\": {\"colorbar\": {\"outlinewidth\": 1, \"tickcolor\": \"rgb(36,36,36)\", \"ticks\": \"outside\"}}, \"type\": \"scatterpolargl\"}], \"scatterternary\": [{\"marker\": {\"colorbar\": {\"outlinewidth\": 1, \"tickcolor\": \"rgb(36,36,36)\", \"ticks\": \"outside\"}}, \"type\": \"scatterternary\"}], \"surface\": [{\"colorbar\": {\"outlinewidth\": 1, \"tickcolor\": \"rgb(36,36,36)\", \"ticks\": \"outside\"}, \"colorscale\": [[0.0, \"#440154\"], [0.1111111111111111, \"#482878\"], [0.2222222222222222, \"#3e4989\"], [0.3333333333333333, \"#31688e\"], [0.4444444444444444, \"#26828e\"], [0.5555555555555556, \"#1f9e89\"], [0.6666666666666666, \"#35b779\"], [0.7777777777777778, \"#6ece58\"], [0.8888888888888888, \"#b5de2b\"], [1.0, \"#fde725\"]], \"type\": \"surface\"}], \"table\": [{\"cells\": {\"fill\": {\"color\": \"rgb(237,237,237)\"}, \"line\": {\"color\": \"white\"}}, \"header\": {\"fill\": {\"color\": \"rgb(217,217,217)\"}, \"line\": {\"color\": \"white\"}}, \"type\": \"table\"}]}, \"layout\": {\"annotationdefaults\": {\"arrowhead\": 0, \"arrowwidth\": 1}, \"autotypenumbers\": \"strict\", \"coloraxis\": {\"colorbar\": {\"outlinewidth\": 1, \"tickcolor\": \"rgb(36,36,36)\", \"ticks\": \"outside\"}}, \"colorscale\": {\"diverging\": [[0.0, \"rgb(103,0,31)\"], [0.1, \"rgb(178,24,43)\"], [0.2, \"rgb(214,96,77)\"], [0.3, \"rgb(244,165,130)\"], [0.4, \"rgb(253,219,199)\"], [0.5, \"rgb(247,247,247)\"], [0.6, \"rgb(209,229,240)\"], [0.7, \"rgb(146,197,222)\"], [0.8, \"rgb(67,147,195)\"], [0.9, \"rgb(33,102,172)\"], [1.0, \"rgb(5,48,97)\"]], \"sequential\": [[0.0, \"#440154\"], [0.1111111111111111, \"#482878\"], [0.2222222222222222, \"#3e4989\"], [0.3333333333333333, \"#31688e\"], [0.4444444444444444, \"#26828e\"], [0.5555555555555556, \"#1f9e89\"], [0.6666666666666666, \"#35b779\"], [0.7777777777777778, \"#6ece58\"], [0.8888888888888888, \"#b5de2b\"], [1.0, \"#fde725\"]], \"sequentialminus\": [[0.0, \"#440154\"], [0.1111111111111111, \"#482878\"], [0.2222222222222222, \"#3e4989\"], [0.3333333333333333, \"#31688e\"], [0.4444444444444444, \"#26828e\"], [0.5555555555555556, \"#1f9e89\"], [0.6666666666666666, \"#35b779\"], [0.7777777777777778, \"#6ece58\"], [0.8888888888888888, \"#b5de2b\"], [1.0, \"#fde725\"]]}, \"colorway\": [\"#1F77B4\", \"#FF7F0E\", \"#2CA02C\", \"#D62728\", \"#9467BD\", \"#8C564B\", \"#E377C2\", \"#7F7F7F\", \"#BCBD22\", \"#17BECF\"], \"font\": {\"color\": \"rgb(36,36,36)\"}, \"geo\": {\"bgcolor\": \"white\", \"lakecolor\": \"white\", \"landcolor\": \"white\", \"showlakes\": true, \"showland\": true, \"subunitcolor\": \"white\"}, \"hoverlabel\": {\"align\": \"left\"}, \"hovermode\": \"closest\", \"mapbox\": {\"style\": \"light\"}, \"paper_bgcolor\": \"white\", \"plot_bgcolor\": \"white\", \"polar\": {\"angularaxis\": {\"gridcolor\": \"rgb(232,232,232)\", \"linecolor\": \"rgb(36,36,36)\", \"showgrid\": false, \"showline\": true, \"ticks\": \"outside\"}, \"bgcolor\": \"white\", \"radialaxis\": {\"gridcolor\": \"rgb(232,232,232)\", \"linecolor\": \"rgb(36,36,36)\", \"showgrid\": false, \"showline\": true, \"ticks\": \"outside\"}}, \"scene\": {\"xaxis\": {\"backgroundcolor\": \"white\", \"gridcolor\": \"rgb(232,232,232)\", \"gridwidth\": 2, \"linecolor\": \"rgb(36,36,36)\", \"showbackground\": true, \"showgrid\": false, \"showline\": true, \"ticks\": \"outside\", \"zeroline\": false, \"zerolinecolor\": \"rgb(36,36,36)\"}, \"yaxis\": {\"backgroundcolor\": \"white\", \"gridcolor\": \"rgb(232,232,232)\", \"gridwidth\": 2, \"linecolor\": \"rgb(36,36,36)\", \"showbackground\": true, \"showgrid\": false, \"showline\": true, \"ticks\": \"outside\", \"zeroline\": false, \"zerolinecolor\": \"rgb(36,36,36)\"}, \"zaxis\": {\"backgroundcolor\": \"white\", \"gridcolor\": \"rgb(232,232,232)\", \"gridwidth\": 2, \"linecolor\": \"rgb(36,36,36)\", \"showbackground\": true, \"showgrid\": false, \"showline\": true, \"ticks\": \"outside\", \"zeroline\": false, \"zerolinecolor\": \"rgb(36,36,36)\"}}, \"shapedefaults\": {\"fillcolor\": \"black\", \"line\": {\"width\": 0}, \"opacity\": 0.3}, \"ternary\": {\"aaxis\": {\"gridcolor\": \"rgb(232,232,232)\", \"linecolor\": \"rgb(36,36,36)\", \"showgrid\": false, \"showline\": true, \"ticks\": \"outside\"}, \"baxis\": {\"gridcolor\": \"rgb(232,232,232)\", \"linecolor\": \"rgb(36,36,36)\", \"showgrid\": false, \"showline\": true, \"ticks\": \"outside\"}, \"bgcolor\": \"white\", \"caxis\": {\"gridcolor\": \"rgb(232,232,232)\", \"linecolor\": \"rgb(36,36,36)\", \"showgrid\": false, \"showline\": true, \"ticks\": \"outside\"}}, \"title\": {\"x\": 0.05}, \"xaxis\": {\"automargin\": true, \"gridcolor\": \"rgb(232,232,232)\", \"linecolor\": \"rgb(36,36,36)\", \"showgrid\": false, \"showline\": true, \"ticks\": \"outside\", \"title\": {\"standoff\": 15}, \"zeroline\": false, \"zerolinecolor\": \"rgb(36,36,36)\"}, \"yaxis\": {\"automargin\": true, \"gridcolor\": \"rgb(232,232,232)\", \"linecolor\": \"rgb(36,36,36)\", \"showgrid\": false, \"showline\": true, \"ticks\": \"outside\", \"title\": {\"standoff\": 15}, \"zeroline\": false, \"zerolinecolor\": \"rgb(36,36,36)\"}}}, \"xaxis\": {\"gridcolor\": \"LightGrey\", \"gridwidth\": 1, \"showgrid\": true, \"title\": {\"text\": \"Wifi Manager\"}}, \"yaxis\": {\"gridcolor\": \"LightGrey\", \"gridwidth\": 1, \"showgrid\": true, \"title\": {\"text\": \"Jain index\"}}},                        {\"responsive\": true}                    ).then(function(){\n",
       "                            \n",
       "var gd = document.getElementById('2680d162-a3df-4015-9319-930ef75b8e99');\n",
       "var x = new MutationObserver(function (mutations, observer) {{\n",
       "        var display = window.getComputedStyle(gd).display;\n",
       "        if (!display || display === 'none') {{\n",
       "            console.log([gd, 'removed!']);\n",
       "            Plotly.purge(gd);\n",
       "            observer.disconnect();\n",
       "        }}\n",
       "}});\n",
       "\n",
       "// Listen for the removal of the full notebook cells\n",
       "var notebookContainer = gd.closest('#notebook-container');\n",
       "if (notebookContainer) {{\n",
       "    x.observe(notebookContainer, {childList: true});\n",
       "}}\n",
       "\n",
       "// Listen for the clearing of the current output cell\n",
       "var outputEl = gd.closest('.output');\n",
       "if (outputEl) {{\n",
       "    x.observe(outputEl, {childList: true});\n",
       "}}\n",
       "\n",
       "                        })                };                });            </script>        </div>"
      ]
     },
     "metadata": {},
     "output_type": "display_data"
    }
   ],
   "source": [
    "a = mads.copy()\n",
    "a['distance'] = pd.to_numeric(a['distance'])\n",
    "a['dataRate'] = pd.to_numeric(a['dataRate'].str.rstrip(\"Mbps\"))\n",
    "a['N'] = pd.to_numeric(a['N'])\n",
    "a = a[a['distance'] == 100]\n",
    "a = a[a['N'] == 5]\n",
    "a.sort_values(by=['wifiManager', 'dataRate', 'agentType', 'distance'], inplace=True)\n",
    "a['cross'] = a['wifiManager'] + \" \" + a['dataRate'].apply(lambda x: str(x))\n",
    "\n",
    "drone = a[(a['agentType'] == 'Drone')]\n",
    "client = a[(a['agentType'] == 'Client')]\n",
    "\n",
    "trace0 = go.Box(\n",
    "    y=(client['Jain']),\n",
    "    x=client['wifiManager'],\n",
    "    name='Client',\n",
    "    boxmean=True\n",
    ")\n",
    "\n",
    "trace1 = go.Box(\n",
    "    y=(drone['Jain']),\n",
    "    x=drone['wifiManager'],\n",
    "    name='Drone',\n",
    "    boxmean=True\n",
    ")\n",
    "\n",
    "\n",
    "data = [trace0, trace1]\n",
    "layout = go.Layout(\n",
    "    template = \"simple_white\",\n",
    "    xaxis_title=\"Wifi Manager\",\n",
    "    yaxis=go.layout.YAxis(\n",
    "        title='Jain index',\n",
    "    ),\n",
    "    boxmode='group'\n",
    ")\n",
    "\n",
    "fig = go.Figure(data=data, layout=layout)\n",
    "fig.update_layout(legend_orientation=\"h\")\n",
    "fig.update_xaxes(showgrid=True, gridwidth=1, gridcolor='LightGrey')\n",
    "fig.update_yaxes(showgrid=True, gridwidth=1, gridcolor='LightGrey')\n",
    "fig.show()"
   ]
  },
  {
   "cell_type": "code",
   "execution_count": 20,
   "metadata": {},
   "outputs": [
    {
     "data": {
      "application/vnd.plotly.v1+json": {
       "config": {
        "plotlyServerURL": "https://plot.ly"
       },
       "data": [
        {
         "boxmean": true,
         "name": "Isotropic Antenna",
         "type": "box",
         "x": [
          "ns3::IdealWifiManager 050",
          "ns3::IdealWifiManager 050",
          "ns3::IdealWifiManager 050",
          "ns3::IdealWifiManager 050",
          "ns3::IdealWifiManager 050",
          "ns3::IdealWifiManager 050",
          "ns3::IdealWifiManager 050",
          "ns3::IdealWifiManager 050",
          "ns3::IdealWifiManager 050",
          "ns3::IdealWifiManager 050",
          "ns3::IdealWifiManager 050",
          "ns3::IdealWifiManager 050",
          "ns3::IdealWifiManager 050",
          "ns3::IdealWifiManager 050",
          "ns3::IdealWifiManager 050",
          "ns3::IdealWifiManager 050",
          "ns3::IdealWifiManager 050",
          "ns3::IdealWifiManager 050",
          "ns3::IdealWifiManager 050",
          "ns3::IdealWifiManager 050",
          "ns3::IntelWifiManager 050",
          "ns3::IntelWifiManager 050",
          "ns3::IntelWifiManager 050",
          "ns3::IntelWifiManager 050",
          "ns3::IntelWifiManager 050",
          "ns3::IntelWifiManager 050",
          "ns3::IntelWifiManager 050",
          "ns3::IntelWifiManager 050",
          "ns3::IntelWifiManager 050",
          "ns3::IntelWifiManager 050",
          "ns3::IntelWifiManager 050",
          "ns3::IntelWifiManager 050",
          "ns3::IntelWifiManager 050",
          "ns3::IntelWifiManager 050",
          "ns3::IntelWifiManager 050",
          "ns3::IntelWifiManager 050",
          "ns3::IntelWifiManager 050",
          "ns3::IntelWifiManager 050",
          "ns3::IntelWifiManager 050",
          "ns3::IntelWifiManager 050",
          "ns3::MinstrelHtWifiManager 050",
          "ns3::MinstrelHtWifiManager 050",
          "ns3::MinstrelHtWifiManager 050",
          "ns3::MinstrelHtWifiManager 050",
          "ns3::MinstrelHtWifiManager 050",
          "ns3::MinstrelHtWifiManager 050",
          "ns3::MinstrelHtWifiManager 050",
          "ns3::MinstrelHtWifiManager 050",
          "ns3::MinstrelHtWifiManager 050",
          "ns3::MinstrelHtWifiManager 050",
          "ns3::MinstrelHtWifiManager 050",
          "ns3::MinstrelHtWifiManager 050",
          "ns3::MinstrelHtWifiManager 050",
          "ns3::MinstrelHtWifiManager 050",
          "ns3::MinstrelHtWifiManager 050",
          "ns3::MinstrelHtWifiManager 050",
          "ns3::MinstrelHtWifiManager 050",
          "ns3::MinstrelHtWifiManager 050",
          "ns3::MinstrelHtWifiManager 050",
          "ns3::MinstrelHtWifiManager 050"
         ],
         "y": [
          28237294.82828283,
          28879695.151515152,
          28652463.959595963,
          28592913.696969695,
          28128503.232323233,
          28653356.646464646,
          28295804.484848484,
          28296611.15151515,
          28313549.373737372,
          28194003.91919192,
          28576657.01010101,
          28199488.484848484,
          28547582.747474745,
          28384449.21212121,
          28165205.29292929,
          28249535.636363633,
          28446251.272727273,
          28587640.727272727,
          28294740.242424242,
          28658244.12121212,
          28656054.505050506,
          28778680.6060606,
          28704744.888888888,
          28028255.393939395,
          28737770.82828283,
          28355756.969696973,
          28291806.868686866,
          28126058.38383838,
          28263201.373737376,
          28106037.49494949,
          28167841.777777772,
          28603283.636363633,
          28315270.78787879,
          28352484.767676767,
          28273893.010101013,
          28389142.626262624,
          28628023.151515152,
          28309320.202020206,
          28593892.686868686,
          28708974.545454543,
          25135128.404040404,
          23793881.17171717,
          24641092.242424242,
          25208277.252525255,
          24155452.686868686,
          24524838.262626264,
          22268354.02020202,
          24694178.74747475,
          25004765.373737376,
          24641685.97979798,
          24149351.959595963,
          25467963.313131314,
          25681085.414141413,
          26685605.050505053,
          25336176.80808081,
          23409084.484848484,
          25612012.444444448,
          24454006.18181818,
          25616158.868686866,
          24950253.858585857
         ]
        },
        {
         "boxmean": true,
         "name": "AP-AC-Mesh Antenna",
         "type": "box",
         "x": [
          "ns3::IdealWifiManager 050",
          "ns3::IdealWifiManager 050",
          "ns3::IdealWifiManager 050",
          "ns3::IdealWifiManager 050",
          "ns3::IdealWifiManager 050",
          "ns3::IdealWifiManager 050",
          "ns3::IdealWifiManager 050",
          "ns3::IdealWifiManager 050",
          "ns3::IdealWifiManager 050",
          "ns3::IdealWifiManager 050",
          "ns3::IdealWifiManager 050",
          "ns3::IdealWifiManager 050",
          "ns3::IdealWifiManager 050",
          "ns3::IdealWifiManager 050",
          "ns3::IdealWifiManager 050",
          "ns3::IdealWifiManager 050",
          "ns3::IdealWifiManager 050",
          "ns3::IdealWifiManager 050",
          "ns3::IdealWifiManager 050",
          "ns3::IdealWifiManager 050",
          "ns3::IntelWifiManager 050",
          "ns3::IntelWifiManager 050",
          "ns3::IntelWifiManager 050",
          "ns3::IntelWifiManager 050",
          "ns3::IntelWifiManager 050",
          "ns3::IntelWifiManager 050",
          "ns3::IntelWifiManager 050",
          "ns3::IntelWifiManager 050",
          "ns3::IntelWifiManager 050",
          "ns3::IntelWifiManager 050",
          "ns3::IntelWifiManager 050",
          "ns3::IntelWifiManager 050",
          "ns3::IntelWifiManager 050",
          "ns3::IntelWifiManager 050",
          "ns3::IntelWifiManager 050",
          "ns3::IntelWifiManager 050",
          "ns3::IntelWifiManager 050",
          "ns3::IntelWifiManager 050",
          "ns3::IntelWifiManager 050",
          "ns3::IntelWifiManager 050",
          "ns3::MinstrelHtWifiManager 050",
          "ns3::MinstrelHtWifiManager 050",
          "ns3::MinstrelHtWifiManager 050",
          "ns3::MinstrelHtWifiManager 050",
          "ns3::MinstrelHtWifiManager 050",
          "ns3::MinstrelHtWifiManager 050",
          "ns3::MinstrelHtWifiManager 050",
          "ns3::MinstrelHtWifiManager 050",
          "ns3::MinstrelHtWifiManager 050",
          "ns3::MinstrelHtWifiManager 050",
          "ns3::MinstrelHtWifiManager 050",
          "ns3::MinstrelHtWifiManager 050",
          "ns3::MinstrelHtWifiManager 050",
          "ns3::MinstrelHtWifiManager 050",
          "ns3::MinstrelHtWifiManager 050",
          "ns3::MinstrelHtWifiManager 050",
          "ns3::MinstrelHtWifiManager 050",
          "ns3::MinstrelHtWifiManager 050",
          "ns3::MinstrelHtWifiManager 050",
          "ns3::MinstrelHtWifiManager 050"
         ],
         "y": [
          28611703.076923076,
          28869448.51948052,
          28554491.157894738,
          28280285.085714288,
          28492978.210526317,
          28447269,
          28403917.766233765,
          28989951.36,
          28675667.093333334,
          28798627.04,
          28289933.01333333,
          28401864.901408453,
          28853468.666666668,
          28723013.62162162,
          28650309.813333336,
          28922723.35135135,
          28765830.486486487,
          28861480.736842107,
          28577038.1025641,
          28859396.467532467,
          33200288.47368421,
          33297960.586666666,
          33425963.89189189,
          33367223.68,
          33671569.2987013,
          34030712.800000004,
          33877023.84415585,
          33112461.808219176,
          33725069.18918919,
          33699479.06849315,
          33745853.91780822,
          33252401.6,
          33224508.17391304,
          33885793.5,
          33874805.09589041,
          33597959.222222224,
          33982369.15789474,
          33805243.473684214,
          33813495.14666667,
          33372218.666666664,
          26585318.108108107,
          27082909.01492537,
          24452119.567567572,
          26108646.89473684,
          25836150.89473684,
          26140615.23287671,
          26239101.09589041,
          26656516.10526316,
          27694000.05479452,
          24283472.547945205,
          24305939.14666667,
          24675740.64864865,
          26459664.57142857,
          25857198.057142857,
          26833589.243243244,
          25536364.49315069,
          25885426.773333333,
          25315105.36842105,
          25658361.493333332,
          26790605.479452055
         ]
        }
       ],
       "layout": {
        "boxmode": "group",
        "legend": {
         "orientation": "h"
        },
        "template": {
         "data": {
          "bar": [
           {
            "error_x": {
             "color": "rgb(36,36,36)"
            },
            "error_y": {
             "color": "rgb(36,36,36)"
            },
            "marker": {
             "line": {
              "color": "white",
              "width": 0.5
             }
            },
            "type": "bar"
           }
          ],
          "barpolar": [
           {
            "marker": {
             "line": {
              "color": "white",
              "width": 0.5
             }
            },
            "type": "barpolar"
           }
          ],
          "carpet": [
           {
            "aaxis": {
             "endlinecolor": "rgb(36,36,36)",
             "gridcolor": "white",
             "linecolor": "white",
             "minorgridcolor": "white",
             "startlinecolor": "rgb(36,36,36)"
            },
            "baxis": {
             "endlinecolor": "rgb(36,36,36)",
             "gridcolor": "white",
             "linecolor": "white",
             "minorgridcolor": "white",
             "startlinecolor": "rgb(36,36,36)"
            },
            "type": "carpet"
           }
          ],
          "choropleth": [
           {
            "colorbar": {
             "outlinewidth": 1,
             "tickcolor": "rgb(36,36,36)",
             "ticks": "outside"
            },
            "type": "choropleth"
           }
          ],
          "contour": [
           {
            "colorbar": {
             "outlinewidth": 1,
             "tickcolor": "rgb(36,36,36)",
             "ticks": "outside"
            },
            "colorscale": [
             [
              0,
              "#440154"
             ],
             [
              0.1111111111111111,
              "#482878"
             ],
             [
              0.2222222222222222,
              "#3e4989"
             ],
             [
              0.3333333333333333,
              "#31688e"
             ],
             [
              0.4444444444444444,
              "#26828e"
             ],
             [
              0.5555555555555556,
              "#1f9e89"
             ],
             [
              0.6666666666666666,
              "#35b779"
             ],
             [
              0.7777777777777778,
              "#6ece58"
             ],
             [
              0.8888888888888888,
              "#b5de2b"
             ],
             [
              1,
              "#fde725"
             ]
            ],
            "type": "contour"
           }
          ],
          "contourcarpet": [
           {
            "colorbar": {
             "outlinewidth": 1,
             "tickcolor": "rgb(36,36,36)",
             "ticks": "outside"
            },
            "type": "contourcarpet"
           }
          ],
          "heatmap": [
           {
            "colorbar": {
             "outlinewidth": 1,
             "tickcolor": "rgb(36,36,36)",
             "ticks": "outside"
            },
            "colorscale": [
             [
              0,
              "#440154"
             ],
             [
              0.1111111111111111,
              "#482878"
             ],
             [
              0.2222222222222222,
              "#3e4989"
             ],
             [
              0.3333333333333333,
              "#31688e"
             ],
             [
              0.4444444444444444,
              "#26828e"
             ],
             [
              0.5555555555555556,
              "#1f9e89"
             ],
             [
              0.6666666666666666,
              "#35b779"
             ],
             [
              0.7777777777777778,
              "#6ece58"
             ],
             [
              0.8888888888888888,
              "#b5de2b"
             ],
             [
              1,
              "#fde725"
             ]
            ],
            "type": "heatmap"
           }
          ],
          "heatmapgl": [
           {
            "colorbar": {
             "outlinewidth": 1,
             "tickcolor": "rgb(36,36,36)",
             "ticks": "outside"
            },
            "colorscale": [
             [
              0,
              "#440154"
             ],
             [
              0.1111111111111111,
              "#482878"
             ],
             [
              0.2222222222222222,
              "#3e4989"
             ],
             [
              0.3333333333333333,
              "#31688e"
             ],
             [
              0.4444444444444444,
              "#26828e"
             ],
             [
              0.5555555555555556,
              "#1f9e89"
             ],
             [
              0.6666666666666666,
              "#35b779"
             ],
             [
              0.7777777777777778,
              "#6ece58"
             ],
             [
              0.8888888888888888,
              "#b5de2b"
             ],
             [
              1,
              "#fde725"
             ]
            ],
            "type": "heatmapgl"
           }
          ],
          "histogram": [
           {
            "marker": {
             "line": {
              "color": "white",
              "width": 0.6
             }
            },
            "type": "histogram"
           }
          ],
          "histogram2d": [
           {
            "colorbar": {
             "outlinewidth": 1,
             "tickcolor": "rgb(36,36,36)",
             "ticks": "outside"
            },
            "colorscale": [
             [
              0,
              "#440154"
             ],
             [
              0.1111111111111111,
              "#482878"
             ],
             [
              0.2222222222222222,
              "#3e4989"
             ],
             [
              0.3333333333333333,
              "#31688e"
             ],
             [
              0.4444444444444444,
              "#26828e"
             ],
             [
              0.5555555555555556,
              "#1f9e89"
             ],
             [
              0.6666666666666666,
              "#35b779"
             ],
             [
              0.7777777777777778,
              "#6ece58"
             ],
             [
              0.8888888888888888,
              "#b5de2b"
             ],
             [
              1,
              "#fde725"
             ]
            ],
            "type": "histogram2d"
           }
          ],
          "histogram2dcontour": [
           {
            "colorbar": {
             "outlinewidth": 1,
             "tickcolor": "rgb(36,36,36)",
             "ticks": "outside"
            },
            "colorscale": [
             [
              0,
              "#440154"
             ],
             [
              0.1111111111111111,
              "#482878"
             ],
             [
              0.2222222222222222,
              "#3e4989"
             ],
             [
              0.3333333333333333,
              "#31688e"
             ],
             [
              0.4444444444444444,
              "#26828e"
             ],
             [
              0.5555555555555556,
              "#1f9e89"
             ],
             [
              0.6666666666666666,
              "#35b779"
             ],
             [
              0.7777777777777778,
              "#6ece58"
             ],
             [
              0.8888888888888888,
              "#b5de2b"
             ],
             [
              1,
              "#fde725"
             ]
            ],
            "type": "histogram2dcontour"
           }
          ],
          "mesh3d": [
           {
            "colorbar": {
             "outlinewidth": 1,
             "tickcolor": "rgb(36,36,36)",
             "ticks": "outside"
            },
            "type": "mesh3d"
           }
          ],
          "parcoords": [
           {
            "line": {
             "colorbar": {
              "outlinewidth": 1,
              "tickcolor": "rgb(36,36,36)",
              "ticks": "outside"
             }
            },
            "type": "parcoords"
           }
          ],
          "pie": [
           {
            "automargin": true,
            "type": "pie"
           }
          ],
          "scatter": [
           {
            "marker": {
             "colorbar": {
              "outlinewidth": 1,
              "tickcolor": "rgb(36,36,36)",
              "ticks": "outside"
             }
            },
            "type": "scatter"
           }
          ],
          "scatter3d": [
           {
            "line": {
             "colorbar": {
              "outlinewidth": 1,
              "tickcolor": "rgb(36,36,36)",
              "ticks": "outside"
             }
            },
            "marker": {
             "colorbar": {
              "outlinewidth": 1,
              "tickcolor": "rgb(36,36,36)",
              "ticks": "outside"
             }
            },
            "type": "scatter3d"
           }
          ],
          "scattercarpet": [
           {
            "marker": {
             "colorbar": {
              "outlinewidth": 1,
              "tickcolor": "rgb(36,36,36)",
              "ticks": "outside"
             }
            },
            "type": "scattercarpet"
           }
          ],
          "scattergeo": [
           {
            "marker": {
             "colorbar": {
              "outlinewidth": 1,
              "tickcolor": "rgb(36,36,36)",
              "ticks": "outside"
             }
            },
            "type": "scattergeo"
           }
          ],
          "scattergl": [
           {
            "marker": {
             "colorbar": {
              "outlinewidth": 1,
              "tickcolor": "rgb(36,36,36)",
              "ticks": "outside"
             }
            },
            "type": "scattergl"
           }
          ],
          "scattermapbox": [
           {
            "marker": {
             "colorbar": {
              "outlinewidth": 1,
              "tickcolor": "rgb(36,36,36)",
              "ticks": "outside"
             }
            },
            "type": "scattermapbox"
           }
          ],
          "scatterpolar": [
           {
            "marker": {
             "colorbar": {
              "outlinewidth": 1,
              "tickcolor": "rgb(36,36,36)",
              "ticks": "outside"
             }
            },
            "type": "scatterpolar"
           }
          ],
          "scatterpolargl": [
           {
            "marker": {
             "colorbar": {
              "outlinewidth": 1,
              "tickcolor": "rgb(36,36,36)",
              "ticks": "outside"
             }
            },
            "type": "scatterpolargl"
           }
          ],
          "scatterternary": [
           {
            "marker": {
             "colorbar": {
              "outlinewidth": 1,
              "tickcolor": "rgb(36,36,36)",
              "ticks": "outside"
             }
            },
            "type": "scatterternary"
           }
          ],
          "surface": [
           {
            "colorbar": {
             "outlinewidth": 1,
             "tickcolor": "rgb(36,36,36)",
             "ticks": "outside"
            },
            "colorscale": [
             [
              0,
              "#440154"
             ],
             [
              0.1111111111111111,
              "#482878"
             ],
             [
              0.2222222222222222,
              "#3e4989"
             ],
             [
              0.3333333333333333,
              "#31688e"
             ],
             [
              0.4444444444444444,
              "#26828e"
             ],
             [
              0.5555555555555556,
              "#1f9e89"
             ],
             [
              0.6666666666666666,
              "#35b779"
             ],
             [
              0.7777777777777778,
              "#6ece58"
             ],
             [
              0.8888888888888888,
              "#b5de2b"
             ],
             [
              1,
              "#fde725"
             ]
            ],
            "type": "surface"
           }
          ],
          "table": [
           {
            "cells": {
             "fill": {
              "color": "rgb(237,237,237)"
             },
             "line": {
              "color": "white"
             }
            },
            "header": {
             "fill": {
              "color": "rgb(217,217,217)"
             },
             "line": {
              "color": "white"
             }
            },
            "type": "table"
           }
          ]
         },
         "layout": {
          "annotationdefaults": {
           "arrowhead": 0,
           "arrowwidth": 1
          },
          "autotypenumbers": "strict",
          "coloraxis": {
           "colorbar": {
            "outlinewidth": 1,
            "tickcolor": "rgb(36,36,36)",
            "ticks": "outside"
           }
          },
          "colorscale": {
           "diverging": [
            [
             0,
             "rgb(103,0,31)"
            ],
            [
             0.1,
             "rgb(178,24,43)"
            ],
            [
             0.2,
             "rgb(214,96,77)"
            ],
            [
             0.3,
             "rgb(244,165,130)"
            ],
            [
             0.4,
             "rgb(253,219,199)"
            ],
            [
             0.5,
             "rgb(247,247,247)"
            ],
            [
             0.6,
             "rgb(209,229,240)"
            ],
            [
             0.7,
             "rgb(146,197,222)"
            ],
            [
             0.8,
             "rgb(67,147,195)"
            ],
            [
             0.9,
             "rgb(33,102,172)"
            ],
            [
             1,
             "rgb(5,48,97)"
            ]
           ],
           "sequential": [
            [
             0,
             "#440154"
            ],
            [
             0.1111111111111111,
             "#482878"
            ],
            [
             0.2222222222222222,
             "#3e4989"
            ],
            [
             0.3333333333333333,
             "#31688e"
            ],
            [
             0.4444444444444444,
             "#26828e"
            ],
            [
             0.5555555555555556,
             "#1f9e89"
            ],
            [
             0.6666666666666666,
             "#35b779"
            ],
            [
             0.7777777777777778,
             "#6ece58"
            ],
            [
             0.8888888888888888,
             "#b5de2b"
            ],
            [
             1,
             "#fde725"
            ]
           ],
           "sequentialminus": [
            [
             0,
             "#440154"
            ],
            [
             0.1111111111111111,
             "#482878"
            ],
            [
             0.2222222222222222,
             "#3e4989"
            ],
            [
             0.3333333333333333,
             "#31688e"
            ],
            [
             0.4444444444444444,
             "#26828e"
            ],
            [
             0.5555555555555556,
             "#1f9e89"
            ],
            [
             0.6666666666666666,
             "#35b779"
            ],
            [
             0.7777777777777778,
             "#6ece58"
            ],
            [
             0.8888888888888888,
             "#b5de2b"
            ],
            [
             1,
             "#fde725"
            ]
           ]
          },
          "colorway": [
           "#1F77B4",
           "#FF7F0E",
           "#2CA02C",
           "#D62728",
           "#9467BD",
           "#8C564B",
           "#E377C2",
           "#7F7F7F",
           "#BCBD22",
           "#17BECF"
          ],
          "font": {
           "color": "rgb(36,36,36)"
          },
          "geo": {
           "bgcolor": "white",
           "lakecolor": "white",
           "landcolor": "white",
           "showlakes": true,
           "showland": true,
           "subunitcolor": "white"
          },
          "hoverlabel": {
           "align": "left"
          },
          "hovermode": "closest",
          "mapbox": {
           "style": "light"
          },
          "paper_bgcolor": "white",
          "plot_bgcolor": "white",
          "polar": {
           "angularaxis": {
            "gridcolor": "rgb(232,232,232)",
            "linecolor": "rgb(36,36,36)",
            "showgrid": false,
            "showline": true,
            "ticks": "outside"
           },
           "bgcolor": "white",
           "radialaxis": {
            "gridcolor": "rgb(232,232,232)",
            "linecolor": "rgb(36,36,36)",
            "showgrid": false,
            "showline": true,
            "ticks": "outside"
           }
          },
          "scene": {
           "xaxis": {
            "backgroundcolor": "white",
            "gridcolor": "rgb(232,232,232)",
            "gridwidth": 2,
            "linecolor": "rgb(36,36,36)",
            "showbackground": true,
            "showgrid": false,
            "showline": true,
            "ticks": "outside",
            "zeroline": false,
            "zerolinecolor": "rgb(36,36,36)"
           },
           "yaxis": {
            "backgroundcolor": "white",
            "gridcolor": "rgb(232,232,232)",
            "gridwidth": 2,
            "linecolor": "rgb(36,36,36)",
            "showbackground": true,
            "showgrid": false,
            "showline": true,
            "ticks": "outside",
            "zeroline": false,
            "zerolinecolor": "rgb(36,36,36)"
           },
           "zaxis": {
            "backgroundcolor": "white",
            "gridcolor": "rgb(232,232,232)",
            "gridwidth": 2,
            "linecolor": "rgb(36,36,36)",
            "showbackground": true,
            "showgrid": false,
            "showline": true,
            "ticks": "outside",
            "zeroline": false,
            "zerolinecolor": "rgb(36,36,36)"
           }
          },
          "shapedefaults": {
           "fillcolor": "black",
           "line": {
            "width": 0
           },
           "opacity": 0.3
          },
          "ternary": {
           "aaxis": {
            "gridcolor": "rgb(232,232,232)",
            "linecolor": "rgb(36,36,36)",
            "showgrid": false,
            "showline": true,
            "ticks": "outside"
           },
           "baxis": {
            "gridcolor": "rgb(232,232,232)",
            "linecolor": "rgb(36,36,36)",
            "showgrid": false,
            "showline": true,
            "ticks": "outside"
           },
           "bgcolor": "white",
           "caxis": {
            "gridcolor": "rgb(232,232,232)",
            "linecolor": "rgb(36,36,36)",
            "showgrid": false,
            "showline": true,
            "ticks": "outside"
           }
          },
          "title": {
           "x": 0.05
          },
          "xaxis": {
           "automargin": true,
           "gridcolor": "rgb(232,232,232)",
           "linecolor": "rgb(36,36,36)",
           "showgrid": false,
           "showline": true,
           "ticks": "outside",
           "title": {
            "standoff": 15
           },
           "zeroline": false,
           "zerolinecolor": "rgb(36,36,36)"
          },
          "yaxis": {
           "automargin": true,
           "gridcolor": "rgb(232,232,232)",
           "linecolor": "rgb(36,36,36)",
           "showgrid": false,
           "showline": true,
           "ticks": "outside",
           "title": {
            "standoff": 15
           },
           "zeroline": false,
           "zerolinecolor": "rgb(36,36,36)"
          }
         }
        },
        "xaxis": {
         "gridcolor": "LightGrey",
         "gridwidth": 1,
         "showgrid": true,
         "title": {
          "text": "Wifi Manager"
         }
        },
        "yaxis": {
         "gridcolor": "LightGrey",
         "gridwidth": 1,
         "showgrid": true,
         "title": {
          "text": "Throughput (bps)"
         }
        }
       }
      },
      "text/html": [
       "<div>                            <div id=\"dbd24f3d-0036-4d26-a23e-4e495399969b\" class=\"plotly-graph-div\" style=\"height:525px; width:100%;\"></div>            <script type=\"text/javascript\">                require([\"plotly\"], function(Plotly) {                    window.PLOTLYENV=window.PLOTLYENV || {};                                    if (document.getElementById(\"dbd24f3d-0036-4d26-a23e-4e495399969b\")) {                    Plotly.newPlot(                        \"dbd24f3d-0036-4d26-a23e-4e495399969b\",                        [{\"boxmean\": true, \"name\": \"Isotropic Antenna\", \"type\": \"box\", \"x\": [\"ns3::IdealWifiManager 050\", \"ns3::IdealWifiManager 050\", \"ns3::IdealWifiManager 050\", \"ns3::IdealWifiManager 050\", \"ns3::IdealWifiManager 050\", \"ns3::IdealWifiManager 050\", \"ns3::IdealWifiManager 050\", \"ns3::IdealWifiManager 050\", \"ns3::IdealWifiManager 050\", \"ns3::IdealWifiManager 050\", \"ns3::IdealWifiManager 050\", \"ns3::IdealWifiManager 050\", \"ns3::IdealWifiManager 050\", \"ns3::IdealWifiManager 050\", \"ns3::IdealWifiManager 050\", \"ns3::IdealWifiManager 050\", \"ns3::IdealWifiManager 050\", \"ns3::IdealWifiManager 050\", \"ns3::IdealWifiManager 050\", \"ns3::IdealWifiManager 050\", \"ns3::IntelWifiManager 050\", \"ns3::IntelWifiManager 050\", \"ns3::IntelWifiManager 050\", \"ns3::IntelWifiManager 050\", \"ns3::IntelWifiManager 050\", \"ns3::IntelWifiManager 050\", \"ns3::IntelWifiManager 050\", \"ns3::IntelWifiManager 050\", \"ns3::IntelWifiManager 050\", \"ns3::IntelWifiManager 050\", \"ns3::IntelWifiManager 050\", \"ns3::IntelWifiManager 050\", \"ns3::IntelWifiManager 050\", \"ns3::IntelWifiManager 050\", \"ns3::IntelWifiManager 050\", \"ns3::IntelWifiManager 050\", \"ns3::IntelWifiManager 050\", \"ns3::IntelWifiManager 050\", \"ns3::IntelWifiManager 050\", \"ns3::IntelWifiManager 050\", \"ns3::MinstrelHtWifiManager 050\", \"ns3::MinstrelHtWifiManager 050\", \"ns3::MinstrelHtWifiManager 050\", \"ns3::MinstrelHtWifiManager 050\", \"ns3::MinstrelHtWifiManager 050\", \"ns3::MinstrelHtWifiManager 050\", \"ns3::MinstrelHtWifiManager 050\", \"ns3::MinstrelHtWifiManager 050\", \"ns3::MinstrelHtWifiManager 050\", \"ns3::MinstrelHtWifiManager 050\", \"ns3::MinstrelHtWifiManager 050\", \"ns3::MinstrelHtWifiManager 050\", \"ns3::MinstrelHtWifiManager 050\", \"ns3::MinstrelHtWifiManager 050\", \"ns3::MinstrelHtWifiManager 050\", \"ns3::MinstrelHtWifiManager 050\", \"ns3::MinstrelHtWifiManager 050\", \"ns3::MinstrelHtWifiManager 050\", \"ns3::MinstrelHtWifiManager 050\", \"ns3::MinstrelHtWifiManager 050\"], \"y\": [28237294.82828283, 28879695.151515152, 28652463.959595963, 28592913.696969695, 28128503.232323233, 28653356.646464646, 28295804.484848484, 28296611.15151515, 28313549.373737372, 28194003.91919192, 28576657.01010101, 28199488.484848484, 28547582.747474745, 28384449.21212121, 28165205.29292929, 28249535.636363633, 28446251.272727273, 28587640.727272727, 28294740.242424242, 28658244.12121212, 28656054.505050506, 28778680.6060606, 28704744.888888888, 28028255.393939395, 28737770.82828283, 28355756.969696973, 28291806.868686866, 28126058.38383838, 28263201.373737376, 28106037.49494949, 28167841.777777772, 28603283.636363633, 28315270.78787879, 28352484.767676767, 28273893.010101013, 28389142.626262624, 28628023.151515152, 28309320.202020206, 28593892.686868686, 28708974.545454543, 25135128.404040404, 23793881.17171717, 24641092.242424242, 25208277.252525255, 24155452.686868686, 24524838.262626264, 22268354.02020202, 24694178.74747475, 25004765.373737376, 24641685.97979798, 24149351.959595963, 25467963.313131314, 25681085.414141413, 26685605.050505053, 25336176.80808081, 23409084.484848484, 25612012.444444448, 24454006.18181818, 25616158.868686866, 24950253.858585857]}, {\"boxmean\": true, \"name\": \"AP-AC-Mesh Antenna\", \"type\": \"box\", \"x\": [\"ns3::IdealWifiManager 050\", \"ns3::IdealWifiManager 050\", \"ns3::IdealWifiManager 050\", \"ns3::IdealWifiManager 050\", \"ns3::IdealWifiManager 050\", \"ns3::IdealWifiManager 050\", \"ns3::IdealWifiManager 050\", \"ns3::IdealWifiManager 050\", \"ns3::IdealWifiManager 050\", \"ns3::IdealWifiManager 050\", \"ns3::IdealWifiManager 050\", \"ns3::IdealWifiManager 050\", \"ns3::IdealWifiManager 050\", \"ns3::IdealWifiManager 050\", \"ns3::IdealWifiManager 050\", \"ns3::IdealWifiManager 050\", \"ns3::IdealWifiManager 050\", \"ns3::IdealWifiManager 050\", \"ns3::IdealWifiManager 050\", \"ns3::IdealWifiManager 050\", \"ns3::IntelWifiManager 050\", \"ns3::IntelWifiManager 050\", \"ns3::IntelWifiManager 050\", \"ns3::IntelWifiManager 050\", \"ns3::IntelWifiManager 050\", \"ns3::IntelWifiManager 050\", \"ns3::IntelWifiManager 050\", \"ns3::IntelWifiManager 050\", \"ns3::IntelWifiManager 050\", \"ns3::IntelWifiManager 050\", \"ns3::IntelWifiManager 050\", \"ns3::IntelWifiManager 050\", \"ns3::IntelWifiManager 050\", \"ns3::IntelWifiManager 050\", \"ns3::IntelWifiManager 050\", \"ns3::IntelWifiManager 050\", \"ns3::IntelWifiManager 050\", \"ns3::IntelWifiManager 050\", \"ns3::IntelWifiManager 050\", \"ns3::IntelWifiManager 050\", \"ns3::MinstrelHtWifiManager 050\", \"ns3::MinstrelHtWifiManager 050\", \"ns3::MinstrelHtWifiManager 050\", \"ns3::MinstrelHtWifiManager 050\", \"ns3::MinstrelHtWifiManager 050\", \"ns3::MinstrelHtWifiManager 050\", \"ns3::MinstrelHtWifiManager 050\", \"ns3::MinstrelHtWifiManager 050\", \"ns3::MinstrelHtWifiManager 050\", \"ns3::MinstrelHtWifiManager 050\", \"ns3::MinstrelHtWifiManager 050\", \"ns3::MinstrelHtWifiManager 050\", \"ns3::MinstrelHtWifiManager 050\", \"ns3::MinstrelHtWifiManager 050\", \"ns3::MinstrelHtWifiManager 050\", \"ns3::MinstrelHtWifiManager 050\", \"ns3::MinstrelHtWifiManager 050\", \"ns3::MinstrelHtWifiManager 050\", \"ns3::MinstrelHtWifiManager 050\", \"ns3::MinstrelHtWifiManager 050\"], \"y\": [28611703.076923076, 28869448.51948052, 28554491.157894738, 28280285.085714288, 28492978.210526317, 28447269.0, 28403917.766233765, 28989951.36, 28675667.093333334, 28798627.04, 28289933.01333333, 28401864.901408453, 28853468.666666668, 28723013.62162162, 28650309.813333336, 28922723.35135135, 28765830.486486487, 28861480.736842107, 28577038.1025641, 28859396.467532467, 33200288.47368421, 33297960.586666666, 33425963.89189189, 33367223.68, 33671569.2987013, 34030712.800000004, 33877023.84415585, 33112461.808219176, 33725069.18918919, 33699479.06849315, 33745853.91780822, 33252401.6, 33224508.17391304, 33885793.5, 33874805.09589041, 33597959.222222224, 33982369.15789474, 33805243.473684214, 33813495.14666667, 33372218.666666664, 26585318.108108107, 27082909.01492537, 24452119.567567572, 26108646.89473684, 25836150.89473684, 26140615.23287671, 26239101.09589041, 26656516.10526316, 27694000.05479452, 24283472.547945205, 24305939.14666667, 24675740.64864865, 26459664.57142857, 25857198.057142857, 26833589.243243244, 25536364.49315069, 25885426.773333333, 25315105.36842105, 25658361.493333332, 26790605.479452055]}],                        {\"boxmode\": \"group\", \"legend\": {\"orientation\": \"h\"}, \"template\": {\"data\": {\"bar\": [{\"error_x\": {\"color\": \"rgb(36,36,36)\"}, \"error_y\": {\"color\": \"rgb(36,36,36)\"}, \"marker\": {\"line\": {\"color\": \"white\", \"width\": 0.5}}, \"type\": \"bar\"}], \"barpolar\": [{\"marker\": {\"line\": {\"color\": \"white\", \"width\": 0.5}}, \"type\": \"barpolar\"}], \"carpet\": [{\"aaxis\": {\"endlinecolor\": \"rgb(36,36,36)\", \"gridcolor\": \"white\", \"linecolor\": \"white\", \"minorgridcolor\": \"white\", \"startlinecolor\": \"rgb(36,36,36)\"}, \"baxis\": {\"endlinecolor\": \"rgb(36,36,36)\", \"gridcolor\": \"white\", \"linecolor\": \"white\", \"minorgridcolor\": \"white\", \"startlinecolor\": \"rgb(36,36,36)\"}, \"type\": \"carpet\"}], \"choropleth\": [{\"colorbar\": {\"outlinewidth\": 1, \"tickcolor\": \"rgb(36,36,36)\", \"ticks\": \"outside\"}, \"type\": \"choropleth\"}], \"contour\": [{\"colorbar\": {\"outlinewidth\": 1, \"tickcolor\": \"rgb(36,36,36)\", \"ticks\": \"outside\"}, \"colorscale\": [[0.0, \"#440154\"], [0.1111111111111111, \"#482878\"], [0.2222222222222222, \"#3e4989\"], [0.3333333333333333, \"#31688e\"], [0.4444444444444444, \"#26828e\"], [0.5555555555555556, \"#1f9e89\"], [0.6666666666666666, \"#35b779\"], [0.7777777777777778, \"#6ece58\"], [0.8888888888888888, \"#b5de2b\"], [1.0, \"#fde725\"]], \"type\": \"contour\"}], \"contourcarpet\": [{\"colorbar\": {\"outlinewidth\": 1, \"tickcolor\": \"rgb(36,36,36)\", \"ticks\": \"outside\"}, \"type\": \"contourcarpet\"}], \"heatmap\": [{\"colorbar\": {\"outlinewidth\": 1, \"tickcolor\": \"rgb(36,36,36)\", \"ticks\": \"outside\"}, \"colorscale\": [[0.0, \"#440154\"], [0.1111111111111111, \"#482878\"], [0.2222222222222222, \"#3e4989\"], [0.3333333333333333, \"#31688e\"], [0.4444444444444444, \"#26828e\"], [0.5555555555555556, \"#1f9e89\"], [0.6666666666666666, \"#35b779\"], [0.7777777777777778, \"#6ece58\"], [0.8888888888888888, \"#b5de2b\"], [1.0, \"#fde725\"]], \"type\": \"heatmap\"}], \"heatmapgl\": [{\"colorbar\": {\"outlinewidth\": 1, \"tickcolor\": \"rgb(36,36,36)\", \"ticks\": \"outside\"}, \"colorscale\": [[0.0, \"#440154\"], [0.1111111111111111, \"#482878\"], [0.2222222222222222, \"#3e4989\"], [0.3333333333333333, \"#31688e\"], [0.4444444444444444, \"#26828e\"], [0.5555555555555556, \"#1f9e89\"], [0.6666666666666666, \"#35b779\"], [0.7777777777777778, \"#6ece58\"], [0.8888888888888888, \"#b5de2b\"], [1.0, \"#fde725\"]], \"type\": \"heatmapgl\"}], \"histogram\": [{\"marker\": {\"line\": {\"color\": \"white\", \"width\": 0.6}}, \"type\": \"histogram\"}], \"histogram2d\": [{\"colorbar\": {\"outlinewidth\": 1, \"tickcolor\": \"rgb(36,36,36)\", \"ticks\": \"outside\"}, \"colorscale\": [[0.0, \"#440154\"], [0.1111111111111111, \"#482878\"], [0.2222222222222222, \"#3e4989\"], [0.3333333333333333, \"#31688e\"], [0.4444444444444444, \"#26828e\"], [0.5555555555555556, \"#1f9e89\"], [0.6666666666666666, \"#35b779\"], [0.7777777777777778, \"#6ece58\"], [0.8888888888888888, \"#b5de2b\"], [1.0, \"#fde725\"]], \"type\": \"histogram2d\"}], \"histogram2dcontour\": [{\"colorbar\": {\"outlinewidth\": 1, \"tickcolor\": \"rgb(36,36,36)\", \"ticks\": \"outside\"}, \"colorscale\": [[0.0, \"#440154\"], [0.1111111111111111, \"#482878\"], [0.2222222222222222, \"#3e4989\"], [0.3333333333333333, \"#31688e\"], [0.4444444444444444, \"#26828e\"], [0.5555555555555556, \"#1f9e89\"], [0.6666666666666666, \"#35b779\"], [0.7777777777777778, \"#6ece58\"], [0.8888888888888888, \"#b5de2b\"], [1.0, \"#fde725\"]], \"type\": \"histogram2dcontour\"}], \"mesh3d\": [{\"colorbar\": {\"outlinewidth\": 1, \"tickcolor\": \"rgb(36,36,36)\", \"ticks\": \"outside\"}, \"type\": \"mesh3d\"}], \"parcoords\": [{\"line\": {\"colorbar\": {\"outlinewidth\": 1, \"tickcolor\": \"rgb(36,36,36)\", \"ticks\": \"outside\"}}, \"type\": \"parcoords\"}], \"pie\": [{\"automargin\": true, \"type\": \"pie\"}], \"scatter\": [{\"marker\": {\"colorbar\": {\"outlinewidth\": 1, \"tickcolor\": \"rgb(36,36,36)\", \"ticks\": \"outside\"}}, \"type\": \"scatter\"}], \"scatter3d\": [{\"line\": {\"colorbar\": {\"outlinewidth\": 1, \"tickcolor\": \"rgb(36,36,36)\", \"ticks\": \"outside\"}}, \"marker\": {\"colorbar\": {\"outlinewidth\": 1, \"tickcolor\": \"rgb(36,36,36)\", \"ticks\": \"outside\"}}, \"type\": \"scatter3d\"}], \"scattercarpet\": [{\"marker\": {\"colorbar\": {\"outlinewidth\": 1, \"tickcolor\": \"rgb(36,36,36)\", \"ticks\": \"outside\"}}, \"type\": \"scattercarpet\"}], \"scattergeo\": [{\"marker\": {\"colorbar\": {\"outlinewidth\": 1, \"tickcolor\": \"rgb(36,36,36)\", \"ticks\": \"outside\"}}, \"type\": \"scattergeo\"}], \"scattergl\": [{\"marker\": {\"colorbar\": {\"outlinewidth\": 1, \"tickcolor\": \"rgb(36,36,36)\", \"ticks\": \"outside\"}}, \"type\": \"scattergl\"}], \"scattermapbox\": [{\"marker\": {\"colorbar\": {\"outlinewidth\": 1, \"tickcolor\": \"rgb(36,36,36)\", \"ticks\": \"outside\"}}, \"type\": \"scattermapbox\"}], \"scatterpolar\": [{\"marker\": {\"colorbar\": {\"outlinewidth\": 1, \"tickcolor\": \"rgb(36,36,36)\", \"ticks\": \"outside\"}}, \"type\": \"scatterpolar\"}], \"scatterpolargl\": [{\"marker\": {\"colorbar\": {\"outlinewidth\": 1, \"tickcolor\": \"rgb(36,36,36)\", \"ticks\": \"outside\"}}, \"type\": \"scatterpolargl\"}], \"scatterternary\": [{\"marker\": {\"colorbar\": {\"outlinewidth\": 1, \"tickcolor\": \"rgb(36,36,36)\", \"ticks\": \"outside\"}}, \"type\": \"scatterternary\"}], \"surface\": [{\"colorbar\": {\"outlinewidth\": 1, \"tickcolor\": \"rgb(36,36,36)\", \"ticks\": \"outside\"}, \"colorscale\": [[0.0, \"#440154\"], [0.1111111111111111, \"#482878\"], [0.2222222222222222, \"#3e4989\"], [0.3333333333333333, \"#31688e\"], [0.4444444444444444, \"#26828e\"], [0.5555555555555556, \"#1f9e89\"], [0.6666666666666666, \"#35b779\"], [0.7777777777777778, \"#6ece58\"], [0.8888888888888888, \"#b5de2b\"], [1.0, \"#fde725\"]], \"type\": \"surface\"}], \"table\": [{\"cells\": {\"fill\": {\"color\": \"rgb(237,237,237)\"}, \"line\": {\"color\": \"white\"}}, \"header\": {\"fill\": {\"color\": \"rgb(217,217,217)\"}, \"line\": {\"color\": \"white\"}}, \"type\": \"table\"}]}, \"layout\": {\"annotationdefaults\": {\"arrowhead\": 0, \"arrowwidth\": 1}, \"autotypenumbers\": \"strict\", \"coloraxis\": {\"colorbar\": {\"outlinewidth\": 1, \"tickcolor\": \"rgb(36,36,36)\", \"ticks\": \"outside\"}}, \"colorscale\": {\"diverging\": [[0.0, \"rgb(103,0,31)\"], [0.1, \"rgb(178,24,43)\"], [0.2, \"rgb(214,96,77)\"], [0.3, \"rgb(244,165,130)\"], [0.4, \"rgb(253,219,199)\"], [0.5, \"rgb(247,247,247)\"], [0.6, \"rgb(209,229,240)\"], [0.7, \"rgb(146,197,222)\"], [0.8, \"rgb(67,147,195)\"], [0.9, \"rgb(33,102,172)\"], [1.0, \"rgb(5,48,97)\"]], \"sequential\": [[0.0, \"#440154\"], [0.1111111111111111, \"#482878\"], [0.2222222222222222, \"#3e4989\"], [0.3333333333333333, \"#31688e\"], [0.4444444444444444, \"#26828e\"], [0.5555555555555556, \"#1f9e89\"], [0.6666666666666666, \"#35b779\"], [0.7777777777777778, \"#6ece58\"], [0.8888888888888888, \"#b5de2b\"], [1.0, \"#fde725\"]], \"sequentialminus\": [[0.0, \"#440154\"], [0.1111111111111111, \"#482878\"], [0.2222222222222222, \"#3e4989\"], [0.3333333333333333, \"#31688e\"], [0.4444444444444444, \"#26828e\"], [0.5555555555555556, \"#1f9e89\"], [0.6666666666666666, \"#35b779\"], [0.7777777777777778, \"#6ece58\"], [0.8888888888888888, \"#b5de2b\"], [1.0, \"#fde725\"]]}, \"colorway\": [\"#1F77B4\", \"#FF7F0E\", \"#2CA02C\", \"#D62728\", \"#9467BD\", \"#8C564B\", \"#E377C2\", \"#7F7F7F\", \"#BCBD22\", \"#17BECF\"], \"font\": {\"color\": \"rgb(36,36,36)\"}, \"geo\": {\"bgcolor\": \"white\", \"lakecolor\": \"white\", \"landcolor\": \"white\", \"showlakes\": true, \"showland\": true, \"subunitcolor\": \"white\"}, \"hoverlabel\": {\"align\": \"left\"}, \"hovermode\": \"closest\", \"mapbox\": {\"style\": \"light\"}, \"paper_bgcolor\": \"white\", \"plot_bgcolor\": \"white\", \"polar\": {\"angularaxis\": {\"gridcolor\": \"rgb(232,232,232)\", \"linecolor\": \"rgb(36,36,36)\", \"showgrid\": false, \"showline\": true, \"ticks\": \"outside\"}, \"bgcolor\": \"white\", \"radialaxis\": {\"gridcolor\": \"rgb(232,232,232)\", \"linecolor\": \"rgb(36,36,36)\", \"showgrid\": false, \"showline\": true, \"ticks\": \"outside\"}}, \"scene\": {\"xaxis\": {\"backgroundcolor\": \"white\", \"gridcolor\": \"rgb(232,232,232)\", \"gridwidth\": 2, \"linecolor\": \"rgb(36,36,36)\", \"showbackground\": true, \"showgrid\": false, \"showline\": true, \"ticks\": \"outside\", \"zeroline\": false, \"zerolinecolor\": \"rgb(36,36,36)\"}, \"yaxis\": {\"backgroundcolor\": \"white\", \"gridcolor\": \"rgb(232,232,232)\", \"gridwidth\": 2, \"linecolor\": \"rgb(36,36,36)\", \"showbackground\": true, \"showgrid\": false, \"showline\": true, \"ticks\": \"outside\", \"zeroline\": false, \"zerolinecolor\": \"rgb(36,36,36)\"}, \"zaxis\": {\"backgroundcolor\": \"white\", \"gridcolor\": \"rgb(232,232,232)\", \"gridwidth\": 2, \"linecolor\": \"rgb(36,36,36)\", \"showbackground\": true, \"showgrid\": false, \"showline\": true, \"ticks\": \"outside\", \"zeroline\": false, \"zerolinecolor\": \"rgb(36,36,36)\"}}, \"shapedefaults\": {\"fillcolor\": \"black\", \"line\": {\"width\": 0}, \"opacity\": 0.3}, \"ternary\": {\"aaxis\": {\"gridcolor\": \"rgb(232,232,232)\", \"linecolor\": \"rgb(36,36,36)\", \"showgrid\": false, \"showline\": true, \"ticks\": \"outside\"}, \"baxis\": {\"gridcolor\": \"rgb(232,232,232)\", \"linecolor\": \"rgb(36,36,36)\", \"showgrid\": false, \"showline\": true, \"ticks\": \"outside\"}, \"bgcolor\": \"white\", \"caxis\": {\"gridcolor\": \"rgb(232,232,232)\", \"linecolor\": \"rgb(36,36,36)\", \"showgrid\": false, \"showline\": true, \"ticks\": \"outside\"}}, \"title\": {\"x\": 0.05}, \"xaxis\": {\"automargin\": true, \"gridcolor\": \"rgb(232,232,232)\", \"linecolor\": \"rgb(36,36,36)\", \"showgrid\": false, \"showline\": true, \"ticks\": \"outside\", \"title\": {\"standoff\": 15}, \"zeroline\": false, \"zerolinecolor\": \"rgb(36,36,36)\"}, \"yaxis\": {\"automargin\": true, \"gridcolor\": \"rgb(232,232,232)\", \"linecolor\": \"rgb(36,36,36)\", \"showgrid\": false, \"showline\": true, \"ticks\": \"outside\", \"title\": {\"standoff\": 15}, \"zeroline\": false, \"zerolinecolor\": \"rgb(36,36,36)\"}}}, \"xaxis\": {\"gridcolor\": \"LightGrey\", \"gridwidth\": 1, \"showgrid\": true, \"title\": {\"text\": \"Wifi Manager\"}}, \"yaxis\": {\"gridcolor\": \"LightGrey\", \"gridwidth\": 1, \"showgrid\": true, \"title\": {\"text\": \"Throughput (bps)\"}}},                        {\"responsive\": true}                    ).then(function(){\n",
       "                            \n",
       "var gd = document.getElementById('dbd24f3d-0036-4d26-a23e-4e495399969b');\n",
       "var x = new MutationObserver(function (mutations, observer) {{\n",
       "        var display = window.getComputedStyle(gd).display;\n",
       "        if (!display || display === 'none') {{\n",
       "            console.log([gd, 'removed!']);\n",
       "            Plotly.purge(gd);\n",
       "            observer.disconnect();\n",
       "        }}\n",
       "}});\n",
       "\n",
       "// Listen for the removal of the full notebook cells\n",
       "var notebookContainer = gd.closest('#notebook-container');\n",
       "if (notebookContainer) {{\n",
       "    x.observe(notebookContainer, {childList: true});\n",
       "}}\n",
       "\n",
       "// Listen for the clearing of the current output cell\n",
       "var outputEl = gd.closest('.output');\n",
       "if (outputEl) {{\n",
       "    x.observe(outputEl, {childList: true});\n",
       "}}\n",
       "\n",
       "                        })                };                });            </script>        </div>"
      ]
     },
     "metadata": {},
     "output_type": "display_data"
    }
   ],
   "source": [
    "radius = '100'\n",
    "filtered = full[(full['distance'] == radius)]\n",
    "filtered = filtered[(filtered['N'] == '5')]\n",
    "filtered['cross'] = filtered['wifiManager'] + \" \" + filtered['dataRate'].apply(lambda x: str('{num:03d}'.format(num=int(x.rstrip(\"Mbps\")))))\n",
    "filtered = filtered.sort_values(by=['cross'])\n",
    "drone = filtered[(filtered['agentType'] == 'Drone')]\n",
    "client = filtered[(filtered['agentType'] == 'Client')]\n",
    "\n",
    "\n",
    "fig = go.Figure(data=data, layout=layout)\n",
    "\n",
    "trace0 = go.Box(\n",
    "    y=(client['Throughput']),\n",
    "    x=client['cross'],\n",
    "    name='Isotropic Antenna',\n",
    "    boxmean=True\n",
    ")\n",
    "\n",
    "trace1 = go.Box(\n",
    "    y=(drone['Throughput']),\n",
    "    x=drone['cross'],\n",
    "    name='AP-AC-Mesh Antenna',\n",
    "    boxmean=True\n",
    ")\n",
    "\n",
    "\n",
    "data = [trace0, trace1]\n",
    "layout = go.Layout(\n",
    "    template = \"simple_white\",\n",
    "    xaxis_title=\"Wifi Manager\",\n",
    "    yaxis=go.layout.YAxis(\n",
    "        title='Throughput (bps)',\n",
    "    ),\n",
    "    boxmode='group'\n",
    ")\n",
    "\n",
    "fig = go.Figure(data=data, layout=layout)\n",
    "fig.update_layout(legend_orientation=\"h\")\n",
    "fig.update_xaxes(showgrid=True, gridwidth=1, gridcolor='LightGrey')\n",
    "fig.update_yaxes(showgrid=True, gridwidth=1, gridcolor='LightGrey')\n",
    "fig.show()\n",
    "fig.write_image(\"100m_sink_comparison_3dB.png\")"
   ]
  },
  {
   "cell_type": "code",
   "execution_count": 21,
   "metadata": {},
   "outputs": [
    {
     "data": {
      "text/plain": [
       "{'100'}"
      ]
     },
     "execution_count": 21,
     "metadata": {},
     "output_type": "execute_result"
    }
   ],
   "source": [
    "set(mads['distance'])"
   ]
  },
  {
   "cell_type": "code",
   "execution_count": 22,
   "metadata": {},
   "outputs": [
    {
     "data": {
      "text/html": [
       "<div>\n",
       "<style scoped>\n",
       "    .dataframe tbody tr th:only-of-type {\n",
       "        vertical-align: middle;\n",
       "    }\n",
       "\n",
       "    .dataframe tbody tr th {\n",
       "        vertical-align: top;\n",
       "    }\n",
       "\n",
       "    .dataframe thead th {\n",
       "        text-align: right;\n",
       "    }\n",
       "</style>\n",
       "<table border=\"1\" class=\"dataframe\">\n",
       "  <thead>\n",
       "    <tr style=\"text-align: right;\">\n",
       "      <th></th>\n",
       "      <th>N</th>\n",
       "      <th>distance</th>\n",
       "      <th>wifiManager</th>\n",
       "      <th>dataRate</th>\n",
       "      <th>simulationTime</th>\n",
       "      <th>agentType</th>\n",
       "      <th>count</th>\n",
       "      <th>mean</th>\n",
       "      <th>std</th>\n",
       "      <th>min</th>\n",
       "      <th>25%</th>\n",
       "      <th>50%</th>\n",
       "      <th>75%</th>\n",
       "      <th>max</th>\n",
       "    </tr>\n",
       "  </thead>\n",
       "  <tbody>\n",
       "    <tr>\n",
       "      <th>0</th>\n",
       "      <td>5</td>\n",
       "      <td>100</td>\n",
       "      <td>ns3::IdealWifiManager</td>\n",
       "      <td>50Mbps</td>\n",
       "      <td>100</td>\n",
       "      <td>Client</td>\n",
       "      <td>20.00</td>\n",
       "      <td>0.92</td>\n",
       "      <td>0.06</td>\n",
       "      <td>0.82</td>\n",
       "      <td>0.87</td>\n",
       "      <td>0.92</td>\n",
       "      <td>0.99</td>\n",
       "      <td>1.00</td>\n",
       "    </tr>\n",
       "    <tr>\n",
       "      <th>1</th>\n",
       "      <td>5</td>\n",
       "      <td>100</td>\n",
       "      <td>ns3::IdealWifiManager</td>\n",
       "      <td>50Mbps</td>\n",
       "      <td>100</td>\n",
       "      <td>Drone</td>\n",
       "      <td>20.00</td>\n",
       "      <td>0.95</td>\n",
       "      <td>0.05</td>\n",
       "      <td>0.86</td>\n",
       "      <td>0.92</td>\n",
       "      <td>0.97</td>\n",
       "      <td>0.99</td>\n",
       "      <td>1.00</td>\n",
       "    </tr>\n",
       "    <tr>\n",
       "      <th>2</th>\n",
       "      <td>5</td>\n",
       "      <td>100</td>\n",
       "      <td>ns3::IntelWifiManager</td>\n",
       "      <td>50Mbps</td>\n",
       "      <td>100</td>\n",
       "      <td>Client</td>\n",
       "      <td>20.00</td>\n",
       "      <td>0.93</td>\n",
       "      <td>0.05</td>\n",
       "      <td>0.87</td>\n",
       "      <td>0.89</td>\n",
       "      <td>0.92</td>\n",
       "      <td>0.98</td>\n",
       "      <td>1.00</td>\n",
       "    </tr>\n",
       "    <tr>\n",
       "      <th>3</th>\n",
       "      <td>5</td>\n",
       "      <td>100</td>\n",
       "      <td>ns3::IntelWifiManager</td>\n",
       "      <td>50Mbps</td>\n",
       "      <td>100</td>\n",
       "      <td>Drone</td>\n",
       "      <td>20.00</td>\n",
       "      <td>0.95</td>\n",
       "      <td>0.06</td>\n",
       "      <td>0.83</td>\n",
       "      <td>0.90</td>\n",
       "      <td>0.97</td>\n",
       "      <td>0.99</td>\n",
       "      <td>1.00</td>\n",
       "    </tr>\n",
       "    <tr>\n",
       "      <th>4</th>\n",
       "      <td>5</td>\n",
       "      <td>100</td>\n",
       "      <td>ns3::MinstrelHtWifiManager</td>\n",
       "      <td>50Mbps</td>\n",
       "      <td>100</td>\n",
       "      <td>Client</td>\n",
       "      <td>20.00</td>\n",
       "      <td>0.96</td>\n",
       "      <td>0.03</td>\n",
       "      <td>0.90</td>\n",
       "      <td>0.95</td>\n",
       "      <td>0.97</td>\n",
       "      <td>0.99</td>\n",
       "      <td>1.00</td>\n",
       "    </tr>\n",
       "    <tr>\n",
       "      <th>5</th>\n",
       "      <td>5</td>\n",
       "      <td>100</td>\n",
       "      <td>ns3::MinstrelHtWifiManager</td>\n",
       "      <td>50Mbps</td>\n",
       "      <td>100</td>\n",
       "      <td>Drone</td>\n",
       "      <td>20.00</td>\n",
       "      <td>0.96</td>\n",
       "      <td>0.03</td>\n",
       "      <td>0.88</td>\n",
       "      <td>0.95</td>\n",
       "      <td>0.97</td>\n",
       "      <td>0.98</td>\n",
       "      <td>1.00</td>\n",
       "    </tr>\n",
       "  </tbody>\n",
       "</table>\n",
       "</div>"
      ],
      "text/plain": [
       "   N distance                 wifiManager dataRate simulationTime agentType  \\\n",
       "0  5      100       ns3::IdealWifiManager   50Mbps            100    Client   \n",
       "1  5      100       ns3::IdealWifiManager   50Mbps            100     Drone   \n",
       "2  5      100       ns3::IntelWifiManager   50Mbps            100    Client   \n",
       "3  5      100       ns3::IntelWifiManager   50Mbps            100     Drone   \n",
       "4  5      100  ns3::MinstrelHtWifiManager   50Mbps            100    Client   \n",
       "5  5      100  ns3::MinstrelHtWifiManager   50Mbps            100     Drone   \n",
       "\n",
       "   count  mean  std  min  25%  50%  75%  max  \n",
       "0  20.00  0.92 0.06 0.82 0.87 0.92 0.99 1.00  \n",
       "1  20.00  0.95 0.05 0.86 0.92 0.97 0.99 1.00  \n",
       "2  20.00  0.93 0.05 0.87 0.89 0.92 0.98 1.00  \n",
       "3  20.00  0.95 0.06 0.83 0.90 0.97 0.99 1.00  \n",
       "4  20.00  0.96 0.03 0.90 0.95 0.97 0.99 1.00  \n",
       "5  20.00  0.96 0.03 0.88 0.95 0.97 0.98 1.00  "
      ]
     },
     "execution_count": 22,
     "metadata": {},
     "output_type": "execute_result"
    }
   ],
   "source": [
    "pd.options.display.float_format = \"{:.2f}\".format\n",
    "mads['N'] = pd.to_numeric(mads['N'])\n",
    "a=mads.copy()\n",
    "a=a[a['dataRate'] == '50Mbps']\n",
    "a.groupby(['N', 'distance', 'wifiManager', 'dataRate', 'simulationTime', 'agentType']).describe()['Jain'].reset_index()"
   ]
  },
  {
   "cell_type": "code",
   "execution_count": null,
   "metadata": {},
   "outputs": [],
   "source": []
  }
 ],
 "metadata": {
  "kernelspec": {
   "display_name": "Python 3",
   "language": "python",
   "name": "python3"
  },
  "language_info": {
   "codemirror_mode": {
    "name": "ipython",
    "version": 3
   },
   "file_extension": ".py",
   "mimetype": "text/x-python",
   "name": "python",
   "nbconvert_exporter": "python",
   "pygments_lexer": "ipython3",
   "version": "3.8.8"
  }
 },
 "nbformat": 4,
 "nbformat_minor": 4
}
