{
 "cells": [
  {
   "cell_type": "code",
   "execution_count": null,
   "metadata": {},
   "outputs": [],
   "source": [
    "import pandas as pd\n",
    "import numpy as np\n",
    "import matplotlib.pyplot as plt\n",
    "import glob \n",
    "import os\n",
    "import plotly.graph_objects as go\n",
    "import plotly.express as px\n",
    "import plotly\n",
    "import pathlib\n",
    "plotly.io.orca.config.executable = str(pathlib.Path().absolute()) + '/bins/orca'\n",
    "print(plotly.io.orca.config.executable)"
   ]
  },
  {
   "cell_type": "code",
   "execution_count": null,
   "metadata": {},
   "outputs": [],
   "source": [
    "filenames = list(glob.iglob(\"../OUTPUT/Simple/*.csv\"))\n",
    "print(len(filenames))"
   ]
  },
  {
   "cell_type": "code",
   "execution_count": null,
   "metadata": {},
   "outputs": [],
   "source": [
    "pd_dataframes = {'continuous': [], 'phi': [], 'summary': [], 'positions': [], 'initialpositions': [], 'finished': [], 'lost': []}\n",
    "for filename in filenames:\n",
    "    full_path = os.path.abspath(filename)\n",
    "    path = os.path.dirname(full_path)\n",
    "    basename = os.path.basename(filename)\n",
    "    finished_filename = path + \"/\" + \"finished_\" + \"_\".join(basename.split(\"_\")[1:])\n",
    "    #if not os.path.isfile(finished_filename):\n",
    "    #    print(\"%s does not exist ! \" % os.path.basename(finished_filename))\n",
    "    #    print(\"%s does exist\" % basename)\n",
    "    #    continue\n",
    "    try:\n",
    "        data_file_delimiter = ','\n",
    "        header = []\n",
    "        with open(full_path, 'r') as temp_f:\n",
    "            header = temp_f.readline().rstrip('\\n').split(data_file_delimiter) + ['empty']\n",
    "        df = pd.read_csv(full_path, names=header, skiprows=1)\n",
    "        basename = os.path.basename(filename)\n",
    "        name = basename.split(\"_\")[0]\n",
    "        arguments = basename.rstrip(\".csv\").split(\"_\")[3:]\n",
    "        it = iter(arguments)\n",
    "        for val in it:\n",
    "            parameter = val.split(\"=\")[0]\n",
    "            value = val.split(\"=\")[1]\n",
    "            df[parameter] = value\n",
    "        pd_dataframes[name].append(df)\n",
    "    except Exception as e:\n",
    "        print(e)\n",
    "        #print(full_path)\n",
    "        print(\"Error: \"+ full_path)"
   ]
  },
  {
   "cell_type": "code",
   "execution_count": null,
   "metadata": {},
   "outputs": [],
   "source": [
    "dfo = {}\n",
    "for name in pd_dataframes:\n",
    "    if(pd_dataframes[name]):\n",
    "        dfo[name] = pd.concat(pd_dataframes[name])\n",
    "df = dfo.copy()"
   ]
  },
  {
   "cell_type": "code",
   "execution_count": null,
   "metadata": {},
   "outputs": [],
   "source": [
    "df['continuous']['Throughput'] = (df['continuous']['Rx Bytes']*8)"
   ]
  },
  {
   "cell_type": "code",
   "execution_count": null,
   "metadata": {},
   "outputs": [],
   "source": [
    "df['continuous']"
   ]
  },
  {
   "cell_type": "code",
   "execution_count": null,
   "metadata": {},
   "outputs": [],
   "source": [
    "common_columns = ['N', 'distance', 'wifiManager', 'simulationTime', 'antennaGain', 'agentType', 'dataRate', 'udp', 'RngRun']\n",
    "df['positions'] = df['positions'].set_index(common_columns)\n",
    "new_df = df['continuous'].join(df['positions'], how='left', on=common_columns, lsuffix='_left', rsuffix='_right')\n",
    "df['summary'] = df['summary'].set_index(common_columns + ['Flow', 'Source Address', 'Destination Address'])\n",
    "new_df = new_df.join(df['summary'], how='left', on=common_columns + ['Flow', 'Source Address', 'Destination Address'], rsuffix='_total')"
   ]
  },
  {
   "cell_type": "code",
   "execution_count": null,
   "metadata": {},
   "outputs": [],
   "source": [
    "convergence_time = []\n",
    "g = None\n",
    "for name, group in new_df.groupby(common_columns + ['Flow']):\n",
    "    antenna_convergence = group['last_change'].mean()\n",
    "    throughput_convergence = None\n",
    "    full_rx = None\n",
    "    g = group\n",
    "    for agent_id, agent_group in group.groupby(['agent_id']):\n",
    "        if agent_id == 0:\n",
    "            low, high = 0.95*(agent_group['Rx Bytes'].values[-1]), 1.05*(agent_group['Rx Bytes'].values[-1])\n",
    "            agent_group['between'] = agent_group['Rx Bytes'].between(low, high)\n",
    "            agent_group['between'] = ~agent_group['between']\n",
    "            k = agent_group['between'][agent_group['between']].index.max()\n",
    "            #k = agent_group['between'][agent_group['between']==False].last_valid_index()\n",
    "            #print(k)\n",
    "            if (k is None) or (pd.isna(k)):\n",
    "                throughput_convergence = 0\n",
    "            else:\n",
    "                throughput_convergence = agent_group.loc[k]['Time']\n",
    "            if name[4] == \"Drone\":\n",
    "                full_rx = agent_group[agent_group['Time'] >= antenna_convergence]['Throughput'].mean()\n",
    "            else:\n",
    "                full_rx = agent_group['Throughput'].mean()\n",
    "    convergence_time.append(list(name) + [throughput_convergence, antenna_convergence, full_rx])"
   ]
  },
  {
   "cell_type": "code",
   "execution_count": null,
   "metadata": {},
   "outputs": [],
   "source": [
    "conv = pd.DataFrame(convergence_time, columns=common_columns + ['Flow', 'Throughput Converge', 'Antenna Converge', 'Throughput'])\n",
    "full = conv.copy()\n",
    "description = conv.groupby(['wifiManager']).describe()"
   ]
  },
  {
   "cell_type": "markdown",
   "metadata": {},
   "source": [
    "# Comparaison du temps de convergence - Scénario Simple"
   ]
  },
  {
   "cell_type": "code",
   "execution_count": null,
   "metadata": {},
   "outputs": [],
   "source": [
    "# import plotly.express as px\n",
    "\n",
    "distance = '100'\n",
    "filtered = conv[(conv['distance'] == distance) & (conv['antennaGain'] == \"3.0\") & (conv['agentType'] == \"Drone\")]\n",
    "\n",
    "trace0 = go.Box(\n",
    "    y=filtered['Antenna Converge'],\n",
    "    x=filtered['wifiManager'],\n",
    "    name='Orientation Convergence Time',\n",
    "    boxmean=True\n",
    ")\n",
    "\n",
    "trace1 = go.Box(\n",
    "    y=filtered['Throughput Converge'],\n",
    "    x=filtered['wifiManager'],\n",
    "    name='Throughput Convergence Time',\n",
    "    boxmean=True\n",
    ")\n",
    "\n",
    "data = [trace0, trace1]\n",
    "layout = go.Layout(\n",
    "    #title = \"foo\",\n",
    "    template = \"simple_white\",\n",
    "    xaxis_title=\"Wifi Manager\",\n",
    "    yaxis=go.layout.YAxis(\n",
    "        title='Time (s)',\n",
    "        range=[-5, max(filtered['Throughput Converge'].max()*1.05, filtered['Antenna Converge'].max()*1.05)],\n",
    "        zeroline=False\n",
    "    ),\n",
    "    boxmode='group'\n",
    ")\n",
    "\n",
    "fig = go.Figure(data=data, layout=layout)\n",
    "fig.update_layout(legend_orientation=\"h\")\n",
    "fig.update_xaxes(showgrid=True, gridwidth=1, gridcolor='LightGrey')\n",
    "fig.update_yaxes(showgrid=True, gridwidth=1, gridcolor='LightGrey')\n",
    "fig.show()\n",
    "fig.write_image(\"convergence_simple_3dB.png\")"
   ]
  },
  {
   "cell_type": "markdown",
   "metadata": {},
   "source": [
    "# Comparaison du débit final"
   ]
  },
  {
   "cell_type": "markdown",
   "metadata": {},
   "source": [
    "## 3dB"
   ]
  },
  {
   "cell_type": "code",
   "execution_count": null,
   "metadata": {},
   "outputs": [],
   "source": [
    "radius = '100'\n",
    "filtered = conv[(conv['distance'] == distance) & (conv['antennaGain'] == \"3.0\")]\n",
    "print(set(filtered['N']))\n",
    "filtered = filtered[(filtered['N'] == '2')]\n",
    "print(set(filtered['dataRate']))\n",
    "filtered = filtered[(filtered['dataRate'] == '180Mbps')]\n",
    "drone = filtered[(filtered['agentType'] == 'Drone')]\n",
    "client = filtered[(filtered['agentType'] == 'Client')]\n",
    "\n",
    "trace0 = go.Box(\n",
    "    y=(client['Throughput']),\n",
    "    x=client['wifiManager'],\n",
    "    name='Client',\n",
    "    boxmean=True\n",
    ")\n",
    "\n",
    "trace1 = go.Box(\n",
    "    y=(drone['Throughput']),\n",
    "    x=drone['wifiManager'],\n",
    "    name='Drone',\n",
    "    boxmean=True\n",
    ")\n",
    "\n",
    "\n",
    "data = [trace0, trace1]\n",
    "layout = go.Layout(\n",
    "    template = \"simple_white\",\n",
    "    xaxis_title=\"Wifi Manager\",\n",
    "    yaxis=go.layout.YAxis(\n",
    "        title='Throughput (bps)',\n",
    "    ),\n",
    "    boxmode='group',)\n",
    "\n",
    "fig = go.Figure(data=data, layout=layout)\n",
    "fig.update_layout(legend_orientation=\"h\")\n",
    "fig.update_xaxes(showgrid=True, gridwidth=1, gridcolor='LightGrey')\n",
    "fig.update_yaxes(showgrid=True, gridwidth=1, gridcolor='LightGrey')\n",
    "fig.show()\n",
    "fig.write_image(\"débit_simple_3dB.png\")"
   ]
  },
  {
   "cell_type": "code",
   "execution_count": null,
   "metadata": {
    "scrolled": false
   },
   "outputs": [],
   "source": [
    "i = 0\n",
    "\n",
    "for name, group in df['continuous'].groupby(['N', 'distance', 'dataRate', 'RngRun', 'antennaGain']):\n",
    "    fig = go.Figure()\n",
    "    for wifiManager in sorted(set(group['wifiManager'])):\n",
    "        for agentType in sorted(set(group['agentType'])):\n",
    "            local = group[(group['wifiManager'] == wifiManager) & (group['agentType'] == agentType)]\n",
    "            str_group = name + (wifiManager, agentType)\n",
    "            fig.add_trace(go.Scatter(x=local[\"Time\"], y=local[\"Rx Bytes\"]*8, name=\" \".join(str_group)))\n",
    "    fig.update_layout(\n",
    "        title=\"\", template=\"simple_white\"\n",
    "    )\n",
    "    fig.update_layout(legend_orientation=\"h\")\n",
    "    fig.update_xaxes(title=\"Time (s)\", showgrid=True, gridwidth=1, gridcolor='LightGrey')\n",
    "    fig.update_yaxes(title=\"Throughput (bps)\", showgrid=True, gridwidth=1, gridcolor='LightGrey')\n",
    "    fig.show()\n",
    "    if (i == 3):\n",
    "        print(\"Writing the figure\")\n",
    "        fig.write_image(\"evolution.png\")\n",
    "        break\n",
    "    i += 1"
   ]
  },
  {
   "cell_type": "markdown",
   "metadata": {},
   "source": [
    "# FIN"
   ]
  }
 ],
 "metadata": {
  "kernelspec": {
   "display_name": "Python 3",
   "language": "python",
   "name": "python3"
  },
  "language_info": {
   "codemirror_mode": {
    "name": "ipython",
    "version": 3
   },
   "file_extension": ".py",
   "mimetype": "text/x-python",
   "name": "python",
   "nbconvert_exporter": "python",
   "pygments_lexer": "ipython3",
   "version": "3.8.8"
  }
 },
 "nbformat": 4,
 "nbformat_minor": 4
}
